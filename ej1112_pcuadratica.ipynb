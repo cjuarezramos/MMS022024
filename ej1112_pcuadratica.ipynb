{
 "cells": [
  {
   "cell_type": "code",
   "execution_count": 7,
   "metadata": {},
   "outputs": [
    {
     "name": "stderr",
     "output_type": "stream",
     "text": [
      "/opt/anaconda3/lib/python3.12/site-packages/scipy/optimize/_minimize.py:640: OptimizeWarning: Equality and inequality constraints are specified in the same element of the constraint list. For efficient use with this method, equality and inequality constraints should be specified in separate elements of the constraint list. \n",
      "  constraints = standardize_constraints(constraints, x0, meth)\n"
     ]
    }
   ],
   "source": [
    "# Ejemplo de generadores\n",
    "from scipy.optimize import minimize, LinearConstraint\n",
    "\n",
    "def f(P):\n",
    "    C1 = 510 + 7.92*P[0] + 0.00142*P[0]**2\n",
    "    C2 = 310 + 7.85*P[1] + 0.00194*P[1]**2\n",
    "    C3 = 78 + 7.97*P[2] + 0.00482*P[2]**2\n",
    "\n",
    "    z = 0.9 * (C1 + C2 + C3)\n",
    "    return z\n",
    "A = [[1,1,1],[1,0,0],[0,1,0],[0,0,1]]\n",
    "lb = [1100,0,0,0]\n",
    "ub = [1100,600,400,200]\n",
    "c = LinearConstraint(A,lb,ub)\n",
    "\n",
    "res = minimize(f,[0,0,0],constraints=c)"
   ]
  },
  {
   "cell_type": "code",
   "execution_count": 8,
   "metadata": {},
   "outputs": [
    {
     "data": {
      "text/plain": [
       " message: Optimization terminated successfully\n",
       " success: True\n",
       "  status: 0\n",
       "     fun: 9393.952932693526\n",
       "       x: [ 5.447e+02  4.000e+02  1.553e+02]\n",
       "     nit: 8\n",
       "     jac: [ 8.520e+00  8.462e+00  8.520e+00]\n",
       "    nfev: 33\n",
       "    njev: 8"
      ]
     },
     "execution_count": 8,
     "metadata": {},
     "output_type": "execute_result"
    }
   ],
   "source": [
    "res"
   ]
  }
 ],
 "metadata": {
  "kernelspec": {
   "display_name": "base",
   "language": "python",
   "name": "python3"
  },
  "language_info": {
   "codemirror_mode": {
    "name": "ipython",
    "version": 3
   },
   "file_extension": ".py",
   "mimetype": "text/x-python",
   "name": "python",
   "nbconvert_exporter": "python",
   "pygments_lexer": "ipython3",
   "version": "3.12.4"
  }
 },
 "nbformat": 4,
 "nbformat_minor": 2
}
