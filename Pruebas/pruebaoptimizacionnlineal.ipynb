{
 "cells": [
  {
   "cell_type": "code",
   "execution_count": null,
   "metadata": {},
   "outputs": [],
   "source": [
    "import control as ct \n",
    "import numpy as np \n",
    "from scipy.optimize import minimize,NonlinearConstraint,Bounds"
   ]
  },
  {
   "cell_type": "code",
   "execution_count": 54,
   "metadata": {},
   "outputs": [],
   "source": [
    "def fo(x):\n",
    "    K=float(x)\n",
    "    #print(K)\n",
    "    R = 2.27\n",
    "    L = 0.0047\n",
    "    Km = 0.25\n",
    "    Kb = 0.25\n",
    "    Bf = 0.003026\n",
    "    J=0.00246\n",
    "    T = ct.tf(Km*K/J/L,[1,R/L,Kb*Km/J/L,Km*K/J/L])\n",
    "    #print(T)\n",
    "    r = ct.step_info(T)\n",
    "    return r['SettlingTime']\n",
    "\n",
    "def restriccion(x):\n",
    "    K=float(x)\n",
    "    #print(K)\n",
    "    R = 2.27\n",
    "    L = 0.0047\n",
    "    Km = 0.25\n",
    "    Kb = 0.25\n",
    "    Bf = 0.003026\n",
    "    J=0.00246\n",
    "    T = ct.tf(Km*K/J/L,[1,R/L,Kb*Km/J/L,Km*K/J/L])\n",
    "    #print(T)\n",
    "    r = ct.step_info(T)\n",
    "    return r['Overshoot']"
   ]
  },
  {
   "cell_type": "code",
   "execution_count": 56,
   "metadata": {},
   "outputs": [
    {
     "name": "stderr",
     "output_type": "stream",
     "text": [
      "/var/folders/v4/ydstng2j755cv7zt4xl8lksr0000gp/T/ipykernel_70418/765284417.py:16: DeprecationWarning: Conversion of an array with ndim > 0 to a scalar is deprecated, and will error in future. Ensure you extract a single element from your array before performing this operation. (Deprecated NumPy 1.25.)\n",
      "  K=float(x)\n",
      "/var/folders/v4/ydstng2j755cv7zt4xl8lksr0000gp/T/ipykernel_70418/765284417.py:2: DeprecationWarning: Conversion of an array with ndim > 0 to a scalar is deprecated, and will error in future. Ensure you extract a single element from your array before performing this operation. (Deprecated NumPy 1.25.)\n",
      "  K=float(x)\n"
     ]
    },
    {
     "data": {
      "text/plain": [
       " message: Optimization terminated successfully\n",
       " success: True\n",
       "  status: 0\n",
       "     fun: 0.6060634258611637\n",
       "       x: [ 1.000e+00]\n",
       "     nit: 1\n",
       "     jac: [ 5.311e-03]\n",
       "    nfev: 6\n",
       "    njev: 1"
      ]
     },
     "execution_count": 56,
     "metadata": {},
     "output_type": "execute_result"
    }
   ],
   "source": [
    "nlc = NonlinearConstraint(restriccion,0,10)\n",
    "b=Bounds(0.01,100)\n",
    "#minimize(fo,0.1,constraints=nlc,bounds=b,method='L-BFGS-B')\n",
    "minimize(fo,1,constraints=nlc,bounds=b)"
   ]
  },
  {
   "cell_type": "code",
   "execution_count": 47,
   "metadata": {},
   "outputs": [
    {
     "name": "stdout",
     "output_type": "stream",
     "text": [
      "4.0\n"
     ]
    },
    {
     "data": {
      "text/plain": [
       "24.47989947919642"
      ]
     },
     "execution_count": 47,
     "metadata": {},
     "output_type": "execute_result"
    }
   ],
   "source": [
    "restriccion(4)"
   ]
  }
 ],
 "metadata": {
  "kernelspec": {
   "display_name": "base",
   "language": "python",
   "name": "python3"
  },
  "language_info": {
   "codemirror_mode": {
    "name": "ipython",
    "version": 3
   },
   "file_extension": ".py",
   "mimetype": "text/x-python",
   "name": "python",
   "nbconvert_exporter": "python",
   "pygments_lexer": "ipython3",
   "version": "3.12.4"
  }
 },
 "nbformat": 4,
 "nbformat_minor": 2
}
