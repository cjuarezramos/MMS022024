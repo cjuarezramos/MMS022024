{
 "cells": [
  {
   "cell_type": "code",
   "execution_count": 2,
   "id": "9c1420d2-6c31-40db-8c9a-eb0d1e3db228",
   "metadata": {},
   "outputs": [
    {
     "name": "stdin",
     "output_type": "stream",
     "text": [
      "ingrese una fecha en formato dd/mm/aa : 26/08/24\n"
     ]
    }
   ],
   "source": [
    "fecha = str(input(\"ingrese una fecha en formato dd/mm/aa :\"))"
   ]
  },
  {
   "cell_type": "code",
   "execution_count": 8,
   "id": "33a60056-f476-4868-b9f2-e98215baa320",
   "metadata": {},
   "outputs": [
    {
     "data": {
      "text/plain": [
       "'2626'"
      ]
     },
     "execution_count": 8,
     "metadata": {},
     "output_type": "execute_result"
    }
   ],
   "source": [
    "fecha[:2]*2"
   ]
  },
  {
   "cell_type": "code",
   "execution_count": 34,
   "id": "31b1486d-3229-4adc-bf5a-12603f981253",
   "metadata": {},
   "outputs": [
    {
     "name": "stdout",
     "output_type": "stream",
     "text": [
      "[1, 1.1, 1.2000000000000002, 1.3000000000000003, 1.4000000000000004, 1.5000000000000004, 1.6000000000000005, 1.7000000000000006, 1.8000000000000007, 1.9000000000000008, 2.000000000000001, 2.100000000000001, 2.200000000000001, 2.300000000000001, 2.4000000000000012, 2.5000000000000013, 2.6000000000000014, 2.7000000000000015, 2.8000000000000016, 2.9000000000000017, 3.0000000000000018, 3.100000000000002, 3.200000000000002, 3.300000000000002, 3.400000000000002, 3.500000000000002, 3.6000000000000023, 3.7000000000000024, 3.8000000000000025, 3.9000000000000026, 4.000000000000003, 4.100000000000002, 4.200000000000002, 4.300000000000002, 4.400000000000001, 4.500000000000001, 4.6000000000000005, 4.7, 4.8, 4.8999999999999995, 4.999999999999999, 5.099999999999999, 5.199999999999998, 5.299999999999998, 5.399999999999998, 5.499999999999997, 5.599999999999997, 5.699999999999997, 5.799999999999996, 5.899999999999996, 5.999999999999996, 6.099999999999995, 6.199999999999995, 6.2999999999999945, 6.399999999999994, 6.499999999999994, 6.599999999999993, 6.699999999999993, 6.799999999999993, 6.899999999999992, 6.999999999999992, 7.099999999999992, 7.199999999999991, 7.299999999999991, 7.399999999999991, 7.49999999999999, 7.59999999999999, 7.6999999999999895, 7.799999999999989, 7.899999999999989, 7.9999999999999885, 8.099999999999989, 8.199999999999989, 8.299999999999988, 8.399999999999988, 8.499999999999988, 8.599999999999987, 8.699999999999987, 8.799999999999986, 8.899999999999986, 8.999999999999986, 9.099999999999985, 9.199999999999985, 9.299999999999985, 9.399999999999984, 9.499999999999984, 9.599999999999984, 9.699999999999983, 9.799999999999983, 9.899999999999983, 9.999999999999982]\n"
     ]
    }
   ],
   "source": [
    "t = []\n",
    "tini = 1\n",
    "tfin = 10\n",
    "h = 0.1\n",
    "n = int((tfin-tini)/h)\n",
    "t.append(tini)\n",
    "for i in range(n):\n",
    "    t.append(t[i]+h)\n",
    "\n",
    "print(t)\n",
    "    \n"
   ]
  },
  {
   "cell_type": "code",
   "execution_count": 37,
   "id": "05971eff-ae22-4644-85e7-4160c3867aea",
   "metadata": {},
   "outputs": [
    {
     "name": "stdout",
     "output_type": "stream",
     "text": [
      "8  es par\n",
      "6  es par\n",
      "14  es par\n"
     ]
    }
   ],
   "source": [
    "l = [1, 5, 9, 8, 7, 6, 14]\n",
    "for i in l:\n",
    "    if i%2:\n",
    "        continue\n",
    "    print(i, \" es par\")"
   ]
  },
  {
   "cell_type": "code",
   "execution_count": 54,
   "id": "52389e1d-5c5d-43e3-9c94-dbbd3375458c",
   "metadata": {},
   "outputs": [
    {
     "name": "stdout",
     "output_type": "stream",
     "text": [
      "10  no es primo\n"
     ]
    }
   ],
   "source": [
    "x = 10\n",
    "for i in range(2,x):\n",
    "    if x%i == 0:\n",
    "        print(x, \" no es primo\")\n",
    "        break\n",
    "else:\n",
    "    print(x, \" es primo\")\n",
    "    \n",
    "    "
   ]
  },
  {
   "cell_type": "code",
   "execution_count": 85,
   "id": "fded1444-b0c6-4464-a643-554a12c76641",
   "metadata": {},
   "outputs": [
    {
     "name": "stdout",
     "output_type": "stream",
     "text": [
      "7.3809523809523805\n"
     ]
    }
   ],
   "source": [
    "import math\n",
    "\n",
    "tol = 0.01\n",
    "error = 1\n",
    "x = 2\n",
    "sum = 0\n",
    "n = 0\n",
    "sum = x**n/math.factorial(n)\n",
    "while error > tol:\n",
    "    n = n + 1\n",
    "    val_ant = sum\n",
    "    sum = sum + x**n/math.factorial(n)\n",
    "    val_nuevo = sum\n",
    "    error = abs((val_nuevo-val_ant)/val_nuevo)\n",
    "\n",
    "print(val_nuevo)\n",
    "    \n",
    "    \n",
    "    "
   ]
  },
  {
   "cell_type": "code",
   "execution_count": 83,
   "id": "40a9cde0-75d5-4432-a074-db7e4f5aa04b",
   "metadata": {},
   "outputs": [
    {
     "data": {
      "text/plain": [
       "7.38905609893065"
      ]
     },
     "execution_count": 83,
     "metadata": {},
     "output_type": "execute_result"
    }
   ],
   "source": [
    "math.exp(2)"
   ]
  },
  {
   "cell_type": "code",
   "execution_count": null,
   "id": "d83e2bd7-a7a6-4943-b631-895f6737b304",
   "metadata": {},
   "outputs": [],
   "source": []
  }
 ],
 "metadata": {
  "kernelspec": {
   "display_name": "Python 3 (ipykernel)",
   "language": "python",
   "name": "python3"
  },
  "language_info": {
   "codemirror_mode": {
    "name": "ipython",
    "version": 3
   },
   "file_extension": ".py",
   "mimetype": "text/x-python",
   "name": "python",
   "nbconvert_exporter": "python",
   "pygments_lexer": "ipython3",
   "version": "3.12.3"
  }
 },
 "nbformat": 4,
 "nbformat_minor": 5
}
