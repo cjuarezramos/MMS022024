{
 "cells": [
  {
   "cell_type": "code",
   "execution_count": 4,
   "metadata": {},
   "outputs": [
    {
     "name": "stderr",
     "output_type": "stream",
     "text": [
      "/var/folders/v4/ydstng2j755cv7zt4xl8lksr0000gp/T/ipykernel_44161/3701840057.py:30: MatplotlibDeprecationWarning: Setting data with a non sequence type is deprecated since 3.7 and will be remove two minor releases later\n",
      "  l.set_data(x0, y0)\n"
     ]
    },
    {
     "ename": "AttributeError",
     "evalue": "'FFMpegWriter' object has no attribute 'fig'",
     "output_type": "error",
     "traceback": [
      "\u001b[0;31m---------------------------------------------------------------------------\u001b[0m",
      "\u001b[0;31mAttributeError\u001b[0m                            Traceback (most recent call last)",
      "Cell \u001b[0;32mIn[4], line 31\u001b[0m\n\u001b[1;32m     29\u001b[0m     y0 \u001b[38;5;241m+\u001b[39m\u001b[38;5;241m=\u001b[39m \u001b[38;5;241m0.1\u001b[39m \u001b[38;5;241m*\u001b[39m np\u001b[38;5;241m.\u001b[39mrandom\u001b[38;5;241m.\u001b[39mrandn()\n\u001b[1;32m     30\u001b[0m     l\u001b[38;5;241m.\u001b[39mset_data(x0, y0)\n\u001b[0;32m---> 31\u001b[0m     writer\u001b[38;5;241m.\u001b[39mgrab_frame()\n\u001b[1;32m     33\u001b[0m plt\u001b[38;5;241m.\u001b[39mshow()\n",
      "File \u001b[0;32m/opt/anaconda3/lib/python3.12/site-packages/matplotlib/animation.py:369\u001b[0m, in \u001b[0;36mMovieWriter.grab_frame\u001b[0;34m(self, **savefig_kwargs)\u001b[0m\n\u001b[1;32m    366\u001b[0m _log\u001b[38;5;241m.\u001b[39mdebug(\u001b[38;5;124m'\u001b[39m\u001b[38;5;124mMovieWriter.grab_frame: Grabbing frame.\u001b[39m\u001b[38;5;124m'\u001b[39m)\n\u001b[1;32m    367\u001b[0m \u001b[38;5;66;03m# Readjust the figure size in case it has been changed by the user.\u001b[39;00m\n\u001b[1;32m    368\u001b[0m \u001b[38;5;66;03m# All frames must have the same size to save the movie correctly.\u001b[39;00m\n\u001b[0;32m--> 369\u001b[0m \u001b[38;5;28mself\u001b[39m\u001b[38;5;241m.\u001b[39mfig\u001b[38;5;241m.\u001b[39mset_size_inches(\u001b[38;5;28mself\u001b[39m\u001b[38;5;241m.\u001b[39m_w, \u001b[38;5;28mself\u001b[39m\u001b[38;5;241m.\u001b[39m_h)\n\u001b[1;32m    370\u001b[0m \u001b[38;5;66;03m# Save the figure data to the sink, using the frame format and dpi.\u001b[39;00m\n\u001b[1;32m    371\u001b[0m \u001b[38;5;28mself\u001b[39m\u001b[38;5;241m.\u001b[39mfig\u001b[38;5;241m.\u001b[39msavefig(\u001b[38;5;28mself\u001b[39m\u001b[38;5;241m.\u001b[39m_proc\u001b[38;5;241m.\u001b[39mstdin, \u001b[38;5;28mformat\u001b[39m\u001b[38;5;241m=\u001b[39m\u001b[38;5;28mself\u001b[39m\u001b[38;5;241m.\u001b[39mframe_format,\n\u001b[1;32m    372\u001b[0m                  dpi\u001b[38;5;241m=\u001b[39m\u001b[38;5;28mself\u001b[39m\u001b[38;5;241m.\u001b[39mdpi, \u001b[38;5;241m*\u001b[39m\u001b[38;5;241m*\u001b[39msavefig_kwargs)\n",
      "\u001b[0;31mAttributeError\u001b[0m: 'FFMpegWriter' object has no attribute 'fig'"
     ]
    }
   ],
   "source": [
    "import numpy as np\n",
    "\n",
    "import matplotlib\n",
    "\n",
    "matplotlib.use(\"Agg\")\n",
    "import matplotlib.pyplot as plt\n",
    "\n",
    "from matplotlib.animation import FFMpegWriter\n",
    "\n",
    "# Fixing random state for reproducibility\n",
    "np.random.seed(19680801)\n",
    "\n",
    "\n",
    "metadata = dict(title='Movie Test', artist='Matplotlib',\n",
    "                comment='Movie support!')\n",
    "writer = FFMpegWriter(fps=15, metadata=metadata)\n",
    "\n",
    "fig = plt.figure()\n",
    "l, = plt.plot([], [], 'k-o')\n",
    "\n",
    "plt.xlim(-5, 5)\n",
    "plt.ylim(-5, 5)\n",
    "\n",
    "x0, y0 = 0, 0\n",
    "\n",
    "\n",
    "for i in range(100):\n",
    "    x0 += 0.1 * np.random.randn()\n",
    "    y0 += 0.1 * np.random.randn()\n",
    "    l.set_data(x0, y0)\n",
    "    writer.grab_frame()\n",
    "\n",
    "plt.show()"
   ]
  },
  {
   "cell_type": "code",
   "execution_count": 1,
   "metadata": {},
   "outputs": [
    {
     "data": {
      "image/png": "[encoded data removed]",
      "text/plain": [
       "<Figure size 640x480 with 2 Axes>"
      ]
     },
     "metadata": {},
     "output_type": "display_data"
    }
   ],
   "source": [
    "import numpy as np\n",
    "import matplotlib.pyplot as plt\n",
    "import matplotlib.animation as animation\n",
    "\n",
    "k = 0.5\n",
    "Lx = 10\n",
    "Ly = 10\n",
    "dx = 1\n",
    "dy = 1\n",
    "Tfin = 20\n",
    "dt = 0.1\n",
    "condicion = 1/8 * (dx**2 + dy**2) / k\n",
    "\n",
    "x = np.arange(0, Lx + dx, dx)\n",
    "y = np.arange(0, Ly + dy, dy)\n",
    "t = np.arange(0, Tfin + dt, dt)\n",
    "\n",
    "T = np.zeros((len(y), len(x), len(t)))\n",
    "T[:, :, 0] = 20\n",
    "T[0, :, :] = 100\n",
    "T[:, 0, :] = 10\n",
    "T[-1, :, :] = 65\n",
    "T[:, -1, :] = 35\n",
    "\n",
    "for l in range(len(t) - 1):\n",
    "    for j in range(1, len(y) - 1):\n",
    "        for i in range(1, len(x) - 1):\n",
    "            d2Tdx2 = (T[j, i + 1, l] - 2 * T[j, i, l] + T[j, i - 1, l]) / dx**2\n",
    "            d2Tdy2 = (T[j + 1, i, l] - 2 * T[j, i, l] + T[j - 1, i, l]) / dy**2\n",
    "            T[j, i, l + 1] = T[j, i, l] + k * dt * (d2Tdy2 + d2Tdx2)\n",
    "\n",
    "# Gráficas\n",
    "X, Y = np.meshgrid(x, y)\n",
    "\n",
    "fig, ax = plt.subplots()\n",
    "contour = ax.contourf(X, Y, T[:, :, 0])\n",
    "fig.colorbar(contour)\n",
    "ax.set_title('Distribución de Temperatura')\n",
    "\n",
    "def update(frame):\n",
    "    ax.clear()\n",
    "    contour = ax.contourf(X, Y, T[:, :, frame])\n",
    "    return contour\n",
    "\n",
    "ani = animation.FuncAnimation(fig, update, frames=len(t),init_func=contour)\n",
    "plt.show()\n"
   ]
  },
  {
   "cell_type": "code",
   "execution_count": 4,
   "metadata": {},
   "outputs": [
    {
     "data": {
      "text/plain": [
       "array([[ 10., 100., 100., 100., 100., 100., 100., 100., 100., 100.,  35.],\n",
       "       [ 10.,  20.,  20.,  20.,  20.,  20.,  20.,  20.,  20.,  20.,  35.],\n",
       "       [ 10.,  20.,  20.,  20.,  20.,  20.,  20.,  20.,  20.,  20.,  35.],\n",
       "       [ 10.,  20.,  20.,  20.,  20.,  20.,  20.,  20.,  20.,  20.,  35.],\n",
       "       [ 10.,  20.,  20.,  20.,  20.,  20.,  20.,  20.,  20.,  20.,  35.],\n",
       "       [ 10.,  20.,  20.,  20.,  20.,  20.,  20.,  20.,  20.,  20.,  35.],\n",
       "       [ 10.,  20.,  20.,  20.,  20.,  20.,  20.,  20.,  20.,  20.,  35.],\n",
       "       [ 10.,  20.,  20.,  20.,  20.,  20.,  20.,  20.,  20.,  20.,  35.],\n",
       "       [ 10.,  20.,  20.,  20.,  20.,  20.,  20.,  20.,  20.,  20.,  35.],\n",
       "       [ 10.,  20.,  20.,  20.,  20.,  20.,  20.,  20.,  20.,  20.,  35.],\n",
       "       [ 65.,  65.,  65.,  65.,  65.,  65.,  65.,  65.,  65.,  65.,  35.]])"
      ]
     },
     "execution_count": 4,
     "metadata": {},
     "output_type": "execute_result"
    }
   ],
   "source": [
    "T[:,:,0]"
   ]
  }
 ],
 "metadata": {
  "kernelspec": {
   "display_name": "base",
   "language": "python",
   "name": "python3"
  },
  "language_info": {
   "codemirror_mode": {
    "name": "ipython",
    "version": 3
   },
   "file_extension": ".py",
   "mimetype": "text/x-python",
   "name": "python",
   "nbconvert_exporter": "python",
   "pygments_lexer": "ipython3",
   "version": "3.12.4"
  }
 },
 "nbformat": 4,
 "nbformat_minor": 2
}
