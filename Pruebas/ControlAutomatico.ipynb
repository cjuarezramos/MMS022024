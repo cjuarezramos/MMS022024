{
 "cells": [
  {
   "cell_type": "markdown",
   "id": "b974d443-2027-4e6b-b1c2-3138231b6e0d",
   "metadata": {},
   "source": [
    "\"\"\"\n",
    "Autor: Carlos Juárez\n"
   ]
  },
  {
   "cell_type": "code",
   "execution_count": null,
   "id": "d6cd1258-1049-4a40-9623-52d388228279",
   "metadata": {},
   "outputs": [],
   "source": [
    "import control as ct"
   ]
  }
 ],
 "metadata": {
  "kernelspec": {
   "display_name": "Python 3 (ipykernel)",
   "language": "python",
   "name": "python3"
  },
  "language_info": {
   "codemirror_mode": {
    "name": "ipython",
    "version": 3
   },
   "file_extension": ".py",
   "mimetype": "text/x-python",
   "name": "python",
   "nbconvert_exporter": "python",
   "pygments_lexer": "ipython3",
   "version": "3.12.3"
  }
 },
 "nbformat": 4,
 "nbformat_minor": 5
}
