{
 "cells": [
  {
   "cell_type": "code",
   "execution_count": 2,
   "id": "9c1420d2-6c31-40db-8c9a-eb0d1e3db228",
   "metadata": {},
   "outputs": [
    {
     "name": "stdin",
     "output_type": "stream",
     "text": [
      "ingrese una fecha en formato dd/mm/aa : 26/08/24\n"
     ]
    }
   ],
   "source": [
    "fecha = str(input(\"ingrese una fecha en formato dd/mm/aa :\"))"
   ]
  },
  {
   "cell_type": "code",
   "execution_count": 8,
   "id": "33a60056-f476-4868-b9f2-e98215baa320",
   "metadata": {},
   "outputs": [
    {
     "data": {
      "text/plain": [
       "'2626'"
      ]
     },
     "execution_count": 8,
     "metadata": {},
     "output_type": "execute_result"
    }
   ],
   "source": [
    "fecha[:2]*2"
   ]
  },
  {
   "cell_type": "code",
   "execution_count": 34,
   "id": "31b1486d-3229-4adc-bf5a-12603f981253",
   "metadata": {},
   "outputs": [
    {
     "name": "stdout",
     "output_type": "stream",
     "text": [
      "[1, 1.1, 1.2000000000000002, 1.3000000000000003, 1.4000000000000004, 1.5000000000000004, 1.6000000000000005, 1.7000000000000006, 1.8000000000000007, 1.9000000000000008, 2.000000000000001, 2.100000000000001, 2.200000000000001, 2.300000000000001, 2.4000000000000012, 2.5000000000000013, 2.6000000000000014, 2.7000000000000015, 2.8000000000000016, 2.9000000000000017, 3.0000000000000018, 3.100000000000002, 3.200000000000002, 3.300000000000002, 3.400000000000002, 3.500000000000002, 3.6000000000000023, 3.7000000000000024, 3.8000000000000025, 3.9000000000000026, 4.000000000000003, 4.100000000000002, 4.200000000000002, 4.300000000000002, 4.400000000000001, 4.500000000000001, 4.6000000000000005, 4.7, 4.8, 4.8999999999999995, 4.999999999999999, 5.099999999999999, 5.199999999999998, 5.299999999999998, 5.399999999999998, 5.499999999999997, 5.599999999999997, 5.699999999999997, 5.799999999999996, 5.899999999999996, 5.999999999999996, 6.099999999999995, 6.199999999999995, 6.2999999999999945, 6.399999999999994, 6.499999999999994, 6.599999999999993, 6.699999999999993, 6.799999999999993, 6.899999999999992, 6.999999999999992, 7.099999999999992, 7.199999999999991, 7.299999999999991, 7.399999999999991, 7.49999999999999, 7.59999999999999, 7.6999999999999895, 7.799999999999989, 7.899999999999989, 7.9999999999999885, 8.099999999999989, 8.199999999999989, 8.299999999999988, 8.399999999999988, 8.499999999999988, 8.599999999999987, 8.699999999999987, 8.799999999999986, 8.899999999999986, 8.999999999999986, 9.099999999999985, 9.199999999999985, 9.299999999999985, 9.399999999999984, 9.499999999999984, 9.599999999999984, 9.699999999999983, 9.799999999999983, 9.899999999999983, 9.999999999999982]\n"
     ]
    }
   ],
   "source": [
    "t = []\n",
    "tini = 1\n",
    "tfin = 10\n",
    "h = 0.1\n",
    "n = int((tfin-tini)/h)\n",
    "t.append(tini)\n",
    "for i in range(n):\n",
    "    t.append(t[i]+h)\n",
    "\n",
    "print(t)\n",
    "    \n"
   ]
  },
  {
   "cell_type": "code",
   "execution_count": 37,
   "id": "05971eff-ae22-4644-85e7-4160c3867aea",
   "metadata": {},
   "outputs": [
    {
     "name": "stdout",
     "output_type": "stream",
     "text": [
      "8  es par\n",
      "6  es par\n",
      "14  es par\n"
     ]
    }
   ],
   "source": [
    "l = [1, 5, 9, 8, 7, 6, 14]\n",
    "for i in l:\n",
    "    if i%2:\n",
    "        continue\n",
    "    print(i, \" es par\")"
   ]
  },
  {
   "cell_type": "code",
   "execution_count": 54,
   "id": "52389e1d-5c5d-43e3-9c94-dbbd3375458c",
   "metadata": {},
   "outputs": [
    {
     "name": "stdout",
     "output_type": "stream",
     "text": [
      "10  no es primo\n"
     ]
    }
   ],
   "source": [
    "x = 10\n",
    "for i in range(2,x):\n",
    "    if x%i == 0:\n",
    "        print(x, \" no es primo\")\n",
    "        break\n",
    "else:\n",
    "    print(x, \" es primo\")\n",
    "    \n",
    "    "
   ]
  },
  {
   "cell_type": "code",
   "execution_count": 85,
   "id": "fded1444-b0c6-4464-a643-554a12c76641",
   "metadata": {},
   "outputs": [
    {
     "name": "stdout",
     "output_type": "stream",
     "text": [
      "7.3809523809523805\n"
     ]
    }
   ],
   "source": [
    "import math\n",
    "\n",
    "tol = 0.01\n",
    "error = 1\n",
    "x = 2\n",
    "sum = 0\n",
    "n = 0\n",
    "sum = x**n/math.factorial(n)\n",
    "while error > tol:\n",
    "    n = n + 1\n",
    "    val_ant = sum\n",
    "    sum = sum + x**n/math.factorial(n)\n",
    "    val_nuevo = sum\n",
    "    error = abs((val_nuevo-val_ant)/val_nuevo)\n",
    "\n",
    "print(val_nuevo)\n",
    "    \n",
    "    \n",
    "    "
   ]
  },
  {
   "cell_type": "code",
   "execution_count": 83,
   "id": "40a9cde0-75d5-4432-a074-db7e4f5aa04b",
   "metadata": {},
   "outputs": [
    {
     "data": {
      "text/plain": [
       "7.38905609893065"
      ]
     },
     "execution_count": 83,
     "metadata": {},
     "output_type": "execute_result"
    }
   ],
   "source": [
    "math.exp(2)"
   ]
  },
  {
   "cell_type": "code",
   "execution_count": 90,
   "id": "d83e2bd7-a7a6-4943-b631-895f6737b304",
   "metadata": {},
   "outputs": [
    {
     "data": {
      "text/plain": [
       "(2, 3)"
      ]
     },
     "execution_count": 90,
     "metadata": {},
     "output_type": "execute_result"
    }
   ],
   "source": [
    "import numpy as np\n",
    "a = np.array([[1,2,3],[4,5,6]])\n",
    "a.shape"
   ]
  },
  {
   "cell_type": "code",
   "execution_count": 94,
   "id": "79e320c8-36f7-47a8-851d-6ed0b63d7abf",
   "metadata": {},
   "outputs": [
    {
     "data": {
      "text/plain": [
       "6"
      ]
     },
     "execution_count": 94,
     "metadata": {},
     "output_type": "execute_result"
    }
   ],
   "source": [
    "a.size"
   ]
  },
  {
   "cell_type": "code",
   "execution_count": 96,
   "id": "e8538072-b2a7-43cb-9ab0-a97e0f321d11",
   "metadata": {},
   "outputs": [
    {
     "data": {
      "text/plain": [
       "dtype('int32')"
      ]
     },
     "execution_count": 96,
     "metadata": {},
     "output_type": "execute_result"
    }
   ],
   "source": [
    "a.dtype"
   ]
  },
  {
   "cell_type": "code",
   "execution_count": 98,
   "id": "73fe9a2b-250f-4ede-b388-f128311ab55c",
   "metadata": {},
   "outputs": [],
   "source": [
    "b = np.ones([2,3])"
   ]
  },
  {
   "cell_type": "code",
   "execution_count": 100,
   "id": "801b18dc-7f19-4b50-91d4-061e7ce661f8",
   "metadata": {},
   "outputs": [
    {
     "data": {
      "text/plain": [
       "array([[1., 1., 1.],\n",
       "       [1., 1., 1.]])"
      ]
     },
     "execution_count": 100,
     "metadata": {},
     "output_type": "execute_result"
    }
   ],
   "source": [
    "b"
   ]
  },
  {
   "cell_type": "code",
   "execution_count": 102,
   "id": "54bd5deb-be1c-461d-9433-fe9b480dcb37",
   "metadata": {},
   "outputs": [
    {
     "data": {
      "text/plain": [
       "array([[2., 3., 4.],\n",
       "       [5., 6., 7.]])"
      ]
     },
     "execution_count": 102,
     "metadata": {},
     "output_type": "execute_result"
    }
   ],
   "source": [
    "a + b"
   ]
  },
  {
   "cell_type": "code",
   "execution_count": 106,
   "id": "9246a64e-6f38-4f4e-8046-4cd1c08a2b3c",
   "metadata": {},
   "outputs": [
    {
     "data": {
      "text/plain": [
       "array([0.00000000e+000, 6.02784390e-312, 6.02784391e-312, 6.02784390e-312,\n",
       "       3.69126375e-317])"
      ]
     },
     "execution_count": 106,
     "metadata": {},
     "output_type": "execute_result"
    }
   ],
   "source": [
    "np.empty(5)\n"
   ]
  },
  {
   "cell_type": "code",
   "execution_count": 108,
   "id": "52900f47-c89d-437e-b675-27865742cd6e",
   "metadata": {},
   "outputs": [
    {
     "ename": "IndexError",
     "evalue": "index 3 is out of bounds for axis 0 with size 3",
     "output_type": "error",
     "traceback": [
      "\u001b[1;31m---------------------------------------------------------------------------\u001b[0m",
      "\u001b[1;31mIndexError\u001b[0m                                Traceback (most recent call last)",
      "Cell \u001b[1;32mIn[108], line 1\u001b[0m\n\u001b[1;32m----> 1\u001b[0m \u001b[43ma\u001b[49m\u001b[43m[\u001b[49m\u001b[38;5;241;43m0\u001b[39;49m\u001b[43m]\u001b[49m\u001b[43m[\u001b[49m\u001b[38;5;241;43m3\u001b[39;49m\u001b[43m]\u001b[49m\u001b[38;5;241m=\u001b[39m\u001b[38;5;241m5\u001b[39m\n",
      "\u001b[1;31mIndexError\u001b[0m: index 3 is out of bounds for axis 0 with size 3"
     ]
    }
   ],
   "source": [
    "a[0][3]=5"
   ]
  },
  {
   "cell_type": "code",
   "execution_count": 120,
   "id": "92952496-e4b1-4d2e-a56d-128d9ac77f11",
   "metadata": {},
   "outputs": [
    {
     "data": {
      "text/plain": [
       "array([[False, False, False],\n",
       "       [ True,  True,  True]])"
      ]
     },
     "execution_count": 120,
     "metadata": {},
     "output_type": "execute_result"
    }
   ],
   "source": [
    "a>3"
   ]
  },
  {
   "cell_type": "code",
   "execution_count": 122,
   "id": "8f72574b-d7d4-4336-948f-7be4bbced6cb",
   "metadata": {},
   "outputs": [
    {
     "name": "stdout",
     "output_type": "stream",
     "text": [
      "[4 5 6]\n"
     ]
    }
   ],
   "source": [
    "print(a[a>3])"
   ]
  },
  {
   "cell_type": "code",
   "execution_count": 124,
   "id": "35c5da5d-116f-48e3-b40b-0b3f839506fa",
   "metadata": {},
   "outputs": [
    {
     "data": {
      "text/plain": [
       "array([[1, 2, 3],\n",
       "       [4, 5, 6]])"
      ]
     },
     "execution_count": 124,
     "metadata": {},
     "output_type": "execute_result"
    }
   ],
   "source": [
    "a"
   ]
  },
  {
   "cell_type": "code",
   "execution_count": 126,
   "id": "94c28162-a51d-485a-829f-73373d0a47dc",
   "metadata": {},
   "outputs": [
    {
     "data": {
      "text/plain": [
       "array([[1, 4],\n",
       "       [2, 5],\n",
       "       [3, 6]])"
      ]
     },
     "execution_count": 126,
     "metadata": {},
     "output_type": "execute_result"
    }
   ],
   "source": [
    "a.transpose()"
   ]
  },
  {
   "cell_type": "code",
   "execution_count": 136,
   "id": "4352dd21-463b-41f2-9ff5-a2e4890c3ea7",
   "metadata": {},
   "outputs": [],
   "source": [
    "c = np.ones((2,2))"
   ]
  },
  {
   "cell_type": "code",
   "execution_count": 138,
   "id": "0dd095e8-2083-4bff-8653-9eef9431d433",
   "metadata": {},
   "outputs": [
    {
     "data": {
      "text/plain": [
       "array([[1., 1.],\n",
       "       [1., 1.]])"
      ]
     },
     "execution_count": 138,
     "metadata": {},
     "output_type": "execute_result"
    }
   ],
   "source": [
    "c"
   ]
  },
  {
   "cell_type": "code",
   "execution_count": 140,
   "id": "1b82aa3a-82f9-4782-b022-e137b30e3cbe",
   "metadata": {},
   "outputs": [
    {
     "data": {
      "text/plain": [
       "array([[1, 2, 3],\n",
       "       [4, 5, 6]])"
      ]
     },
     "execution_count": 140,
     "metadata": {},
     "output_type": "execute_result"
    }
   ],
   "source": [
    "a"
   ]
  },
  {
   "cell_type": "code",
   "execution_count": 142,
   "id": "8c735b55-40c2-4e60-a23b-ab74f999b0fc",
   "metadata": {},
   "outputs": [
    {
     "ename": "ValueError",
     "evalue": "operands could not be broadcast together with shapes (2,3) (2,2) ",
     "output_type": "error",
     "traceback": [
      "\u001b[1;31m---------------------------------------------------------------------------\u001b[0m",
      "\u001b[1;31mValueError\u001b[0m                                Traceback (most recent call last)",
      "Cell \u001b[1;32mIn[142], line 1\u001b[0m\n\u001b[1;32m----> 1\u001b[0m \u001b[43ma\u001b[49m\u001b[38;5;241;43m*\u001b[39;49m\u001b[43mc\u001b[49m\n",
      "\u001b[1;31mValueError\u001b[0m: operands could not be broadcast together with shapes (2,3) (2,2) "
     ]
    }
   ],
   "source": [
    "a*c"
   ]
  },
  {
   "cell_type": "code",
   "execution_count": 144,
   "id": "b0c54155-0e00-4afd-9b62-5636e0d95d24",
   "metadata": {},
   "outputs": [
    {
     "ename": "ValueError",
     "evalue": "matmul: Input operand 1 has a mismatch in its core dimension 0, with gufunc signature (n?,k),(k,m?)->(n?,m?) (size 2 is different from 3)",
     "output_type": "error",
     "traceback": [
      "\u001b[1;31m---------------------------------------------------------------------------\u001b[0m",
      "\u001b[1;31mValueError\u001b[0m                                Traceback (most recent call last)",
      "Cell \u001b[1;32mIn[144], line 1\u001b[0m\n\u001b[1;32m----> 1\u001b[0m \u001b[43ma\u001b[49m\u001b[38;5;129;43m@c\u001b[39;49m\n",
      "\u001b[1;31mValueError\u001b[0m: matmul: Input operand 1 has a mismatch in its core dimension 0, with gufunc signature (n?,k),(k,m?)->(n?,m?) (size 2 is different from 3)"
     ]
    }
   ],
   "source": [
    "a@c"
   ]
  },
  {
   "cell_type": "code",
   "execution_count": 146,
   "id": "13aa919e-fa1e-4663-9c25-84b860d884d4",
   "metadata": {},
   "outputs": [
    {
     "data": {
      "text/plain": [
       "array([[5., 7., 9.],\n",
       "       [5., 7., 9.]])"
      ]
     },
     "execution_count": 146,
     "metadata": {},
     "output_type": "execute_result"
    }
   ],
   "source": [
    "c@a"
   ]
  },
  {
   "cell_type": "code",
   "execution_count": 179,
   "id": "5b854476-c3c1-4044-9c57-1e78af234366",
   "metadata": {},
   "outputs": [],
   "source": [
    "x = np.array([5, 9, 25])\n",
    "y = np.array([[6],[3],[1]])"
   ]
  },
  {
   "cell_type": "code",
   "execution_count": 181,
   "id": "1f15f8fb-8d24-48eb-b7ec-f84f8cc1fdd4",
   "metadata": {},
   "outputs": [
    {
     "data": {
      "text/plain": [
       "(3,)"
      ]
     },
     "execution_count": 181,
     "metadata": {},
     "output_type": "execute_result"
    }
   ],
   "source": [
    "x.shape"
   ]
  },
  {
   "cell_type": "code",
   "execution_count": 183,
   "id": "3c5a7fe1-40dc-4e97-bb0a-409efb5677f1",
   "metadata": {},
   "outputs": [
    {
     "data": {
      "text/plain": [
       "(3, 1)"
      ]
     },
     "execution_count": 183,
     "metadata": {},
     "output_type": "execute_result"
    }
   ],
   "source": [
    "y.shape"
   ]
  },
  {
   "cell_type": "code",
   "execution_count": 185,
   "id": "36b01e9c-bb46-48d5-9d37-89a114c8d118",
   "metadata": {},
   "outputs": [
    {
     "data": {
      "text/plain": [
       "array([[ 30,  54, 150],\n",
       "       [ 15,  27,  75],\n",
       "       [  5,   9,  25]])"
      ]
     },
     "execution_count": 185,
     "metadata": {},
     "output_type": "execute_result"
    }
   ],
   "source": [
    "x*y"
   ]
  },
  {
   "cell_type": "code",
   "execution_count": 189,
   "id": "ab09e5b7-12b9-49ff-841c-62dbf1f3f2fc",
   "metadata": {},
   "outputs": [
    {
     "data": {
      "text/plain": [
       "array([82])"
      ]
     },
     "execution_count": 189,
     "metadata": {},
     "output_type": "execute_result"
    }
   ],
   "source": [
    "x @ y"
   ]
  },
  {
   "cell_type": "code",
   "execution_count": 172,
   "id": "7bc57489-de7a-431b-b54b-7f95f6d71f86",
   "metadata": {},
   "outputs": [
    {
     "data": {
      "text/plain": [
       "array([[11, 15, 31],\n",
       "       [ 8, 12, 28],\n",
       "       [ 6, 10, 26]])"
      ]
     },
     "execution_count": 172,
     "metadata": {},
     "output_type": "execute_result"
    }
   ],
   "source": [
    "x+y"
   ]
  },
  {
   "cell_type": "code",
   "execution_count": 174,
   "id": "178107de-ec54-4e64-8a22-356b21f61433",
   "metadata": {},
   "outputs": [
    {
     "data": {
      "text/plain": [
       "array([[ 5,  9, 25]])"
      ]
     },
     "execution_count": 174,
     "metadata": {},
     "output_type": "execute_result"
    }
   ],
   "source": [
    "x"
   ]
  },
  {
   "cell_type": "code",
   "execution_count": 176,
   "id": "b45e89de-39a7-414b-b29c-4251a53b8897",
   "metadata": {},
   "outputs": [
    {
     "data": {
      "text/plain": [
       "array([[6],\n",
       "       [3],\n",
       "       [1]])"
      ]
     },
     "execution_count": 176,
     "metadata": {},
     "output_type": "execute_result"
    }
   ],
   "source": [
    "y"
   ]
  },
  {
   "cell_type": "code",
   "execution_count": 192,
   "id": "7e10f31b-d6e8-41b8-a3c8-8bff60fb938c",
   "metadata": {},
   "outputs": [],
   "source": [
    "z = y"
   ]
  },
  {
   "cell_type": "code",
   "execution_count": 194,
   "id": "00d44142-0c2b-4557-b609-301a90306c6e",
   "metadata": {},
   "outputs": [],
   "source": [
    "z[0]=500"
   ]
  },
  {
   "cell_type": "code",
   "execution_count": 196,
   "id": "9a1ddab8-f866-40eb-aa05-65533c10e053",
   "metadata": {},
   "outputs": [
    {
     "data": {
      "text/plain": [
       "array([[500],\n",
       "       [  3],\n",
       "       [  1]])"
      ]
     },
     "execution_count": 196,
     "metadata": {},
     "output_type": "execute_result"
    }
   ],
   "source": [
    "y"
   ]
  },
  {
   "cell_type": "code",
   "execution_count": 208,
   "id": "52192ce4-3bf3-4cc9-a8f0-ab3bef7b9038",
   "metadata": {},
   "outputs": [],
   "source": [
    "w = y.copy()"
   ]
  },
  {
   "cell_type": "code",
   "execution_count": 210,
   "id": "2d51caa3-8ec8-4322-8c13-9c85085f221c",
   "metadata": {},
   "outputs": [
    {
     "data": {
      "text/plain": [
       "array([[500],\n",
       "       [  3],\n",
       "       [  1]])"
      ]
     },
     "execution_count": 210,
     "metadata": {},
     "output_type": "execute_result"
    }
   ],
   "source": [
    "w"
   ]
  },
  {
   "cell_type": "code",
   "execution_count": 212,
   "id": "6fbcf1e3-54a6-4dbf-9ec0-32e86865468a",
   "metadata": {},
   "outputs": [],
   "source": [
    "w[0]=1"
   ]
  },
  {
   "cell_type": "code",
   "execution_count": 214,
   "id": "a2e50f5b-85aa-4405-a2c2-dd0c23d296e6",
   "metadata": {},
   "outputs": [
    {
     "data": {
      "text/plain": [
       "array([[1],\n",
       "       [3],\n",
       "       [1]])"
      ]
     },
     "execution_count": 214,
     "metadata": {},
     "output_type": "execute_result"
    }
   ],
   "source": [
    "w"
   ]
  },
  {
   "cell_type": "code",
   "execution_count": 216,
   "id": "9b741ac8-bfac-483d-aeb7-3e056cbd87e8",
   "metadata": {},
   "outputs": [
    {
     "data": {
      "text/plain": [
       "array([[500],\n",
       "       [  3],\n",
       "       [  1]])"
      ]
     },
     "execution_count": 216,
     "metadata": {},
     "output_type": "execute_result"
    }
   ],
   "source": [
    "y"
   ]
  },
  {
   "cell_type": "code",
   "execution_count": null,
   "id": "35dc44fd-12c0-4b4b-b8ad-abdc36c8387c",
   "metadata": {},
   "outputs": [],
   "source": []
  }
 ],
 "metadata": {
  "kernelspec": {
   "display_name": "Python 3 (ipykernel)",
   "language": "python",
   "name": "python3"
  },
  "language_info": {
   "codemirror_mode": {
    "name": "ipython",
    "version": 3
   },
   "file_extension": ".py",
   "mimetype": "text/x-python",
   "name": "python",
   "nbconvert_exporter": "python",
   "pygments_lexer": "ipython3",
   "version": "3.12.3"
  }
 },
 "nbformat": 4,
 "nbformat_minor": 5
}
