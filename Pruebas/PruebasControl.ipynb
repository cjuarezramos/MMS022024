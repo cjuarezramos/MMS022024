{
 "cells": [
  {
   "cell_type": "code",
   "execution_count": 2,
   "id": "736d8860-04e6-4b73-9273-eac241432de9",
   "metadata": {},
   "outputs": [],
   "source": [
    "#import control as ct\n",
    "import sympy "
   ]
  },
  {
   "cell_type": "code",
   "execution_count": 10,
   "id": "3dd04d71-57af-4bb2-a969-f25d94b68e93",
   "metadata": {},
   "outputs": [],
   "source": [
    "t, s = sympy.symbols('t,s')\n",
    "a = sympy.symbols('a')\n",
    "f = sympy.exp(-a*t)"
   ]
  },
  {
   "cell_type": "code",
   "execution_count": 12,
   "id": "3ca28fde-5b0a-498b-aac0-fdd3e6eb880c",
   "metadata": {},
   "outputs": [
    {
     "data": {
      "text/latex": [
       "$\\displaystyle e^{- a t}$"
      ],
      "text/plain": [
       "exp(-a*t)"
      ]
     },
     "execution_count": 12,
     "metadata": {},
     "output_type": "execute_result"
    }
   ],
   "source": [
    "f"
   ]
  },
  {
   "cell_type": "code",
   "execution_count": 14,
   "id": "5054f042-84e9-4ba3-a060-74ff3f2be041",
   "metadata": {},
   "outputs": [
    {
     "data": {
      "text/plain": [
       "(1/(a + s), -re(a), True)"
      ]
     },
     "execution_count": 14,
     "metadata": {},
     "output_type": "execute_result"
    }
   ],
   "source": [
    "sympy.laplace_transform(f,t,s)"
   ]
  },
  {
   "cell_type": "code",
   "execution_count": 22,
   "id": "6a943b60-792a-4e86-90bf-41dd69f765b3",
   "metadata": {},
   "outputs": [
    {
     "data": {
      "text/latex": [
       "$\\displaystyle \\frac{1}{a + s}$"
      ],
      "text/plain": [
       "1/(a + s)"
      ]
     },
     "execution_count": 22,
     "metadata": {},
     "output_type": "execute_result"
    }
   ],
   "source": [
    "F = sympy.laplace_transform(f,t,s,noconds=True)\n",
    "F"
   ]
  },
  {
   "cell_type": "code",
   "execution_count": 24,
   "id": "90e0a8bf-6f08-468e-87a9-9c68074475d4",
   "metadata": {},
   "outputs": [
    {
     "data": {
      "text/latex": [
       "$\\displaystyle e^{- a t} \\theta\\left(t\\right)$"
      ],
      "text/plain": [
       "exp(-a*t)*Heaviside(t)"
      ]
     },
     "execution_count": 24,
     "metadata": {},
     "output_type": "execute_result"
    }
   ],
   "source": [
    "sympy.inverse_laplace_transform(F,s,t)"
   ]
  },
  {
   "cell_type": "code",
   "execution_count": 26,
   "id": "917980fa-f96e-4cec-adab-0d48f8d60f8f",
   "metadata": {},
   "outputs": [],
   "source": [
    "vc, vin, R, C = sympy.symbols('vc,vin,R,C')"
   ]
  },
  {
   "cell_type": "code",
   "execution_count": 1,
   "id": "4429fea6-0e3d-4a4d-9452-c510f8ea4354",
   "metadata": {},
   "outputs": [
    {
     "name": "stdout",
     "output_type": "stream",
     "text": [
      "[0, 1, 2, 3, 4, 5, 6, 7, 8, 9]\n"
     ]
    }
   ],
   "source": [
    "a = []\n",
    "for i in range(10):\n",
    "    a.append(i)\n",
    "\n",
    "print(a)"
   ]
  },
  {
   "cell_type": "code",
   "execution_count": 3,
   "id": "6ba68280",
   "metadata": {},
   "outputs": [
    {
     "data": {
      "text/plain": [
       "array([-0.+1.73205081j,  0.-1.73205081j])"
      ]
     },
     "execution_count": 3,
     "metadata": {},
     "output_type": "execute_result"
    }
   ],
   "source": [
    "import numpy as np\n",
    "a= np.array([1,0,3])\n",
    "np.roots(a)"
   ]
  },
  {
   "cell_type": "code",
   "execution_count": null,
   "id": "ca30dd27",
   "metadata": {},
   "outputs": [],
   "source": [
    "A ="
   ]
  }
 ],
 "metadata": {
  "kernelspec": {
   "display_name": "Python 3 (ipykernel)",
   "language": "python",
   "name": "python3"
  },
  "language_info": {
   "codemirror_mode": {
    "name": "ipython",
    "version": 3
   },
   "file_extension": ".py",
   "mimetype": "text/x-python",
   "name": "python",
   "nbconvert_exporter": "python",
   "pygments_lexer": "ipython3",
   "version": "3.12.3"
  }
 },
 "nbformat": 4,
 "nbformat_minor": 5
}
