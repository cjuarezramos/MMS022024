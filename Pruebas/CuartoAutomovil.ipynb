{
 "cells": [
  {
   "cell_type": "markdown",
   "metadata": {},
   "source": [
    "Autor: Carlos Juárez\n",
    "Fecha: 4 de septiembre de 2024\n",
    "Descripción: Modelo de Cuarto del Automóvil\n"
   ]
  },
  {
   "cell_type": "code",
   "execution_count": 81,
   "metadata": {},
   "outputs": [],
   "source": [
    "# Importación de librerías\n",
    "import numpy as np\n",
    "import matplotlib.pyplot as plt\n",
    "\n",
    "# Datos de las variables\n",
    "Mc = 250; Kc = 15000; Bc = 1000\n",
    "Mw = 40; Kw = 125000; Bw = 100\n",
    "g = 9.81"
   ]
  },
  {
   "cell_type": "code",
   "execution_count": 82,
   "metadata": {},
   "outputs": [],
   "source": [
    "# Defino las funciones de cada ecucación de estado\n",
    "def f1(x1,x2,x3,x4,y,vy,t):\n",
    "    return x2\n",
    "def f2(x1,x2,x3,x4,y,vy,t):\n",
    "    return -(Kc+Kw)/Mw*x1 - (Bc+Bw)/Mw*x2 + Kc/Mw * x3 + Bc/Mw * x4 + Kw/Mw * y + Bw/Mw * vy - g\n",
    "def f3(x1,x2,x3,x4,y,vy,t):\n",
    "    return x4\n",
    "def f4(x1,x2,x3,x4,y,vy,t):\n",
    "    return Kc/Mc*x1 + Bc/Mc*x2 - Kc/Mc*x3 - Bc/Mc * x4 - g"
   ]
  },
  {
   "cell_type": "code",
   "execution_count": 83,
   "metadata": {},
   "outputs": [
    {
     "name": "stdout",
     "output_type": "stream",
     "text": [
      "[0. 0. 0. ... 0. 0. 0.]\n"
     ]
    }
   ],
   "source": [
    "# definimos los tiempos de simulación\n",
    "tfin = 10\n",
    "h = 0.001\n",
    "t = np.arange(0,tfin,h)\n",
    "\n",
    "# defino la entrada\n",
    "y = np.empty(len(t))\n",
    "for i in range(0,len(t)):\n",
    "    # cambio de y en 5 s\n",
    "    if t[i]<5:\n",
    "        y[i] = 0\n",
    "    else:\n",
    "        y[i] = 0.1\n",
    "\n",
    "# cálculo de dy/dt\n",
    "vy = np.zeros(len(t))\n",
    "for i in range(1,len(y)-1):\n",
    "    \n",
    "    vy[i] = (y[i+1]-y[i-1])/(2*h)\n",
    "\n",
    "print(vy)"
   ]
  },
  {
   "cell_type": "code",
   "execution_count": 95,
   "metadata": {},
   "outputs": [],
   "source": [
    "# Condiciones iniciales\n",
    "xw0 = Mc/Kc*g-g*((Kc+Kw)*Mc/(Kc*Kw)+Mw/Kw)\n",
    "vw0 = 0\n",
    "xc0 = -g*((Kc+Kw)*Mc/(Kc*Kw)+Mw/Kw)\n",
    "vc0 = 0\n",
    "# solución de la ecuación diferencial por Heun\n",
    "x1 = np.zeros(len(t))\n",
    "x2 = np.zeros(len(t))\n",
    "x3 = np.zeros(len(t))\n",
    "x4 = np.zeros(len(t))\n",
    "# valores iniciales\n",
    "x1[0] = xw0\n",
    "x2[0] = vw0\n",
    "x3[0] = xc0\n",
    "x4[0] = vw0\n",
    "for i in range(0,len(t)-1):\n",
    "    k11 = f1(x1[i],x2[i],x3[i],x4[i],y[i],vy[i],t[i])\n",
    "    k12 = f2(x1[i],x2[i],x3[i],x4[i],y[i],vy[i],t[i])\n",
    "    k13 = f3(x1[i],x2[i],x3[i],x4[i],y[i],vy[i],t[i])\n",
    "    k14 = f4(x1[i],x2[i],x3[i],x4[i],y[i],vy[i],t[i])\n",
    "    x1temp = x1[i] + h * k11\n",
    "    x2temp = x2[i] + h * k12\n",
    "    x3temp = x3[i] + h * k13\n",
    "    x4temp = x4[i] + h * k14\n",
    "\n",
    "    k21 = f1(x1temp,x2temp,x3temp,x4temp,y[i+1],vy[i+1],t[i+1])\n",
    "    k22 = f2(x1temp,x2temp,x3temp,x4temp,y[i+1],vy[i+1],t[i+1])\n",
    "    k23 = f3(x1temp,x2temp,x3temp,x4temp,y[i+1],vy[i+1],t[i+1])\n",
    "    k24 = f4(x1temp,x2temp,x3temp,x4temp,y[i+1],vy[i+1],t[i+1])\n",
    "\n",
    "    x1[i+1] = x1[i] + h * (k11+k21)/2\n",
    "    x2[i+1] = x2[i] + h * (k12+k22)/2\n",
    "    x3[i+1] = x3[i] + h * (k13+k23)/2\n",
    "    x4[i+1] = x4[i] + h * (k14+k24)/2"
   ]
  },
  {
   "cell_type": "code",
   "execution_count": 97,
   "metadata": {},
   "outputs": [
    {
     "data": {
      "image/png": "[encoded data removed]",
      "text/plain": [
       "<Figure size 640x480 with 1 Axes>"
      ]
     },
     "metadata": {},
     "output_type": "display_data"
    }
   ],
   "source": [
    "plt.plot(t,x3)\n",
    "plt.grid(visible = True)\n",
    "plt.show()"
   ]
  },
  {
   "cell_type": "code",
   "execution_count": 92,
   "metadata": {},
   "outputs": [
    {
     "data": {
      "text/plain": [
       "0.1635"
      ]
     },
     "execution_count": 92,
     "metadata": {},
     "output_type": "execute_result"
    }
   ],
   "source": [
    "Mc/Kc*g"
   ]
  }
 ],
 "metadata": {
  "kernelspec": {
   "display_name": "Python 3",
   "language": "python",
   "name": "python3"
  },
  "language_info": {
   "codemirror_mode": {
    "name": "ipython",
    "version": 3
   },
   "file_extension": ".py",
   "mimetype": "text/x-python",
   "name": "python",
   "nbconvert_exporter": "python",
   "pygments_lexer": "ipython3",
   "version": "3.12.3"
  }
 },
 "nbformat": 4,
 "nbformat_minor": 2
}
