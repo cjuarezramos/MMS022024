{
 "cells": [
  {
   "cell_type": "code",
   "execution_count": 5,
   "metadata": {},
   "outputs": [
    {
     "name": "stdout",
     "output_type": "stream",
     "text": [
      "986.960440108936/(s**2 + 12.5663706143592*s + 986.960440108936)\n",
      "-0.0127323954473517*(0.0795774715459475*s + 1.0)/(0.00101321183642338*s**2 + 0.0127323954473516*s + 1.0) + 1.0/s\n"
     ]
    },
    {
     "data": {
      "text/latex": [
       "$\\displaystyle - 0.0127323954473517 \\cdot \\left(16.0318728770233 e^{- 6.28318530717959 t} \\sin{\\left(30.7811959238847 t \\right)} + 78.5398163397447 e^{- 6.28318530717959 t} \\cos{\\left(30.7811959238847 t \\right)}\\right) \\theta\\left(t\\right) + 1.0 \\theta\\left(t\\right)$"
      ],
      "text/plain": [
       "-0.0127323954473517*(16.0318728770233*exp(-6.28318530717959*t)*sin(30.7811959238847*t) + 78.5398163397447*exp(-6.28318530717959*t)*cos(30.7811959238847*t))*Heaviside(t) + 1.0*Heaviside(t)"
      ]
     },
     "execution_count": 5,
     "metadata": {},
     "output_type": "execute_result"
    }
   ],
   "source": [
    "import sympy\n",
    "from math import pi\n",
    "\n",
    "t, s = sympy.symbols('t,s')\n",
    "#z, wn = sympy.symbols('z,wn')\n",
    "wn = 10*pi\n",
    "z = 0.2\n",
    "G = sympy.powsimp(wn**2/(s**2+2*z*wn*s+wn**2))\n",
    "print(G)\n",
    "# Respuesta al escalón\n",
    "Y = G*1/s\n",
    "# fracciones parciales\n",
    "Yfp = sympy.polys.partfrac.apart(Y)\n",
    "\n",
    "\n",
    "print(Yfp)\n",
    "y = sympy.inverse_laplace_transform(Yfp,s,t)\n",
    "y\n",
    "\n",
    "#c = y.subs([(z, 2),(wn, 10)])\n",
    "\n"
   ]
  }
 ],
 "metadata": {
  "kernelspec": {
   "display_name": "Python 3",
   "language": "python",
   "name": "python3"
  },
  "language_info": {
   "codemirror_mode": {
    "name": "ipython",
    "version": 3
   },
   "file_extension": ".py",
   "mimetype": "text/x-python",
   "name": "python",
   "nbconvert_exporter": "python",
   "pygments_lexer": "ipython3",
   "version": "3.12.3"
  }
 },
 "nbformat": 4,
 "nbformat_minor": 2
}
