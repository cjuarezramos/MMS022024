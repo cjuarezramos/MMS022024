{
 "cells": [
  {
   "cell_type": "code",
   "execution_count": 28,
   "metadata": {},
   "outputs": [
    {
     "name": "stdout",
     "output_type": "stream",
     "text": [
      "986.960440108936/(s**2 + 125.663706143592*s + 986.960440108936)\n",
      "-0.127323954473517*(0.00795774715459475*s + 1.0)/(0.00101321183642338*s**2 + 0.127323954473516*s + 1.0) + 1.0/s\n"
     ]
    },
    {
     "data": {
      "text/latex": [
       "$\\displaystyle - 0.127323954473517 \\cdot \\left(9.06899682117111 e^{- 62.8318530717959 t} \\sinh{\\left(54.4139809270265 t \\right)} + 7.85398163397447 e^{- 62.8318530717959 t} \\cosh{\\left(54.4139809270265 t \\right)}\\right) \\theta\\left(t\\right) + 1.0 \\theta\\left(t\\right)$"
      ],
      "text/plain": [
       "-0.127323954473517*(9.06899682117111*exp(-62.8318530717959*t)*sinh(54.4139809270265*t) + 7.85398163397447*exp(-62.8318530717959*t)*cosh(54.4139809270265*t))*Heaviside(t) + 1.0*Heaviside(t)"
      ]
     },
     "execution_count": 28,
     "metadata": {},
     "output_type": "execute_result"
    }
   ],
   "source": [
    "import sympy\n",
    "from math import pi\n",
    "\n",
    "t, s = sympy.symbols('t,s')\n",
    "#z, wn = sympy.symbols('z,wn')\n",
    "wn = 10*pi\n",
    "z = 2\n",
    "G = sympy.powsimp(wn**2/(s**2+2*z*wn*s+wn**2))\n",
    "print(G)\n",
    "# Respuesta al escalón\n",
    "Y = G*1/s\n",
    "# fracciones parciales\n",
    "Yfp = sympy.polys.partfrac.apart(Y)\n",
    "\n",
    "\n",
    "print(Yfp)\n",
    "y = sympy.inverse_laplace_transform(Yfp,s,t)\n",
    "y\n",
    "#c = y.subs([(z, 2),(wn, 10)])\n",
    "\n"
   ]
  }
 ],
 "metadata": {
  "kernelspec": {
   "display_name": "Python 3",
   "language": "python",
   "name": "python3"
  },
  "language_info": {
   "codemirror_mode": {
    "name": "ipython",
    "version": 3
   },
   "file_extension": ".py",
   "mimetype": "text/x-python",
   "name": "python",
   "nbconvert_exporter": "python",
   "pygments_lexer": "ipython3",
   "version": "3.12.3"
  }
 },
 "nbformat": 4,
 "nbformat_minor": 2
}
