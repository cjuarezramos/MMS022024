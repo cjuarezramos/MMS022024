import matplotlib.pyplot as plt
import numpy as np
# constantes del sistema
R = 2.27
L = 0.0047
Kb = 0.25
Km = 0.25
J =  0.00246
B = 0.003026


# Datos de simulacion
# paso de integracion
h = 0.0001
tf = 10
m = int(tf/h)
print(m)


i = np.zeros(m)
w = np.zeros(m)
th = np.zeros(m)
t = np.zeros(m)
# condiciones iniciales
i0=0
w0=0
th0 = 0
i[0]=i0
w[0]=w0
th[0] = th0
for k in np.arange(m-1):
    # variable manipulada
    Vin = 1
    
    # perturbacion
    if t[k] < 1.5:
        TL = 0
    else:
        TL = 0
        
    i[k+1]=i[k]+h*(-R/L*i[k]-Kb/L*w[k]+1/L*Vin)
    w[k+1]=w[k]+h*(Km/J*i[k]-B/J*w[k]-1/J*TL)
    th[k+1] = th[k]+h*w[k]
    t[k+1]=t[k]+h

plt.plot(t,w)
               


plt.plot(t,th)


# condiciones iniciales
i0=0
w0=0
th0 = 0
i[0]=i0
w[0]=w0
V = np.zeros(m)
th[0] = th0
thr = 3 # angulo de referencia o entrada
Kp = 10
for k in np.arange(m-1):
    # variable manipulada
    error = thr - th[k]
    Vin = Kp * error
    V[k] = Vin
    # perturbacion
    if t[k] < 1.5:
        TL = 0
    else:
        TL = 0.1
        
    i[k+1]=i[k]+h*(-R/L*i[k]-Kb/L*w[k]+1/L*Vin)
    w[k+1]=w[k]+h*(Km/J*i[k]-B/J*w[k]-1/J*TL)
    th[k+1] = th[k]+h*w[k]
    t[k+1]=t[k]+h

plt.plot(t,w)


plt.plot(t,th)





plt.plot(t,V)
