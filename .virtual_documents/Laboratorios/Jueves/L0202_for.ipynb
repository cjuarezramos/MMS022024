





tini = 0.1
tfin = 1.5
h = 0.1
n = round((tfin-tini)/h)
t = [tini]
for k in range(n):
    t.append(t[k]+h)
    
print(t)



n = (1.5-0.1)/0.1
print(round(n))





l = [1, 4, 6, 7, 9, 10]
for k in l:
    if k % 2 == 0:
        print(k, "es par")
        continue
    print(k,"es impar")


















