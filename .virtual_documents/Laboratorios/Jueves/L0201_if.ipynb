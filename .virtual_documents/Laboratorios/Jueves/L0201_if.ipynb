








a = int(input("ingrese un numero entero: "))
if a % 2 == 0:
    print(a, "es par")








b = int(input("ingrese un numero entero:"))
if b % 2 == 0:
    print(b, "es par")
else:
    print(b, "es impar")








fecha = input("ingrese una fecha: ")
dd = int(fecha[:2])
mm = int(fecha[3:5])
aa = int(fecha[6:])
print(dd, "/", mm, "/", aa)
if mm == 1 or mm==3 or mm==5 or mm==7 or mm==8 or mm==10 or mm==12:
    print("el mes tiene 31 dias")
    if dd != 31:
        print("Dia siguiente: ",dd+1,"/",mm,"/",aa)
    else:
        if mm != 12:
            print("Dia siguiente: ",1,"/",mm+1,"/",aa)
        else:
            print("Dia siguiente: ",1,"/",1,"/",aa+1)
            
elif mm == 2:
    print("mes de febrero")
else:
    print("mes de 30 dias")


fecha



