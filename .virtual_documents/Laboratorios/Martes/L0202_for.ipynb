





tini = float(input('Tiempo inicial: '))
tfin = 10
h = 0.1
t = [tini] # lista vacia
n = int((tfin-tini)/h)
for i in range(n):
    t.append(t[i]+h)

print(t)





l = [5, 10, 12, 17, 18]
for i in l:
    if i%2==0:
        print(i, "es par")
        continue
    print(i, "es impar")
    



for j in range(len(l)):
    print(l[j])


















