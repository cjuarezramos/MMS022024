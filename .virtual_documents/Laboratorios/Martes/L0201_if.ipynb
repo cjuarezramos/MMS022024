








x = int(input("Ingrese un número entero: "))
if x % 2 == 0:
    print(x, " es par")








x = int(input("Ingrese un número entero: "))
if x % 2 == 0:
    print(x,"es par")
else:
    print(x, "es impar")








fecha = str(input("Fecha actual: "))

fecha


dd =int(fecha[:2])
mm = int(fecha[3:5])
aa = int(fecha[6:])



if mm==1 or mm==5 or mm==7 or mm==8 or mm==10:
    print("enero, marzo, mayo, julio, agosto, octubre")
elif mm == 2:
    print('febrero')
elif mm == 4 or mm==6 or mm==9 or mm==11:
    print("abril,junio,septiembre,noviembre")
else:
    print('diciembre')
    



mm



