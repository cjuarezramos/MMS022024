


import matplotlib.pyplot as plt


t = np.arange(
