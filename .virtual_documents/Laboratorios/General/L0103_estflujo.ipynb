


x = int(input("ingrese un numero entero: "))
if x < 0:
    x = 0
    print('x se cambia a cero')
elif x==0:
    print('cero')
elif x == 1:
    print('uno')
else:
    print('otro')
    x = 55








    
    print(x)

    

    





palabras = ['gato', 'perro', 'roedor']
for p in palabras:
    print(p, len(p))
    


for i in range(5):
    print(i)
    


range(5)


n = list(range(0,10))
print(n)


t = list(range(1,10,2))
print(t)


sum(t)


palabras = ['gato', 'perro', 'roedor']
for i in range(len(palabras)):
    print(i,palabras[i])





# Serie de Fibonaci
a, b = 0, 1
while a < 10:
    print(a)
    a, b = b, a+b



# Serie de Fibonaci
a, b = 0, 1
while a < 10:
    print(a)
    a, b = b, a+b
else:
    print('Fin de la serie')


palabras = ['gato', 'perro', 'roedor']
for i in range(len(palabras)):
    print(i,palabras[i])
else:
    print('fin del for')


for n in range(2, 10):
    for x in range(2, n):
        if n % x == 0:
            print(n, 'igual', x, '*', n//x)
            break # finaliza la iteración
    else:
        # loop fell through without finding a factor
        print(n, 'es número primo')


for num in range(2, 10):
    if num % 2 == 0:
        print("El número es par", num)
        continue
    print("El número es impar", num)





def fib(n):    # escribe la serie de Fibonacci hasta el número n
    """Imprime la serie de fibonnaci."""
    a, b = 0, 1
    while a < n:
        print(a, end=' ') # end=' ' elimina salto de línea
        a, b = b, a+b
    print()


# Llamemos a la función
fib(2000)


fib('spam')



