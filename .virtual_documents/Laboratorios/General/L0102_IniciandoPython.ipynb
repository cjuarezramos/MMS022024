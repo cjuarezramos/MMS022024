


nombre_variable1 = 5.5
nombre_variable2 = 9
nombre_variable3 = "hola"


print(nombre_variable2)


type(nombre_variable1)





2+2


50-5*6 # Operación multiplicación tiene mayor jerarquía que la resta


(50-5*6)/4


8/4 # división retorno número flotante


17/3 # división clásica


17//3 # parte entera de la división --> cociente


17 % 3 # Residuo de la división


5**2 # potencia **





'py' # comilla simple o comillas doble funcionan igual


"thon"


i = 'py'
f = 'thon'
i + f


i[0] # cadenas se pueden idexar


f[-1] # indice -1 van a la posición final


word = i + f
word[:2]


word[-3]


word[2:]


palabra = 'pithon'


palabra[1] = 'y'


palabra = 'python'
print(palabra)





n = [1, 2, 3, 'hola']


n[-1]


type(n)


type(n[-1])


type(n[1])


n[-1] = 4 # las listas son mutables
print(n)


m = n + [5, 6, 7, 8] # + concatenas dos listas
print(m)


m = [1, 2, 3, 4, 5, 6, 7, 8]
m[8] = 9


m.append(20)
print(m)


k = m
id(k) == id(m)
print(k)


r = [1,2,3]
s = r


s


r.append(25)
r


s


v = s[:]
v


s.append(50)
print('s= ', s)
print('v= ', v)


m.append(10) # la simple asignación no copia datos. Cuando asigna una lista a una variable se asigna la referencia de variable, cualquier cambio en una variable se aplica a la otra
print(k)


o = m[:] # forma correcta de copiar datos
m.append(11)
print(o)
print(m)



o[:] = [] # borrar los datos
print(o)


len(m) # longitud de una lista


a = ['a', 'b', 'c']
b = [1, 2, 3, 4]
c = [a,b] # es posible anidar listas
print(c)


c[0] # en listas anidadas un solo indice trae una sola lista


c[1][-1] # dos índices, puedo leer un elemento particular de la lista


A = [[1,2,3],[4,5,6]]
A


A[0][2]



