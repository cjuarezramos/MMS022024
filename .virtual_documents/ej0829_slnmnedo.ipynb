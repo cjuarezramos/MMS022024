import matplotlib.pyplot as plt


# Parámetros del sistema
M = 10 #kg
B = 0.4


# parametros de simulacion
tini = 0
tfin = 300
h = 1


# C.I.
v0 = 0 #m/s



# Entrada
f = 10
# variables informaticas necesarias
t = []
v = []
t.append(tini)
v.append(v0)
# print(t,v)
n = round((tfin-tini)/h)
for i in range(n):
    v_anterior = v[i]
    v_nuevo = v_anterior + h * (-B/M*v_anterior + 1/M * f)
    v.append(v_nuevo)
    t.append(t[i]+h)
plt.plot(t,v)








# Euler
# Parametros del sistema
import math
M = 12
B = 0.6
g = 9.81
l = 16

# Simulacion
tfin = 200
h = 0.01

# variables informaticas
t = []
x1 = []
x2 = []

# CI
th0=3.1416/6
w0 = 0

t.append(0)
x1.append(th0)
x2.append(w0)

n = round(tfin/h)
Tin = 0
for k in range(n):
    t.append(t[k] + h)
    x1.append(x1[k] + h*x2[k])
    x2.append(x2[k] + h * (-B/M*x2[k] - g/l* math.sin(x1[k]) + 1/l*Tin))

plt.plot(t,x1)
plt.title("Desplazamiento angular")




# metodo de heun
t_h = []
x1_h = []
x2_h = []

t_h.append(0)
x1_h.append(th0)
x2_h.append(w0)

n = round(tfin/h)
Tin = 0
for k in range(n):
    t_h.append(t_h[k] + h)
    pendientex10 = x2_h[k]
    pendientex20 = (-B/M*x2_h[k] - g/l* math.sin(x1_h[k]) + 1/l*Tin)
    x10 = x1_h[k] + h * pendientex10
    x20 = x2_h[k] + h * pendientex20
    pendientex1f = x20
    pendientex2f = (-B/M*x20 - g/l* math.sin(x10) + 1/l*Tin)

    
    x1_h.append(x1_h[k] + h*(pendientex10+pendientex1f)/2)
    x2_h.append(x2_h[k] + h *(pendientex20+pendientex2f)/2)

plt.plot(t_h,x1_h)
plt.title("Desplazamiento angular")



math.sin(3.1416/2)


plt.plot(t_h,x1_h)
plt.plot(t,x1)
plt.title("Desplazamiento angular")
plt.legend(["heun","euler"])



