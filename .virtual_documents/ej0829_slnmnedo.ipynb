import matplotlib.pyplot as plt


# Parámetros del sistema
M = 20 #kg
B = 0.4


# parametros de simulacion
tini = 0
tfin = 4
h = 1


# C.I.
v0 = 0 #m/s



# Entrada
f = 0.1
# variables informaticas necesarias
t = []
v = []
t.append(tini)
v.append(v0)
# print(t,v)
n = round((tfin-tini)/h)
for i in range(n):
    v_anterior = v[i]
    v_nuevo = v_anterior + h * (-B/M*v_anterior + 1/M * f)
    v.append(v_nuevo)
    t.append(t[i]+h)
plt.plot(t,v)





f=0.1



