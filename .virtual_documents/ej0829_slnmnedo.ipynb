import matplotlib.pyplot as plt


# Parámetros del sistema
M = 10 #kg
B = 0.4


# parametros de simulacion
tini = 0
tfin = 300
h = 1


# C.I.
v0 = 0 #m/s



# Entrada
f = 10
# variables informaticas necesarias
t = []
v = []
t.append(tini)
v.append(v0)
# print(t,v)
n = round((tfin-tini)/h)
for i in range(n):
    v_anterior = v[i]
    v_nuevo = v_anterior + h * (-B/M*v_anterior + 1/M * f)
    v.append(v_nuevo)
    t.append(t[i]+h)
plt.plot(t,v)








# Parametros del sistema
import math
M = 12
B = 0.6
g = 9.81
l = 16

# Simulacion
tfin = 200
h = 0.01

# variables informaticas
t = []
x1 = []
x2 = []

# CI
th0=3.1416/6
w0 = 0

t.append(0)
x1.append(th0)
x2.append(w0)

n = round(tfin/h)
Tin = 0
for k in range(n):
    t.append(t[k] + h)
    x1.append(x1[k] + h*x2[k])
    x2.append(x2[k] + h * (-B/M*x2[k] - g/l* math.sin(x1[k]) + 1/l*Tin))

plt.plot(t,x1)
plt.title("Desplazamiento angular")



-B/2/M + (B**2/M**2/4-g/l)**0.5


math.sin(3.1416/2)



