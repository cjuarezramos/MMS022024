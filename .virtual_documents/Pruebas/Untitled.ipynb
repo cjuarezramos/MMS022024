fecha = str(input("ingrese una fecha en formato dd/mm/aa :"))


fecha[:2]*2


t = []
tini = 1
tfin = 10
h = 0.1
n = int((tfin-tini)/h)
t.append(tini)
for i in range(n):
    t.append(t[i]+h)

print(t)
    



l = [1, 5, 9, 8, 7, 6, 14]
for i in l:
    if i%2:
        continue
    print(i, " es par")


x = 10
for i in range(2,x):
    if x%i == 0:
        print(x, " no es primo")
        break
else:
    print(x, " es primo")
    
    


import math

tol = 0.01
error = 1
x = 2
sum = 0
n = 0
sum = x**n/math.factorial(n)
while error > tol:
    n = n + 1
    val_ant = sum
    sum = sum + x**n/math.factorial(n)
    val_nuevo = sum
    error = abs((val_nuevo-val_ant)/val_nuevo)

print(val_nuevo)
    
    
    


math.exp(2)


import numpy as np
a = np.array([[1,2,3],[4,5,6]])
a.shape


a.size


a.dtype


b = np.ones([2,3])


b


a + b


np.empty(5)



a[0][3]=5


a>3


print(a[a>3])


a


a.transpose()


c = np.ones((2,2))


c


a


a*c


a@c


c@a


x = np.array([5, 9, 25])
y = np.array([[6],[3],[1]])


x.shape


y.shape


x*y


x @ y


x+y


x


y


z = y


z[0]=500


y


w = y.copy()


w


w[0]=1


w


y



