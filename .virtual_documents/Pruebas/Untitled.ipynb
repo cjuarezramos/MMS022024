fecha = str(input("ingrese una fecha en formato dd/mm/aa :"))


fecha[:2]*2


t = []
tini = 1
tfin = 10
h = 0.1
n = int((tfin-tini)/h)
t.append(tini)
for i in range(n):
    t.append(t[i]+h)

print(t)
    



l = [1, 5, 9, 8, 7, 6, 14]
for i in l:
    if i%2:
        continue
    print(i, " es par")


x = 10
for i in range(2,x):
    if x%i == 0:
        print(x, " no es primo")
        break
else:
    print(x, " es primo")
    
    



