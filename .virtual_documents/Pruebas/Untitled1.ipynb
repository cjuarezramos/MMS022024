import control as ct
import sympy 


t, s = sympy.symbols('t,s')
a = sympy.symbols('a')
f = sympy.exp(-a*t)


f


sympy.laplace_transform(f,t,s)


F = sympy.laplace_transform(f,t,s,noconds=True)
F


sympy.inverse_laplace_transform(F,s,t)


vc, vin, R, C = sympy.symbols('vc,vin,R,C')



