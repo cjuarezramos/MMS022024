import matplotlib.pyplot as plt


# Parámetros del sistema
M = 20 #kg
B = 0.4


# parametros de simulacion
tini = 0
tfin = 4
h = 1


# C.I.
v0 = 0 #m/s


# variables informaticas necesarias
t = []
v = []


t.append(tini)
v.append(v0)
print(t)



