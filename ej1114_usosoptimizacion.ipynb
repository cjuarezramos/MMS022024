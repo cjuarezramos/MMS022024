{
 "cells": [
  {
   "cell_type": "code",
   "execution_count": 33,
   "metadata": {},
   "outputs": [],
   "source": [
    "import numpy as np \n",
    "import control as ct\n",
    "import matplotlib.pyplot as plt\n",
    "from scipy.optimize import minimize,NonlinearConstraint"
   ]
  },
  {
   "cell_type": "code",
   "execution_count": 25,
   "metadata": {},
   "outputs": [],
   "source": [
    "# Función objetivo\n",
    "def fo(x):\n",
    "    K = float(x)\n",
    "    R = 2.27\n",
    "    L = 0.0047\n",
    "    Km = 0.25\n",
    "    Kb = 0.25\n",
    "    Bf = 0.003026\n",
    "    J=0.00246\n",
    "    T = ct.tf(Km*K/J/L,[1,R/L,Km*Kb/J/L,K*Km/J/L])\n",
    "    stepinfo = ct.step_info(T)\n",
    "    return stepinfo['RiseTime']\n",
    "\n",
    "def restriccion(x):\n",
    "    K = float(x)\n",
    "    R = 2.27\n",
    "    L = 0.0047\n",
    "    Km = 0.25\n",
    "    Kb = 0.25\n",
    "    Bf = 0.003026\n",
    "    J=0.00246\n",
    "    T = ct.tf(Km*K/J/L,[1,R/L,Km*Kb/J/L,K*Km/J/L])\n",
    "    stepinfo = ct.step_info(T)\n",
    "    return stepinfo['Overshoot']"
   ]
  },
  {
   "cell_type": "code",
   "execution_count": 26,
   "metadata": {},
   "outputs": [
    {
     "name": "stderr",
     "output_type": "stream",
     "text": [
      "/var/folders/v4/ydstng2j755cv7zt4xl8lksr0000gp/T/ipykernel_72002/1764901252.py:15: DeprecationWarning: Conversion of an array with ndim > 0 to a scalar is deprecated, and will error in future. Ensure you extract a single element from your array before performing this operation. (Deprecated NumPy 1.25.)\n",
      "  K = float(x)\n",
      "/var/folders/v4/ydstng2j755cv7zt4xl8lksr0000gp/T/ipykernel_72002/1764901252.py:3: DeprecationWarning: Conversion of an array with ndim > 0 to a scalar is deprecated, and will error in future. Ensure you extract a single element from your array before performing this operation. (Deprecated NumPy 1.25.)\n",
      "  K = float(x)\n"
     ]
    },
    {
     "data": {
      "text/plain": [
       " message: Optimization terminated successfully\n",
       " success: True\n",
       "  status: 0\n",
       "     fun: 0.5448505768476836\n",
       "       x: [ 7.538e-01]\n",
       "     nit: 5\n",
       "     jac: [ 4.766e-03]\n",
       "    nfev: 21\n",
       "    njev: 5"
      ]
     },
     "execution_count": 26,
     "metadata": {},
     "output_type": "execute_result"
    }
   ],
   "source": [
    "c = NonlinearConstraint(restriccion,0,10)\n",
    "minimize(fo,0.1,constraints=c)"
   ]
  },
  {
   "cell_type": "code",
   "execution_count": 24,
   "metadata": {},
   "outputs": [
    {
     "data": {
      "text/plain": [
       "{'RiseTime': 0.3872478909042273,\n",
       " 'SettlingTime': 0.6060634540702317,\n",
       " 'SettlingMin': 0.9000416049214135,\n",
       " 'SettlingMax': 1.0078419996885766,\n",
       " 'Overshoot': 0.7841999688576573,\n",
       " 'Undershoot': 0,\n",
       " 'Peak': 1.0078419996885766,\n",
       " 'PeakTime': 0.8553432991228015,\n",
       " 'SteadyStateValue': 1.0}"
      ]
     },
     "execution_count": 24,
     "metadata": {},
     "output_type": "execute_result"
    }
   ],
   "source": [
    "K= 1\n",
    "R = 2.27\n",
    "L = 0.0047\n",
    "Km = 0.25\n",
    "Kb = 0.25\n",
    "Bf = 0.003026\n",
    "J=0.00246\n",
    "T = ct.tf(Km*K/J/L,[1,R/L,Km*Kb/J/L,K*Km/J/L])\n",
    "ct.step_info(T)"
   ]
  },
  {
   "cell_type": "code",
   "execution_count": 75,
   "metadata": {},
   "outputs": [
    {
     "name": "stdout",
     "output_type": "stream",
     "text": [
      "[-1.+0.j]\n",
      "[-9.70139107+0.j         -0.14930446+0.28422909j -0.14930446-0.28422909j]\n"
     ]
    },
    {
     "data": {
      "image/png": "[encoded data removed]",
      "text/plain": [
       "<Figure size 640x480 with 1 Axes>"
      ]
     },
     "metadata": {},
     "output_type": "display_data"
    }
   ],
   "source": [
    "H = ct.tf([1,1],[1,10,3,1])\n",
    "print(H.zeros())\n",
    "print(H.poles())\n",
    "s = ct.step_info(H)\n",
    "r = ct.step_response(H)\n",
    "r.y[0][0]\n",
    "plt.plot(r.t,r.y[0][0])\n",
    "\n",
    "import pandas as pd\n",
    "datos = {'t':r.t,'y':r.y[0][0] }\n",
    "df = pd.DataFrame(datos)\n",
    "df.to_excel(\"datos.xlsx\",index=False)"
   ]
  },
  {
   "cell_type": "code",
   "execution_count": 76,
   "metadata": {},
   "outputs": [
    {
     "data": {
      "text/plain": [
       "{'RiseTime': 4.542606528670085,\n",
       " 'SettlingTime': 24.99145598061442,\n",
       " 'SettlingMin': 0.9002953270820759,\n",
       " 'SettlingMax': 1.2038789539396555,\n",
       " 'Overshoot': 20.38789539396555,\n",
       " 'Undershoot': 0,\n",
       " 'Peak': 1.2038789539396555,\n",
       " 'PeakTime': 10.025062683961567,\n",
       " 'SteadyStateValue': 1.0}"
      ]
     },
     "execution_count": 76,
     "metadata": {},
     "output_type": "execute_result"
    }
   ],
   "source": [
    "s"
   ]
  },
  {
   "cell_type": "code",
   "execution_count": 72,
   "metadata": {},
   "outputs": [],
   "source": [
    "# hipotesis\n",
    "# existe un A, B y C que me de la misma grafica la orginal\n",
    "# donde G(s)= A/(s**2+Bs+C)\n",
    "\n",
    "def fo(x):\n",
    "    A = x[0]\n",
    "    B = x[1]\n",
    "    C = x[2]\n",
    "    G = ct.tf(A,[1,B,C])\n",
    "    df=pd.read_excel(\"datos.xlsx\",sheet_name=\"Sheet1\")\n",
    "    datos=df.to_numpy()\n",
    "    res = ct.step_response(G,datos[:,0])\n",
    "    emc = sum((datos[:,1]-res.y[0][0])**2)/len(res.t)\n",
    "    return emc\n",
    "def restriccion(x):\n",
    "    res = [0,0,0]\n",
    "    A = x[0]\n",
    "    B = x[1]\n",
    "    C = x[2]\n",
    "    G = ct.tf(A,[1,B,C])\n",
    "    stepinfo = ct.step_info(G)\n",
    "    res[0] = stepinfo['RiseTime']\n",
    "    res[1] = stepinfo['PeakTime']\n",
    "    res[2] = stepinfo['Overshoot']\n",
    "    return res  \n"
   ]
  },
  {
   "cell_type": "code",
   "execution_count": 79,
   "metadata": {},
   "outputs": [
    {
     "data": {
      "text/plain": [
       " message: Iteration limit reached\n",
       " success: False\n",
       "  status: 9\n",
       "     fun: 0.00863194181257769\n",
       "       x: [ 3.305e+01  9.699e+01  3.209e+01]\n",
       "     nit: 100\n",
       "     jac: [ 1.123e-07 -4.409e-06  1.442e-05]\n",
       "    nfev: 1112\n",
       "    njev: 100"
      ]
     },
     "execution_count": 79,
     "metadata": {},
     "output_type": "execute_result"
    }
   ],
   "source": [
    "nlc = NonlinearConstraint(restriccion,[4.5,9.5,19],[4.6,10.5,21])\n",
    "minimize(fo,[5.6,97,3.3],constraints=nlc)"
   ]
  },
  {
   "cell_type": "code",
   "execution_count": 86,
   "metadata": {},
   "outputs": [
    {
     "data": {
      "text/plain": [
       "[<matplotlib.lines.Line2D at 0x14d5b9250>]"
      ]
     },
     "execution_count": 86,
     "metadata": {},
     "output_type": "execute_result"
    },
    {
     "data": {
      "image/png": "[encoded data removed]",
      "text/plain": [
       "<Figure size 640x480 with 1 Axes>"
      ]
     },
     "metadata": {},
     "output_type": "display_data"
    }
   ],
   "source": [
    "df=pd.read_excel(\"datos.xlsx\",sheet_name=\"Sheet1\")\n",
    "df['t'].iloc[-1]\n",
    "datos=df.to_numpy()\n",
    "datos[:,0]\n",
    "G = ct.tf(1,[330,96,329])\n",
    "res=ct.step_response(G,datos[:,0])\n",
    "res.t\n",
    "res.y[0][0]\n",
    "plt.plot(res.t,res.y[0][0])\n",
    "\n",
    "\n",
    "    "
   ]
  },
  {
   "cell_type": "code",
   "execution_count": 68,
   "metadata": {},
   "outputs": [
    {
     "data": {
      "text/plain": [
       "0.00805247712248884"
      ]
     },
     "execution_count": 68,
     "metadata": {},
     "output_type": "execute_result"
    }
   ],
   "source": [
    "fo([1,3,1])"
   ]
  }
 ],
 "metadata": {
  "kernelspec": {
   "display_name": "base",
   "language": "python",
   "name": "python3"
  },
  "language_info": {
   "codemirror_mode": {
    "name": "ipython",
    "version": 3
   },
   "file_extension": ".py",
   "mimetype": "text/x-python",
   "name": "python",
   "nbconvert_exporter": "python",
   "pygments_lexer": "ipython3",
   "version": "3.12.4"
  }
 },
 "nbformat": 4,
 "nbformat_minor": 2
}
