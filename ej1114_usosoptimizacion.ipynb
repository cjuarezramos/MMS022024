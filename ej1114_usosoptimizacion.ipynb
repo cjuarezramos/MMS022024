{
 "cells": [
  {
   "cell_type": "code",
   "execution_count": 14,
   "metadata": {},
   "outputs": [],
   "source": [
    "import numpy as np \n",
    "import control as ct\n",
    "import matplotlib.pyplot as plt\n",
    "from scipy.optimize import minimize,NonlinearConstraint,Bounds"
   ]
  },
  {
   "cell_type": "code",
   "execution_count": 15,
   "metadata": {},
   "outputs": [],
   "source": [
    "# Función objetivo\n",
    "def fo(x):\n",
    "    K = float(x)\n",
    "    R = 2.27\n",
    "    L = 0.0047\n",
    "    Km = 0.25\n",
    "    Kb = 0.25\n",
    "    Bf = 0.003026\n",
    "    J=0.00246\n",
    "    T = ct.tf(Km*K/J/L,[1,R/L,Km*Kb/J/L,K*Km/J/L])\n",
    "    stepinfo = ct.step_info(T)\n",
    "    return stepinfo['RiseTime']\n",
    "\n",
    "def restriccion(x):\n",
    "    K = float(x)\n",
    "    R = 2.27\n",
    "    L = 0.0047\n",
    "    Km = 0.25\n",
    "    Kb = 0.25\n",
    "    Bf = 0.003026\n",
    "    J=0.00246\n",
    "    T = ct.tf(Km*K/J/L,[1,R/L,Km*Kb/J/L,K*Km/J/L])\n",
    "    stepinfo = ct.step_info(T)\n",
    "    return stepinfo['Overshoot']"
   ]
  },
  {
   "cell_type": "code",
   "execution_count": 16,
   "metadata": {},
   "outputs": [
    {
     "name": "stderr",
     "output_type": "stream",
     "text": [
      "C:\\Users\\cjuar\\AppData\\Local\\Temp\\ipykernel_20884\\1764901252.py:15: DeprecationWarning: Conversion of an array with ndim > 0 to a scalar is deprecated, and will error in future. Ensure you extract a single element from your array before performing this operation. (Deprecated NumPy 1.25.)\n",
      "  K = float(x)\n",
      "C:\\Users\\cjuar\\AppData\\Local\\Temp\\ipykernel_20884\\1764901252.py:3: DeprecationWarning: Conversion of an array with ndim > 0 to a scalar is deprecated, and will error in future. Ensure you extract a single element from your array before performing this operation. (Deprecated NumPy 1.25.)\n",
      "  K = float(x)\n"
     ]
    },
    {
     "data": {
      "text/plain": [
       " message: Optimization terminated successfully\n",
       " success: True\n",
       "  status: 0\n",
       "     fun: 0.5448505767510389\n",
       "       x: [ 7.538e-01]\n",
       "     nit: 5\n",
       "     jac: [ 4.766e-03]\n",
       "    nfev: 21\n",
       "    njev: 5"
      ]
     },
     "execution_count": 16,
     "metadata": {},
     "output_type": "execute_result"
    }
   ],
   "source": [
    "c = NonlinearConstraint(restriccion,0,10)\n",
    "minimize(fo,0.1,constraints=c)"
   ]
  },
  {
   "cell_type": "code",
   "execution_count": 17,
   "metadata": {},
   "outputs": [
    {
     "data": {
      "text/plain": [
       "{'RiseTime': 0.38724789090422745,\n",
       " 'SettlingTime': 0.606063454070232,\n",
       " 'SettlingMin': 0.9000416049217858,\n",
       " 'SettlingMax': 1.0078419996890065,\n",
       " 'Overshoot': 0.7841999689006451,\n",
       " 'Undershoot': 0,\n",
       " 'Peak': 1.0078419996890065,\n",
       " 'PeakTime': 0.8553432991228019,\n",
       " 'SteadyStateValue': 1.0}"
      ]
     },
     "execution_count": 17,
     "metadata": {},
     "output_type": "execute_result"
    }
   ],
   "source": [
    "K= 1\n",
    "R = 2.27\n",
    "L = 0.0047\n",
    "Km = 0.25\n",
    "Kb = 0.25\n",
    "Bf = 0.003026\n",
    "J=0.00246\n",
    "T = ct.tf(Km*K/J/L,[1,R/L,Km*Kb/J/L,K*Km/J/L])\n",
    "ct.step_info(T)"
   ]
  },
  {
   "cell_type": "code",
   "execution_count": 18,
   "metadata": {},
   "outputs": [
    {
     "name": "stdout",
     "output_type": "stream",
     "text": [
      "[-1.+0.j]\n",
      "[-9.70139107+0.j         -0.14930446+0.28422909j -0.14930446-0.28422909j]\n"
     ]
    },
    {
     "data": {
      "image/png": "[encoded data removed]",
      "text/plain": [
       "<Figure size 640x480 with 1 Axes>"
      ]
     },
     "metadata": {},
     "output_type": "display_data"
    }
   ],
   "source": [
    "H = ct.tf([1,1],[1,10,3,1])\n",
    "print(H.zeros())\n",
    "print(H.poles())\n",
    "s = ct.step_info(H)\n",
    "r = ct.step_response(H)\n",
    "r.y[0][0]\n",
    "plt.plot(r.t,r.y[0][0])\n",
    "\n",
    "import pandas as pd\n",
    "datos = {'t':r.t,'y':r.y[0][0] }\n",
    "df = pd.DataFrame(datos)\n",
    "df.to_excel(\"datos.xlsx\",index=False)"
   ]
  },
  {
   "cell_type": "code",
   "execution_count": 19,
   "metadata": {},
   "outputs": [
    {
     "data": {
      "text/plain": [
       "{'RiseTime': 4.542606528670085,\n",
       " 'SettlingTime': 24.99145598061442,\n",
       " 'SettlingMin': 0.9002953270820776,\n",
       " 'SettlingMax': 1.20387895393966,\n",
       " 'Overshoot': 20.387895393965994,\n",
       " 'Undershoot': 0,\n",
       " 'Peak': 1.20387895393966,\n",
       " 'PeakTime': 10.025062683961567,\n",
       " 'SteadyStateValue': 1.0}"
      ]
     },
     "execution_count": 19,
     "metadata": {},
     "output_type": "execute_result"
    }
   ],
   "source": [
    "s"
   ]
  },
  {
   "cell_type": "code",
   "execution_count": 20,
   "metadata": {},
   "outputs": [],
   "source": [
    "# hipotesis\n",
    "# existe un A, B y C que me de la misma grafica la orginal\n",
    "# donde G(s)= A/(s**2+Bs+C)\n",
    "\n",
    "def fo(x):\n",
    "    A = x[0]\n",
    "    B = x[1]\n",
    "    C = x[2]\n",
    "    G = ct.tf(A,[1,B,C])\n",
    "    df=pd.read_excel(\"datos.xlsx\",sheet_name=\"Sheet1\")\n",
    "    datos=df.to_numpy()\n",
    "    res = ct.step_response(G,datos[:,0])\n",
    "    emc = sum((datos[:,1]-res.y[0][0])**2)/len(res.t)\n",
    "    return emc\n",
    "def restriccion(x):\n",
    "    res = [0,0,0]\n",
    "    A = x[0]\n",
    "    B = x[1]\n",
    "    C = x[2]\n",
    "    G = ct.tf(A,[1,B,C])\n",
    "    stepinfo = ct.step_info(G)\n",
    "    res[0] = stepinfo['RiseTime']\n",
    "    res[1] = stepinfo['PeakTime']\n",
    "    res[2] = stepinfo['Overshoot']\n",
    "    return res  \n"
   ]
  },
  {
   "cell_type": "code",
   "execution_count": 27,
   "metadata": {},
   "outputs": [
    {
     "data": {
      "text/plain": [
       " message: Positive directional derivative for linesearch\n",
       " success: False\n",
       "  status: 8\n",
       "     fun: 0.006431199393365783\n",
       "       x: [ 1.000e-01  3.505e-01  1.000e-01]\n",
       "     nit: 6\n",
       "     jac: [-4.168e-01  6.418e-02  8.470e-02]\n",
       "    nfev: 8\n",
       "    njev: 2"
      ]
     },
     "execution_count": 27,
     "metadata": {},
     "output_type": "execute_result"
    }
   ],
   "source": [
    "nlc = NonlinearConstraint(restriccion,[4.5,9.5,19],[4.6,10.5,21])\n",
    "bounds = Bounds(lb=[0,0,0],ub=[.1,.5,.1])\n",
    "res=minimize(fo,[0.075,0.32,0.075],constraints=nlc,bounds=bounds)\n",
    "res"
   ]
  },
  {
   "cell_type": "code",
   "execution_count": 28,
   "metadata": {},
   "outputs": [
    {
     "data": {
      "text/plain": [
       "[<matplotlib.lines.Line2D at 0x272b3c23320>]"
      ]
     },
     "execution_count": 28,
     "metadata": {},
     "output_type": "execute_result"
    },
    {
     "data": {
      "image/png": "[encoded data removed]",
      "text/plain": [
       "<Figure size 640x480 with 1 Axes>"
      ]
     },
     "metadata": {},
     "output_type": "display_data"
    }
   ],
   "source": [
    "df=pd.read_excel(\"datos.xlsx\",sheet_name=\"Sheet1\")\n",
    "df['t'].iloc[-1]\n",
    "datos=df.to_numpy()\n",
    "datos[:,0]\n",
    "A = res.x[0]\n",
    "B=res.x[1]\n",
    "C = res.x[2]\n",
    "G = ct.tf(A,[1,B,C])\n",
    "res=ct.step_response(G,datos[:,0])\n",
    "res.t\n",
    "res.y[0][0]\n",
    "plt.plot(res.t,res.y[0][0])\n",
    "\n",
    "\n",
    "    "
   ]
  },
  {
   "cell_type": "code",
   "execution_count": null,
   "metadata": {},
   "outputs": [
    {
     "data": {
      "text/plain": [
       "0.00805247712248884"
      ]
     },
     "execution_count": 68,
     "metadata": {},
     "output_type": "execute_result"
    }
   ],
   "source": [
    "fo([1,3,1])"
   ]
  }
 ],
 "metadata": {
  "kernelspec": {
   "display_name": "base",
   "language": "python",
   "name": "python3"
  },
  "language_info": {
   "codemirror_mode": {
    "name": "ipython",
    "version": 3
   },
   "file_extension": ".py",
   "mimetype": "text/x-python",
   "name": "python",
   "nbconvert_exporter": "python",
   "pygments_lexer": "ipython3",
   "version": "3.12.3"
  }
 },
 "nbformat": 4,
 "nbformat_minor": 2
}
