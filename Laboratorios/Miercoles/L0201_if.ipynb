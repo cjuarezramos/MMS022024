{
 "cells": [
  {
   "cell_type": "markdown",
   "id": "c303b902-b856-459a-be05-09f27c4ce5fb",
   "metadata": {},
   "source": [
    "Autor:\n",
    "Fecha:\n",
    "Descripción: Ejercicios de laboratorio 2 sobre el uso del if"
   ]
  },
  {
   "cell_type": "markdown",
   "id": "e41cf3bc-03c2-4d04-bac9-279775a0664e",
   "metadata": {},
   "source": [
    "If simple"
   ]
  },
  {
   "cell_type": "markdown",
   "id": "6c8c3d0f-861a-4b37-8574-e0764e0d85b2",
   "metadata": {},
   "source": [
    "Haga un programa que solicite un número entero y diga si es par"
   ]
  },
  {
   "cell_type": "code",
   "execution_count": 3,
   "id": "6ed654e9-61a8-4343-a082-590a01cc7028",
   "metadata": {},
   "outputs": [
    {
     "name": "stdin",
     "output_type": "stream",
     "text": [
      "ingrese un numero entero:  9\n"
     ]
    }
   ],
   "source": [
    "x = int(input(\"ingrese un numero entero: \"))\n",
    "if x % 2 == 0:\n",
    "    print(x, \"es par\")"
   ]
  },
  {
   "cell_type": "markdown",
   "id": "67add049-fdf4-43a9-b98e-0ab62976fee9",
   "metadata": {},
   "source": [
    "If/else"
   ]
  },
  {
   "cell_type": "markdown",
   "id": "03232a34-6312-4966-93df-6c29889ca51f",
   "metadata": {},
   "source": [
    "Haga un programa que solicite un número entero y diga si es par o impar"
   ]
  },
  {
   "cell_type": "code",
   "execution_count": 7,
   "id": "c4af5932-c664-4cb2-a65c-db8cea284fce",
   "metadata": {},
   "outputs": [
    {
     "name": "stdin",
     "output_type": "stream",
     "text": [
      "ingrese un numero entero:  6\n"
     ]
    },
    {
     "name": "stdout",
     "output_type": "stream",
     "text": [
      "6 es par\n"
     ]
    }
   ],
   "source": [
    "y = int(input(\"ingrese un numero entero: \"))\n",
    "if y % 2 == 0:\n",
    "    print(y, \"es par\")\n",
    "else:\n",
    "    print(y, \"es impar\")"
   ]
  },
  {
   "cell_type": "markdown",
   "id": "423cb7f5-2f64-4b21-848b-32a4cb9417d8",
   "metadata": {},
   "source": [
    "If/elif"
   ]
  },
  {
   "cell_type": "markdown",
   "id": "abff95ac-6bba-497d-b1f9-cedfc5a0f967",
   "metadata": {},
   "source": [
    "Haga un programa que de solicite una fecha en formato dd/mm/aa e imprima la fecha del día siguiente a la introducida"
   ]
  },
  {
   "cell_type": "code",
   "execution_count": 37,
   "id": "0181653d-7826-4f4a-b15f-61768e76e2fd",
   "metadata": {},
   "outputs": [
    {
     "name": "stdin",
     "output_type": "stream",
     "text": [
      "Ingrese fecha dd/mm/aa:  31/12/21\n"
     ]
    }
   ],
   "source": [
    "f_a = str(input('Ingrese fecha dd/mm/aa: '))\n",
    "dd = int(f_a[:2])\n",
    "mm = int(f_a[3:5])\n",
    "aa = int(f_a[6:])"
   ]
  },
  {
   "cell_type": "code",
   "execution_count": 23,
   "id": "1aaba16c-c520-4d6d-b566-2f41aa6018b5",
   "metadata": {},
   "outputs": [
    {
     "name": "stdout",
     "output_type": "stream",
     "text": [
      "2 2 24\n"
     ]
    }
   ],
   "source": [
    "print(dd,mm,aa)"
   ]
  },
  {
   "cell_type": "code",
   "execution_count": 39,
   "id": "2982aa32-1bc3-47b4-8439-cd1094065d14",
   "metadata": {},
   "outputs": [
    {
     "name": "stdout",
     "output_type": "stream",
     "text": [
      "el mes es de 31 dias\n",
      "1 / 1 / 22\n"
     ]
    }
   ],
   "source": [
    "if mm==1 or mm==3 or mm==5 or mm==7 or mm==8 or mm==10 or mm==12:\n",
    "    print('el mes es de 31 dias')\n",
    "    if dd == 31:\n",
    "        if mm == 12:\n",
    "            print(1,\"/\",1,\"/\",aa+1)\n",
    "        else:\n",
    "            print(1,\"/\",mm+1,\"/\",aa)\n",
    "    else:\n",
    "        print(dd+1,\"/\",mm,\"/\",aa)\n",
    "elif mm == 4 or mm==6 or mm==9 or mm==11:\n",
    "    print('el mes es de 30 dias')\n",
    "else:\n",
    "    print('el mes es febrero')"
   ]
  },
  {
   "cell_type": "code",
   "execution_count": null,
   "id": "dee3ec1c-1a05-4e10-9f32-f406be90c190",
   "metadata": {},
   "outputs": [],
   "source": []
  }
 ],
 "metadata": {
  "kernelspec": {
   "display_name": "Python 3 (ipykernel)",
   "language": "python",
   "name": "python3"
  },
  "language_info": {
   "codemirror_mode": {
    "name": "ipython",
    "version": 3
   },
   "file_extension": ".py",
   "mimetype": "text/x-python",
   "name": "python",
   "nbconvert_exporter": "python",
   "pygments_lexer": "ipython3",
   "version": "3.12.4"
  }
 },
 "nbformat": 4,
 "nbformat_minor": 5
}
