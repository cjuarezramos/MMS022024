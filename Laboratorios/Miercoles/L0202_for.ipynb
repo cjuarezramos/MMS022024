{
 "cells": [
  {
   "cell_type": "markdown",
   "id": "149c68d7-2971-4178-81b2-b4a7148c3990",
   "metadata": {},
   "source": [
    "Autor:\n",
    "Fecha:\n",
    "Descripción: Ejercicios de laboratorio 2 sobre for"
   ]
  },
  {
   "cell_type": "markdown",
   "id": "f870af5e-9a1e-4772-a9c8-2378f4f83682",
   "metadata": {},
   "source": [
    "Haga un programa que solicite tres números flotantes, el primero es tiempo inicial, el segundo es tiempo final y el tercero es dt. El resultado es una lista con vector tiempo"
   ]
  },
  {
   "cell_type": "code",
   "execution_count": 29,
   "id": "fce77e4f-a094-4f25-8199-a027d03052d4",
   "metadata": {},
   "outputs": [
    {
     "name": "stdout",
     "output_type": "stream",
     "text": [
      "[1.1, 1.2000000000000002, 1.3000000000000003, 1.4000000000000004, 1.5000000000000004, 1.6000000000000005, 1.7000000000000006, 1.8000000000000007, 1.9000000000000008, 2.000000000000001]\n"
     ]
    }
   ],
   "source": [
    "tini = 1.1\n",
    "tfin = 2.0\n",
    "h = 0.1\n",
    "n=(tfin-tini)/h\n",
    "t=[tini]\n",
    "for k in range(round(n)):\n",
    "    t.append(t[k]+h)\n",
    "print(t)"
   ]
  },
  {
   "cell_type": "code",
   "execution_count": 27,
   "id": "cb496b66-d3ee-4385-a907-5811e549504b",
   "metadata": {},
   "outputs": [
    {
     "data": {
      "text/plain": [
       "9"
      ]
     },
     "execution_count": 27,
     "metadata": {},
     "output_type": "execute_result"
    }
   ],
   "source": [
    "round(n)"
   ]
  },
  {
   "cell_type": "markdown",
   "id": "0314494b-c2c4-4746-aa59-9625f29e4588",
   "metadata": {},
   "source": [
    "Haga un programa que dada una lista de entrada díga cuales son números pares y cuáles son impares. USANDO continue"
   ]
  },
  {
   "cell_type": "code",
   "execution_count": 6,
   "id": "6068ca4a-cb83-408c-921f-d5f70b1bd0c5",
   "metadata": {},
   "outputs": [
    {
     "name": "stdout",
     "output_type": "stream",
     "text": [
      "2 es par\n",
      "2 es impar\n",
      "30 es par\n",
      "30 es impar\n",
      "76 es par\n",
      "76 es impar\n",
      "9 es impar\n",
      "101 es impar\n",
      "12 es par\n",
      "12 es impar\n"
     ]
    }
   ],
   "source": [
    "l = [2, 30, 76, 9, 101, 12]\n",
    "for n in l:\n",
    "    if n % 2 == 0:\n",
    "        print(n, \"es par\")\n",
    "        continue\n",
    "    print(n,\"es impar\")"
   ]
  },
  {
   "cell_type": "markdown",
   "id": "71a2b8b6-47bf-45b3-bb70-5580368d337d",
   "metadata": {},
   "source": [
    "Haga un programa que solicite un número entero, y diga si es primo o no. USANDO break y else en el for"
   ]
  },
  {
   "cell_type": "code",
   "execution_count": 20,
   "id": "14be2a48-1952-4ff6-a37e-dbb4cbbddcc6",
   "metadata": {},
   "outputs": [
    {
     "name": "stdout",
     "output_type": "stream",
     "text": [
      "13 es primo\n"
     ]
    }
   ],
   "source": [
    "n = int(input(\"ingrese numero entero:\"))\n",
    "for i in range(2,n):\n",
    "    residuo = n % i\n",
    "    if residuo == 0:\n",
    "        print(n, 'No es primo')\n",
    "        break\n",
    "else:\n",
    "    print(n, 'es primo')\n"
   ]
  },
  {
   "cell_type": "markdown",
   "id": "ff236887-d408-4f7c-a89c-296b4fa1316f",
   "metadata": {},
   "source": [
    "Haga un programa para calcular el factorial de un número n, usando recursión"
   ]
  },
  {
   "cell_type": "code",
   "execution_count": null,
   "id": "57405e28-016b-4270-8a76-666daf1846e3",
   "metadata": {},
   "outputs": [],
   "source": []
  },
  {
   "cell_type": "markdown",
   "id": "251eae6f-ca54-4922-8d4e-7b885e37e43c",
   "metadata": {},
   "source": [
    "Calculo del determinante nxn usando recursión"
   ]
  },
  {
   "cell_type": "code",
   "execution_count": null,
   "id": "7b126b07-ab6f-49d8-bbeb-3675cb9a3309",
   "metadata": {},
   "outputs": [],
   "source": []
  }
 ],
 "metadata": {
  "kernelspec": {
   "display_name": "Python 3 (ipykernel)",
   "language": "python",
   "name": "python3"
  },
  "language_info": {
   "codemirror_mode": {
    "name": "ipython",
    "version": 3
   },
   "file_extension": ".py",
   "mimetype": "text/x-python",
   "name": "python",
   "nbconvert_exporter": "python",
   "pygments_lexer": "ipython3",
   "version": "3.11.4"
  }
 },
 "nbformat": 4,
 "nbformat_minor": 5
}
