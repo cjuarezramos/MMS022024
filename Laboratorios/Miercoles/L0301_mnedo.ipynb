{
 "cells": [
  {
   "cell_type": "code",
   "execution_count": 7,
   "metadata": {},
   "outputs": [],
   "source": [
    "# Librerias\n",
    "import numpy as np\n",
    "import matplotlib.pyplot as plt\n",
    "# Parametros del sistema\n",
    "R = 5\n",
    "C = 15e-6\n",
    "# Datos de simulacion\n",
    "Tsim = 375e-6\n",
    "h = 7.5e-6\n",
    "# cantidad de datos\n",
    "n = int(Tsim/h)\n",
    "# condiciones iniciales\n",
    "ec0 = 0\n",
    "# funcion a integrar\n",
    "def f(t,x):\n",
    "    ec = x\n",
    "    # entrada\n",
    "    if t < 75e-6:\n",
    "        v = 0\n",
    "    else:\n",
    "        v = 1\n",
    "    return -1/(R*C)*ec + 1/R/C*v\n",
    "# arreglos para almacenar datos\n",
    "ec = np.zeros(n)\n",
    "t = np.zeros(n)\n",
    "ec[0] = ec0\n",
    "for i in range(n-1):\n",
    "    k1=f(t[i],ec[i])\n",
    "    ttemp = t[i] + 1/2*h\n",
    "    xtemp = ec[i] + 1/2*h*k1\n",
    "    k2=f(ttemp,xtemp)\n",
    "    ttemp = t[i] + 1/2*h\n",
    "    xtemp = ec[i] + 1/2*h*k2\n",
    "    k3=f(ttemp,xtemp)\n",
    "    ttemp = t[i] + h\n",
    "    xtemp = ec[i] + h*k3\n",
    "    k4=f(ttemp,xtemp)\n",
    "    ec[i+1] = ec[i] + 1/6*(k1+2*k2+2*k3+k4)*h"
   ]
  },
  {
   "cell_type": "code",
   "execution_count": 6,
   "metadata": {},
   "outputs": [
    {
     "data": {
      "text/plain": [
       "1.8189894035458565e-12"
      ]
     },
     "execution_count": 6,
     "metadata": {},
     "output_type": "execute_result"
    }
   ],
   "source": [
    "f(75e-6,1)"
   ]
  }
 ],
 "metadata": {
  "kernelspec": {
   "display_name": "base",
   "language": "python",
   "name": "python3"
  },
  "language_info": {
   "codemirror_mode": {
    "name": "ipython",
    "version": 3
   },
   "file_extension": ".py",
   "mimetype": "text/x-python",
   "name": "python",
   "nbconvert_exporter": "python",
   "pygments_lexer": "ipython3",
   "version": "3.12.4"
  }
 },
 "nbformat": 4,
 "nbformat_minor": 2
}
