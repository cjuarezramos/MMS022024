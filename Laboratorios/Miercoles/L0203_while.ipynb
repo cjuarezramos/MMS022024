{
 "cells": [
  {
   "cell_type": "markdown",
   "id": "f44b6b29-c659-4721-9687-67ea3bfadc5f",
   "metadata": {},
   "source": [
    "Autor:\n",
    "Fecha:\n",
    "Descripción: Ejercicios de laboratorio 2, uso de while"
   ]
  },
  {
   "cell_type": "markdown",
   "id": "b7307c4c-adda-4c0c-8f89-f2991c4cd12c",
   "metadata": {},
   "source": [
    "Cree un progama para calcular la aproximación de $e^x = \\sum_{n = 0}^{∞} \\frac{x^n}{n!}$, dónde la cantidad de términos a utilizar es error aproximado relativo sea menor a 0.1\n",
    "Haga una vez sin usar break\n",
    "haga otra vez usando break"
   ]
  },
  {
   "cell_type": "code",
   "execution_count": 2,
   "id": "49bcde93-9609-4cfa-9990-5f53734db965",
   "metadata": {},
   "outputs": [
    {
     "name": "stdout",
     "output_type": "stream",
     "text": [
      "exp( 1 ) es  2.6666666666666665\n",
      "se usaron  4 terminos y el error aprox es: 0.062499999999999944\n"
     ]
    }
   ],
   "source": [
    "from math import factorial\n",
    "x = 1\n",
    "tol = 0.1\n",
    "error = 1\n",
    "n = -1\n",
    "sum = 0\n",
    "while error >= tol:\n",
    "    n = n + 1\n",
    "    valor_actual = sum\n",
    "    sum = sum + x**n/factorial(n)\n",
    "    if n != 0:\n",
    "        error = abs((sum-valor_actual)/sum)\n",
    "print('exp(',x,') es ',sum)\n",
    "print('se usaron ',n+1,'terminos y el error aprox es:',error)\n"
   ]
  },
  {
   "cell_type": "code",
   "execution_count": 5,
   "id": "adc5c5e1",
   "metadata": {},
   "outputs": [
    {
     "name": "stdout",
     "output_type": "stream",
     "text": [
      "calcula e^x con serie de maclaurin\n",
      "exp( 6.0 ) es  369.57142857142856\n",
      "se usaron  10 terminos y el error aprox es: 0.07514495554696553\n"
     ]
    }
   ],
   "source": [
    "print('calcula e^x con serie de maclaurin')\n",
    "x = float(input('x ='))\n",
    "tol = float(input('tolerancia='))\n",
    "n = -1\n",
    "valor_actual = 0\n",
    "while True:\n",
    "    valor_anterior = valor_actual\n",
    "    n = n + 1\n",
    "    valor_actual = valor_actual + x**n/factorial(n)\n",
    "    if n != 0:\n",
    "        error = abs((valor_actual-valor_anterior)/valor_actual)\n",
    "        if error <= tol:\n",
    "            print('exp(',x,') es ',valor_actual)\n",
    "            print('se usaron ',n+1,'terminos y el error aprox es:',error)\n",
    "            break"
   ]
  }
 ],
 "metadata": {
  "kernelspec": {
   "display_name": "Python 3 (ipykernel)",
   "language": "python",
   "name": "python3"
  },
  "language_info": {
   "codemirror_mode": {
    "name": "ipython",
    "version": 3
   },
   "file_extension": ".py",
   "mimetype": "text/x-python",
   "name": "python",
   "nbconvert_exporter": "python",
   "pygments_lexer": "ipython3",
   "version": "3.12.4"
  }
 },
 "nbformat": 4,
 "nbformat_minor": 5
}
