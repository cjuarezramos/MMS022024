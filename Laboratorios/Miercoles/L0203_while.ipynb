{
 "cells": [
  {
   "cell_type": "markdown",
   "id": "f44b6b29-c659-4721-9687-67ea3bfadc5f",
   "metadata": {},
   "source": [
    "Autor:\n",
    "Fecha:\n",
    "Descripción: Ejercicios de laboratorio 2, uso de while"
   ]
  },
  {
   "cell_type": "markdown",
   "id": "b7307c4c-adda-4c0c-8f89-f2991c4cd12c",
   "metadata": {},
   "source": [
    "Cree un progama para calcular la aproximación de $e^x = \\sum_{n = 0}^{∞} \\frac{x^n}{n!}$, dónde la cantidad de términos a utilizar es error aproximado relativo sea menor a 0.1\n",
    "Haga una vez sin usar break\n",
    "haga otra vez usando break"
   ]
  },
  {
   "cell_type": "code",
   "execution_count": null,
   "id": "49bcde93-9609-4cfa-9990-5f53734db965",
   "metadata": {},
   "outputs": [],
   "source": []
  }
 ],
 "metadata": {
  "kernelspec": {
   "display_name": "Python 3 (ipykernel)",
   "language": "python",
   "name": "python3"
  },
  "language_info": {
   "codemirror_mode": {
    "name": "ipython",
    "version": 3
   },
   "file_extension": ".py",
   "mimetype": "text/x-python",
   "name": "python",
   "nbconvert_exporter": "python",
   "pygments_lexer": "ipython3",
   "version": "3.12.3"
  }
 },
 "nbformat": 4,
 "nbformat_minor": 5
}
