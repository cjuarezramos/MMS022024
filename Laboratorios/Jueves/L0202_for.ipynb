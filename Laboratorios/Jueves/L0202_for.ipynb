{
 "cells": [
  {
   "cell_type": "markdown",
   "id": "149c68d7-2971-4178-81b2-b4a7148c3990",
   "metadata": {},
   "source": [
    "Autor:\n",
    "Fecha:\n",
    "Descripción: Ejercicios de laboratorio 2 sobre for"
   ]
  },
  {
   "cell_type": "markdown",
   "id": "f870af5e-9a1e-4772-a9c8-2378f4f83682",
   "metadata": {},
   "source": [
    "Haga un programa que solicite tres números flotantes, el primero es tiempo inicial, el segundo es tiempo final y el tercero es dt. El resultado es una lista con vector tiempo"
   ]
  },
  {
   "cell_type": "code",
   "execution_count": 15,
   "id": "fce77e4f-a094-4f25-8199-a027d03052d4",
   "metadata": {},
   "outputs": [
    {
     "name": "stdout",
     "output_type": "stream",
     "text": [
      "[0.1, 0.2, 0.30000000000000004, 0.4, 0.5, 0.6, 0.7, 0.7999999999999999, 0.8999999999999999, 0.9999999999999999, 1.0999999999999999, 1.2, 1.3, 1.4000000000000001, 1.5000000000000002]\n"
     ]
    }
   ],
   "source": [
    "tini = 0.1\n",
    "tfin = 1.5\n",
    "h = 0.1\n",
    "n = round((tfin-tini)/h)\n",
    "t = [tini]\n",
    "for k in range(n):\n",
    "    t.append(t[k]+h)\n",
    "    \n",
    "print(t)\n"
   ]
  },
  {
   "cell_type": "code",
   "execution_count": 9,
   "id": "89930dea-a0b7-4f10-9d4f-e114faad5054",
   "metadata": {},
   "outputs": [
    {
     "name": "stdout",
     "output_type": "stream",
     "text": [
      "14\n"
     ]
    }
   ],
   "source": [
    "n = (1.5-0.1)/0.1\n",
    "print(round(n))"
   ]
  },
  {
   "cell_type": "markdown",
   "id": "0314494b-c2c4-4746-aa59-9625f29e4588",
   "metadata": {},
   "source": [
    "Haga un programa que dada una lista de entrada díga cuales son números pares y cuáles son impares. USANDO continue"
   ]
  },
  {
   "cell_type": "code",
   "execution_count": 17,
   "id": "6068ca4a-cb83-408c-921f-d5f70b1bd0c5",
   "metadata": {},
   "outputs": [
    {
     "name": "stdout",
     "output_type": "stream",
     "text": [
      "1 es impar\n",
      "4 es par\n",
      "6 es par\n",
      "7 es impar\n",
      "9 es impar\n",
      "10 es par\n"
     ]
    }
   ],
   "source": [
    "l = [1, 4, 6, 7, 9, 10]\n",
    "for k in l:\n",
    "    if k % 2 == 0:\n",
    "        print(k, \"es par\")\n",
    "        continue\n",
    "    print(k,\"es impar\")"
   ]
  },
  {
   "cell_type": "markdown",
   "id": "71a2b8b6-47bf-45b3-bb70-5580368d337d",
   "metadata": {},
   "source": [
    "Haga un programa que solicite un número entero, y diga si es primo o no. USANDO break y else en el for"
   ]
  },
  {
   "cell_type": "code",
   "execution_count": null,
   "id": "14be2a48-1952-4ff6-a37e-dbb4cbbddcc6",
   "metadata": {},
   "outputs": [],
   "source": []
  },
  {
   "cell_type": "markdown",
   "id": "ff236887-d408-4f7c-a89c-296b4fa1316f",
   "metadata": {},
   "source": [
    "Haga un programa para calcular el factorial de un número n, usando recursión"
   ]
  },
  {
   "cell_type": "code",
   "execution_count": null,
   "id": "57405e28-016b-4270-8a76-666daf1846e3",
   "metadata": {},
   "outputs": [],
   "source": []
  },
  {
   "cell_type": "markdown",
   "id": "251eae6f-ca54-4922-8d4e-7b885e37e43c",
   "metadata": {},
   "source": [
    "Calculo del determinante nxn usando recursión"
   ]
  },
  {
   "cell_type": "code",
   "execution_count": null,
   "id": "7b126b07-ab6f-49d8-bbeb-3675cb9a3309",
   "metadata": {},
   "outputs": [],
   "source": []
  }
 ],
 "metadata": {
  "kernelspec": {
   "display_name": "Python 3 (ipykernel)",
   "language": "python",
   "name": "python3"
  },
  "language_info": {
   "codemirror_mode": {
    "name": "ipython",
    "version": 3
   },
   "file_extension": ".py",
   "mimetype": "text/x-python",
   "name": "python",
   "nbconvert_exporter": "python",
   "pygments_lexer": "ipython3",
   "version": "3.12.4"
  }
 },
 "nbformat": 4,
 "nbformat_minor": 5
}
