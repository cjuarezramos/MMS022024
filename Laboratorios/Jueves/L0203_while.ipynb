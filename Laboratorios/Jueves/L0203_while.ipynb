{
 "cells": [
  {
   "cell_type": "markdown",
   "id": "f44b6b29-c659-4721-9687-67ea3bfadc5f",
   "metadata": {},
   "source": [
    "Autor:\n",
    "Fecha:\n",
    "Descripción: Ejercicios de laboratorio 2, uso de while"
   ]
  },
  {
   "cell_type": "markdown",
   "id": "b7307c4c-adda-4c0c-8f89-f2991c4cd12c",
   "metadata": {},
   "source": [
    "Cree un progama para calcular la aproximación de $e^x = \\sum_{n = 0}^{∞} \\frac{x^n}{n!}$, dónde la cantidad de términos a utilizar es error aproximado relativo sea menor a 0.1\n",
    "Haga una vez sin usar break\n",
    "haga otra vez usando break"
   ]
  },
  {
   "cell_type": "code",
   "execution_count": 24,
   "id": "49bcde93-9609-4cfa-9990-5f53734db965",
   "metadata": {},
   "outputs": [
    {
     "name": "stdout",
     "output_type": "stream",
     "text": [
      "exp( 1.0 ) =  2.708333333333333\n",
      "terminos: 5 error: 0.04166666666666652\n"
     ]
    }
   ],
   "source": [
    "from math import factorial\n",
    "import numpy as np\n",
    "valor = np.empty(0)\n",
    "nterminos = np.empty(0)\n",
    "x = float(input('x='))\n",
    "tol = float(input('tol='))\n",
    "n = 0\n",
    "valor_actual = x**n/factorial(n)\n",
    "valor = np.array(valor_actual)\n",
    "nterminos = np.array(n)\n",
    "\n",
    "while True:\n",
    "    valor_anterior = valor_actual\n",
    "    n = n + 1\n",
    "    valor_actual = valor_anterior + x**n/factorial(n)\n",
    "    error = abs((valor_actual-valor_anterior))#/valor_actual)\n",
    "    valor = np.append(valor,valor_actual)\n",
    "    nterminos = np.append(nterminos,n)\n",
    "    if error <= tol:\n",
    "        break\n",
    "print('exp(',x,') = ',valor_actual)\n",
    "print('terminos:',n+1,'error:',error)\n"
   ]
  },
  {
   "cell_type": "code",
   "execution_count": 25,
   "id": "e7242411",
   "metadata": {},
   "outputs": [
    {
     "data": {
      "text/plain": [
       "array([1.        , 2.        , 2.5       , 2.66666667, 2.70833333])"
      ]
     },
     "execution_count": 25,
     "metadata": {},
     "output_type": "execute_result"
    }
   ],
   "source": [
    "valor"
   ]
  }
 ],
 "metadata": {
  "kernelspec": {
   "display_name": "Python 3 (ipykernel)",
   "language": "python",
   "name": "python3"
  },
  "language_info": {
   "codemirror_mode": {
    "name": "ipython",
    "version": 3
   },
   "file_extension": ".py",
   "mimetype": "text/x-python",
   "name": "python",
   "nbconvert_exporter": "python",
   "pygments_lexer": "ipython3",
   "version": "3.12.4"
  }
 },
 "nbformat": 4,
 "nbformat_minor": 5
}
