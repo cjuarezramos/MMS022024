{
 "cells": [
  {
   "cell_type": "markdown",
   "id": "c303b902-b856-459a-be05-09f27c4ce5fb",
   "metadata": {},
   "source": [
    "Autor:\n",
    "Fecha:\n",
    "Descripción: Ejercicios de laboratorio 2 sobre el uso del if"
   ]
  },
  {
   "cell_type": "markdown",
   "id": "e41cf3bc-03c2-4d04-bac9-279775a0664e",
   "metadata": {},
   "source": [
    "If simple"
   ]
  },
  {
   "cell_type": "markdown",
   "id": "6c8c3d0f-861a-4b37-8574-e0764e0d85b2",
   "metadata": {},
   "source": [
    "Haga un programa que solicite un número entero y diga si es par"
   ]
  },
  {
   "cell_type": "code",
   "execution_count": null,
   "id": "6ed654e9-61a8-4343-a082-590a01cc7028",
   "metadata": {},
   "outputs": [],
   "source": []
  },
  {
   "cell_type": "markdown",
   "id": "67add049-fdf4-43a9-b98e-0ab62976fee9",
   "metadata": {},
   "source": [
    "If/else"
   ]
  },
  {
   "cell_type": "markdown",
   "id": "03232a34-6312-4966-93df-6c29889ca51f",
   "metadata": {},
   "source": [
    "Haga un programa que solicite un número entero y diga si es par o impar"
   ]
  },
  {
   "cell_type": "code",
   "execution_count": null,
   "id": "c4af5932-c664-4cb2-a65c-db8cea284fce",
   "metadata": {},
   "outputs": [],
   "source": []
  },
  {
   "cell_type": "markdown",
   "id": "423cb7f5-2f64-4b21-848b-32a4cb9417d8",
   "metadata": {},
   "source": [
    "If/elif"
   ]
  },
  {
   "cell_type": "markdown",
   "id": "abff95ac-6bba-497d-b1f9-cedfc5a0f967",
   "metadata": {},
   "source": [
    "Haga un programa que de solicite una fecha en formato dd/mm/aa e imprima la fecha del día siguiente a la introducida"
   ]
  }
 ],
 "metadata": {
  "kernelspec": {
   "display_name": "Python 3 (ipykernel)",
   "language": "python",
   "name": "python3"
  },
  "language_info": {
   "codemirror_mode": {
    "name": "ipython",
    "version": 3
   },
   "file_extension": ".py",
   "mimetype": "text/x-python",
   "name": "python",
   "nbconvert_exporter": "python",
   "pygments_lexer": "ipython3",
   "version": "3.12.3"
  }
 },
 "nbformat": 4,
 "nbformat_minor": 5
}
