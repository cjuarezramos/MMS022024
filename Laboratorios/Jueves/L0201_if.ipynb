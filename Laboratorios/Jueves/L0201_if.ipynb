{
 "cells": [
  {
   "cell_type": "markdown",
   "id": "c303b902-b856-459a-be05-09f27c4ce5fb",
   "metadata": {},
   "source": [
    "Autor:\n",
    "Fecha:\n",
    "Descripción: Ejercicios de laboratorio 2 sobre el uso del if"
   ]
  },
  {
   "cell_type": "markdown",
   "id": "e41cf3bc-03c2-4d04-bac9-279775a0664e",
   "metadata": {},
   "source": [
    "If simple"
   ]
  },
  {
   "cell_type": "markdown",
   "id": "6c8c3d0f-861a-4b37-8574-e0764e0d85b2",
   "metadata": {},
   "source": [
    "Haga un programa que solicite un número entero y diga si es par"
   ]
  },
  {
   "cell_type": "code",
   "execution_count": 14,
   "id": "6ed654e9-61a8-4343-a082-590a01cc7028",
   "metadata": {},
   "outputs": [
    {
     "name": "stdin",
     "output_type": "stream",
     "text": [
      "ingrese un numero entero:  3\n"
     ]
    }
   ],
   "source": [
    "a = int(input(\"ingrese un numero entero: \"))\n",
    "if a % 2 == 0:\n",
    "    print(a, \"es par\")"
   ]
  },
  {
   "cell_type": "markdown",
   "id": "67add049-fdf4-43a9-b98e-0ab62976fee9",
   "metadata": {},
   "source": [
    "If/else"
   ]
  },
  {
   "cell_type": "markdown",
   "id": "03232a34-6312-4966-93df-6c29889ca51f",
   "metadata": {},
   "source": [
    "Haga un programa que solicite un número entero y diga si es par o impar"
   ]
  },
  {
   "cell_type": "code",
   "execution_count": 18,
   "id": "c4af5932-c664-4cb2-a65c-db8cea284fce",
   "metadata": {},
   "outputs": [
    {
     "name": "stdin",
     "output_type": "stream",
     "text": [
      "ingrese un numero entero: 5\n"
     ]
    },
    {
     "name": "stdout",
     "output_type": "stream",
     "text": [
      "5 es impar\n"
     ]
    }
   ],
   "source": [
    "b = int(input(\"ingrese un numero entero:\"))\n",
    "if b % 2 == 0:\n",
    "    print(b, \"es par\")\n",
    "else:\n",
    "    print(b, \"es impar\")"
   ]
  },
  {
   "cell_type": "markdown",
   "id": "423cb7f5-2f64-4b21-848b-32a4cb9417d8",
   "metadata": {},
   "source": [
    "If/elif"
   ]
  },
  {
   "cell_type": "markdown",
   "id": "abff95ac-6bba-497d-b1f9-cedfc5a0f967",
   "metadata": {},
   "source": [
    "Haga un programa que de solicite una fecha en formato dd/mm/aa e imprima la fecha del día siguiente a la introducida"
   ]
  },
  {
   "cell_type": "code",
   "execution_count": 34,
   "id": "ab9dc7c6-2cd0-4d83-8265-86c9f1d837c4",
   "metadata": {},
   "outputs": [
    {
     "name": "stdin",
     "output_type": "stream",
     "text": [
      "ingrese una fecha:  31/08/24\n"
     ]
    },
    {
     "name": "stdout",
     "output_type": "stream",
     "text": [
      "31 / 8 / 24\n",
      "el mes tiene 31 dias\n"
     ]
    }
   ],
   "source": [
    "fecha = input(\"ingrese una fecha: \")\n",
    "dd = int(fecha[:2])\n",
    "mm = int(fecha[3:5])\n",
    "aa = int(fecha[6:])\n",
    "print(dd, \"/\", mm, \"/\", aa)\n",
    "if mm == 1 or mm==3 or mm==5 or mm==7 or mm==8 or mm==10 or mm==12:\n",
    "    print(\"el mes tiene 31 dias\")\n",
    "    if dd != 31:\n",
    "        print(\"Dia siguiente: \",dd+1,\"/\",mm,\"/\",aa)\n",
    "    else:\n",
    "        if mm != 12:\n",
    "            print(\"Dia siguiente: \",1,\"/\",mm+1,\"/\",aa)\n",
    "        else:\n",
    "            print(\"Dia siguiente: \",1,\"/\",1,\"/\",aa+1)\n",
    "            \n",
    "elif mm == 2:\n",
    "    print(\"mes de febrero\")\n",
    "else:\n",
    "    print(\"mes de 30 dias\")"
   ]
  },
  {
   "cell_type": "code",
   "execution_count": 22,
   "id": "c2953e5f-7896-46e1-a453-a537de2bf2f3",
   "metadata": {},
   "outputs": [
    {
     "data": {
      "text/plain": [
       "'01/04/23'"
      ]
     },
     "execution_count": 22,
     "metadata": {},
     "output_type": "execute_result"
    }
   ],
   "source": [
    "fecha"
   ]
  },
  {
   "cell_type": "code",
   "execution_count": null,
   "id": "6f9f7a53-774e-4e12-81d8-340c15638452",
   "metadata": {},
   "outputs": [],
   "source": []
  }
 ],
 "metadata": {
  "kernelspec": {
   "display_name": "Python 3 (ipykernel)",
   "language": "python",
   "name": "python3"
  },
  "language_info": {
   "codemirror_mode": {
    "name": "ipython",
    "version": 3
   },
   "file_extension": ".py",
   "mimetype": "text/x-python",
   "name": "python",
   "nbconvert_exporter": "python",
   "pygments_lexer": "ipython3",
   "version": "3.12.4"
  }
 },
 "nbformat": 4,
 "nbformat_minor": 5
}
