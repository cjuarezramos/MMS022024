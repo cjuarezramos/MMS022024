{
 "cells": [
  {
   "cell_type": "markdown",
   "id": "6889d2a2-d6fe-4872-9f4a-0d94b631081b",
   "metadata": {},
   "source": [
    "Instrucción Asignación"
   ]
  },
  {
   "cell_type": "code",
   "execution_count": 3,
   "id": "6a49fa1d-7c62-49d1-b138-0ae0e902f0eb",
   "metadata": {},
   "outputs": [],
   "source": [
    "nombre_variable1 = 5.5\n",
    "nombre_variable2 = 9\n",
    "nombre_variable3 = \"hola\""
   ]
  },
  {
   "cell_type": "code",
   "execution_count": 7,
   "id": "e05d25ee-9197-42dd-b811-025c6703262e",
   "metadata": {},
   "outputs": [
    {
     "name": "stdout",
     "output_type": "stream",
     "text": [
      "hola\n"
     ]
    }
   ],
   "source": [
    "print(nombre_variable3)"
   ]
  },
  {
   "cell_type": "code",
   "execution_count": 13,
   "id": "6728207a-66ec-41fb-9642-88fe4b941d33",
   "metadata": {},
   "outputs": [
    {
     "data": {
      "text/plain": [
       "float"
      ]
     },
     "execution_count": 13,
     "metadata": {},
     "output_type": "execute_result"
    }
   ],
   "source": [
    "type(nombre_variable1)"
   ]
  },
  {
   "cell_type": "markdown",
   "id": "083d6ddd-19e7-4ac5-9234-ca1a380286a0",
   "metadata": {},
   "source": [
    "Operaciones artiméticas"
   ]
  },
  {
   "cell_type": "code",
   "execution_count": 15,
   "id": "3ff0e048-4289-4d66-908d-508c36818096",
   "metadata": {},
   "outputs": [
    {
     "data": {
      "text/plain": [
       "4"
      ]
     },
     "execution_count": 15,
     "metadata": {},
     "output_type": "execute_result"
    }
   ],
   "source": [
    "2+2"
   ]
  },
  {
   "cell_type": "code",
   "execution_count": 16,
   "id": "31d23359-1ba1-4a3d-a8b2-538cdfdfd144",
   "metadata": {},
   "outputs": [
    {
     "data": {
      "text/plain": [
       "20"
      ]
     },
     "execution_count": 16,
     "metadata": {},
     "output_type": "execute_result"
    }
   ],
   "source": [
    "50-5*6 # Operación multiplicación tiene mayor jerarquía que la resta"
   ]
  },
  {
   "cell_type": "code",
   "execution_count": 18,
   "id": "22622460-9ce5-4f22-983a-8d5150f01300",
   "metadata": {},
   "outputs": [
    {
     "data": {
      "text/plain": [
       "5.0"
      ]
     },
     "execution_count": 18,
     "metadata": {},
     "output_type": "execute_result"
    }
   ],
   "source": [
    "(50-5*6)/4"
   ]
  },
  {
   "cell_type": "code",
   "execution_count": 17,
   "id": "0c985309-73c9-4393-84c9-8deb273debbc",
   "metadata": {},
   "outputs": [
    {
     "data": {
      "text/plain": [
       "2.0"
      ]
     },
     "execution_count": 17,
     "metadata": {},
     "output_type": "execute_result"
    }
   ],
   "source": [
    "8/4 # división retorno número flotante"
   ]
  },
  {
   "cell_type": "code",
   "execution_count": 22,
   "id": "26d9e6f6-e6d5-4036-ad37-78dd587a7610",
   "metadata": {},
   "outputs": [
    {
     "data": {
      "text/plain": [
       "5.666666666666667"
      ]
     },
     "execution_count": 22,
     "metadata": {},
     "output_type": "execute_result"
    }
   ],
   "source": [
    "17/3 # división clásica"
   ]
  },
  {
   "cell_type": "code",
   "execution_count": 24,
   "id": "619a18e8-a5d1-4cca-a33f-5fa0fd26b6f2",
   "metadata": {},
   "outputs": [
    {
     "data": {
      "text/plain": [
       "5"
      ]
     },
     "execution_count": 24,
     "metadata": {},
     "output_type": "execute_result"
    }
   ],
   "source": [
    "17//3 # parte entera de la división --> cociente"
   ]
  },
  {
   "cell_type": "code",
   "execution_count": 26,
   "id": "71ee3b2c-ecd3-49e5-93d7-487fdf7220e6",
   "metadata": {},
   "outputs": [
    {
     "data": {
      "text/plain": [
       "2"
      ]
     },
     "execution_count": 26,
     "metadata": {},
     "output_type": "execute_result"
    }
   ],
   "source": [
    "17 % 3 # Residuo de la división"
   ]
  },
  {
   "cell_type": "code",
   "execution_count": 28,
   "id": "c0ae2f50-4cfe-4e41-b37d-4703a5959be6",
   "metadata": {},
   "outputs": [
    {
     "data": {
      "text/plain": [
       "25"
      ]
     },
     "execution_count": 28,
     "metadata": {},
     "output_type": "execute_result"
    }
   ],
   "source": [
    "5**2 # potencia **"
   ]
  },
  {
   "cell_type": "markdown",
   "id": "6d9d4bc2-86c9-49c3-80e4-e86e2ecd3854",
   "metadata": {},
   "source": [
    "Texto"
   ]
  },
  {
   "cell_type": "code",
   "execution_count": 40,
   "id": "c0d5403a-5d23-4604-b522-b994ddb40563",
   "metadata": {},
   "outputs": [
    {
     "data": {
      "text/plain": [
       "'py'"
      ]
     },
     "execution_count": 40,
     "metadata": {},
     "output_type": "execute_result"
    }
   ],
   "source": [
    "'py' # comilla simple o comillas doble funcionan igual"
   ]
  },
  {
   "cell_type": "code",
   "execution_count": 42,
   "id": "9f53abab-c012-47c0-b5c9-798c2e0720d6",
   "metadata": {},
   "outputs": [
    {
     "data": {
      "text/plain": [
       "'thon'"
      ]
     },
     "execution_count": 42,
     "metadata": {},
     "output_type": "execute_result"
    }
   ],
   "source": [
    "\"thon\""
   ]
  },
  {
   "cell_type": "code",
   "execution_count": 44,
   "id": "152a32db-38bc-4513-a6aa-8c32ca1bb770",
   "metadata": {},
   "outputs": [
    {
     "data": {
      "text/plain": [
       "'python'"
      ]
     },
     "execution_count": 44,
     "metadata": {},
     "output_type": "execute_result"
    }
   ],
   "source": [
    "i = 'py'\n",
    "f = 'thon'\n",
    "i + f"
   ]
  },
  {
   "cell_type": "code",
   "execution_count": 46,
   "id": "01811012-5cd3-4977-8d4d-5fb55f25569c",
   "metadata": {},
   "outputs": [
    {
     "data": {
      "text/plain": [
       "'p'"
      ]
     },
     "execution_count": 46,
     "metadata": {},
     "output_type": "execute_result"
    }
   ],
   "source": [
    "i[0] # cadenas se pueden idexar"
   ]
  },
  {
   "cell_type": "code",
   "execution_count": 48,
   "id": "973aca36-1cc3-4170-a9a6-e83b09918571",
   "metadata": {},
   "outputs": [
    {
     "data": {
      "text/plain": [
       "'n'"
      ]
     },
     "execution_count": 48,
     "metadata": {},
     "output_type": "execute_result"
    }
   ],
   "source": [
    "f[-1] # indice -1 van a la posición final"
   ]
  },
  {
   "cell_type": "code",
   "execution_count": 50,
   "id": "646aed94-6bf4-4bf9-9c2f-db38c4661325",
   "metadata": {},
   "outputs": [
    {
     "data": {
      "text/plain": [
       "'py'"
      ]
     },
     "execution_count": 50,
     "metadata": {},
     "output_type": "execute_result"
    }
   ],
   "source": [
    "word = i + f\n",
    "word[:2]"
   ]
  },
  {
   "cell_type": "code",
   "execution_count": 52,
   "id": "ac624630-c9f1-4da9-9c63-6e4c40be2623",
   "metadata": {},
   "outputs": [
    {
     "data": {
      "text/plain": [
       "'thon'"
      ]
     },
     "execution_count": 52,
     "metadata": {},
     "output_type": "execute_result"
    }
   ],
   "source": [
    "word[2:]"
   ]
  },
  {
   "cell_type": "code",
   "execution_count": 54,
   "id": "8c2ccb4a-bd76-4d3f-b438-dd921664d01f",
   "metadata": {},
   "outputs": [
    {
     "ename": "TypeError",
     "evalue": "'str' object does not support item assignment",
     "output_type": "error",
     "traceback": [
      "\u001b[1;31m---------------------------------------------------------------------------\u001b[0m",
      "\u001b[1;31mTypeError\u001b[0m                                 Traceback (most recent call last)",
      "Cell \u001b[1;32mIn[54], line 1\u001b[0m\n\u001b[1;32m----> 1\u001b[0m \u001b[43mword\u001b[49m\u001b[43m[\u001b[49m\u001b[38;5;241;43m0\u001b[39;49m\u001b[43m]\u001b[49m \u001b[38;5;241m=\u001b[39m \u001b[38;5;124m'\u001b[39m\u001b[38;5;124mJ\u001b[39m\u001b[38;5;124m'\u001b[39m\n",
      "\u001b[1;31mTypeError\u001b[0m: 'str' object does not support item assignment"
     ]
    }
   ],
   "source": [
    "word[0] = 'J' # cadenas son inmutables"
   ]
  },
  {
   "cell_type": "markdown",
   "id": "6249a43e-8fa1-4c7c-8f90-91d235413e8b",
   "metadata": {},
   "source": [
    "Listas: Agrupa conjunto de datos, puede ser de distintos tipos, lo normal es q sea un único tipo"
   ]
  },
  {
   "cell_type": "code",
   "execution_count": 21,
   "id": "86f4a8b8-85a1-4291-a468-67ee2a96a708",
   "metadata": {},
   "outputs": [],
   "source": [
    "n = [1, 2, 3, 'hola']"
   ]
  },
  {
   "cell_type": "code",
   "execution_count": 58,
   "id": "c9c62a01-8767-42bd-a547-10350f42c9d4",
   "metadata": {},
   "outputs": [
    {
     "data": {
      "text/plain": [
       "'hola'"
      ]
     },
     "execution_count": 58,
     "metadata": {},
     "output_type": "execute_result"
    }
   ],
   "source": [
    "n[-1]"
   ]
  },
  {
   "cell_type": "code",
   "execution_count": 60,
   "id": "be4b6dcc-d7b5-48ab-893f-deb4ca3153a0",
   "metadata": {},
   "outputs": [
    {
     "data": {
      "text/plain": [
       "list"
      ]
     },
     "execution_count": 60,
     "metadata": {},
     "output_type": "execute_result"
    }
   ],
   "source": [
    "type(n)"
   ]
  },
  {
   "cell_type": "code",
   "execution_count": 62,
   "id": "3fe0388b-2c02-4f6a-b816-fc5afda52ef9",
   "metadata": {},
   "outputs": [
    {
     "data": {
      "text/plain": [
       "str"
      ]
     },
     "execution_count": 62,
     "metadata": {},
     "output_type": "execute_result"
    }
   ],
   "source": [
    "type(n[-1])"
   ]
  },
  {
   "cell_type": "code",
   "execution_count": 64,
   "id": "8ce15b63-a977-45ea-ad69-ef9be53f603d",
   "metadata": {},
   "outputs": [
    {
     "data": {
      "text/plain": [
       "int"
      ]
     },
     "execution_count": 64,
     "metadata": {},
     "output_type": "execute_result"
    }
   ],
   "source": [
    "type(n[1])"
   ]
  },
  {
   "cell_type": "code",
   "execution_count": 23,
   "id": "92d8a319-125b-45e6-a849-cd6c50c503bc",
   "metadata": {},
   "outputs": [
    {
     "name": "stdout",
     "output_type": "stream",
     "text": [
      "[1, 2, 3, 4]\n"
     ]
    }
   ],
   "source": [
    "n[-1] = 4 # las listas son mutables\n",
    "print(n)"
   ]
  },
  {
   "cell_type": "code",
   "execution_count": 25,
   "id": "44b2da4b-bfbd-4544-a5af-5de4a0097ae6",
   "metadata": {},
   "outputs": [
    {
     "name": "stdout",
     "output_type": "stream",
     "text": [
      "[1, 2, 3, 4, 5, 6, 7, 8]\n"
     ]
    }
   ],
   "source": [
    "m = n + [5, 6, 7, 8] # + concatenas dos listas\n",
    "print(m)"
   ]
  },
  {
   "cell_type": "code",
   "execution_count": 27,
   "id": "b68768cb-8a7c-4ba6-81be-6c77e98af9e7",
   "metadata": {},
   "outputs": [
    {
     "name": "stdout",
     "output_type": "stream",
     "text": [
      "[1, 2, 3, 4, 5, 6, 7, 8, 9]\n"
     ]
    }
   ],
   "source": [
    "m.append(9)\n",
    "print(m)"
   ]
  },
  {
   "cell_type": "code",
   "execution_count": 31,
   "id": "c98645d2-e5ff-4f9c-84d2-cf54ceb5d100",
   "metadata": {},
   "outputs": [
    {
     "name": "stdout",
     "output_type": "stream",
     "text": [
      "[1, 2, 3, 4, 5, 6, 7, 8, 9]\n"
     ]
    }
   ],
   "source": [
    "k = m\n",
    "id(k) == id(m)\n",
    "print(k)"
   ]
  },
  {
   "cell_type": "code",
   "execution_count": 33,
   "id": "134a0655-d6e6-46e0-a63b-653596db6c9a",
   "metadata": {},
   "outputs": [
    {
     "name": "stdout",
     "output_type": "stream",
     "text": [
      "[1, 2, 3, 4, 5, 6, 7, 8, 9, 10]\n"
     ]
    }
   ],
   "source": [
    "m.append(10) # la simple asignación no copia datos. Cuando asigna una lista a una variable se asigna la referencia de variable, cualquier cambio en una variable se aplica a la otra\n",
    "print(k)"
   ]
  },
  {
   "cell_type": "code",
   "execution_count": 82,
   "id": "eabc7bc8-a2e2-4d35-a300-7727f5c18be6",
   "metadata": {},
   "outputs": [
    {
     "name": "stdout",
     "output_type": "stream",
     "text": [
      "[1, 2, 3, 4, 5, 6, 7, 8, 9, 9, 10]\n",
      "[1, 2, 3, 4, 5, 6, 7, 8, 9, 9, 10, 11]\n"
     ]
    }
   ],
   "source": [
    "o = m[:] # forma correcta de copiar datos\n",
    "m.append(11)\n",
    "print(o)\n",
    "print(m)\n"
   ]
  },
  {
   "cell_type": "code",
   "execution_count": 86,
   "id": "936b0a07-0ed1-4f41-8fe6-b9a36d2006af",
   "metadata": {},
   "outputs": [
    {
     "name": "stdout",
     "output_type": "stream",
     "text": [
      "[]\n"
     ]
    }
   ],
   "source": [
    "o[:] = [] # borrar los datos\n",
    "print(o)"
   ]
  },
  {
   "cell_type": "code",
   "execution_count": 88,
   "id": "8c253482-b544-4017-b335-b4bf25ed7edf",
   "metadata": {},
   "outputs": [
    {
     "data": {
      "text/plain": [
       "12"
      ]
     },
     "execution_count": 88,
     "metadata": {},
     "output_type": "execute_result"
    }
   ],
   "source": [
    "len(m) # longitud de una lista"
   ]
  },
  {
   "cell_type": "code",
   "execution_count": 90,
   "id": "f08aaeca-401c-4d35-afed-87c15ecab412",
   "metadata": {},
   "outputs": [
    {
     "name": "stdout",
     "output_type": "stream",
     "text": [
      "[['a', 'b', 'c'], [1, 2, 3, 4]]\n"
     ]
    }
   ],
   "source": [
    "a = ['a', 'b', 'c']\n",
    "b = [1, 2, 3, 4]\n",
    "c = [a,b] # es posible anidar listas\n",
    "print(c)"
   ]
  },
  {
   "cell_type": "code",
   "execution_count": 92,
   "id": "7407213b-d4ea-4a6a-aeae-8e898a7f2377",
   "metadata": {},
   "outputs": [
    {
     "data": {
      "text/plain": [
       "['a', 'b', 'c']"
      ]
     },
     "execution_count": 92,
     "metadata": {},
     "output_type": "execute_result"
    }
   ],
   "source": [
    "c[0] # en listas anidadas un solo indice trae una sola lista"
   ]
  },
  {
   "cell_type": "code",
   "execution_count": 94,
   "id": "f9604e4f-198b-46cd-a182-4df655f2e769",
   "metadata": {},
   "outputs": [
    {
     "data": {
      "text/plain": [
       "4"
      ]
     },
     "execution_count": 94,
     "metadata": {},
     "output_type": "execute_result"
    }
   ],
   "source": [
    "c[1][-1] # dos índices, puedo leer un elemento particular de la lista"
   ]
  },
  {
   "cell_type": "code",
   "execution_count": null,
   "id": "bda2ef91-f2ee-4aeb-8fdf-559da5c6a7f3",
   "metadata": {},
   "outputs": [],
   "source": []
  }
 ],
 "metadata": {
  "kernelspec": {
   "display_name": "Python 3 (ipykernel)",
   "language": "python",
   "name": "python3"
  },
  "language_info": {
   "codemirror_mode": {
    "name": "ipython",
    "version": 3
   },
   "file_extension": ".py",
   "mimetype": "text/x-python",
   "name": "python",
   "nbconvert_exporter": "python",
   "pygments_lexer": "ipython3",
   "version": "3.12.4"
  }
 },
 "nbformat": 4,
 "nbformat_minor": 5
}
