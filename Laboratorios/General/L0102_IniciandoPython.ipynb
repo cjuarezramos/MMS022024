{
 "cells": [
  {
   "cell_type": "markdown",
   "id": "6889d2a2-d6fe-4872-9f4a-0d94b631081b",
   "metadata": {},
   "source": [
    "Instrucción Asignación"
   ]
  },
  {
   "cell_type": "code",
   "execution_count": 2,
   "id": "6a49fa1d-7c62-49d1-b138-0ae0e902f0eb",
   "metadata": {},
   "outputs": [],
   "source": [
    "nombre_variable1 = 5.5\n",
    "nombre_variable2 = 9\n",
    "nombre_variable3 = \"hola\""
   ]
  },
  {
   "cell_type": "code",
   "execution_count": 8,
   "id": "e05d25ee-9197-42dd-b811-025c6703262e",
   "metadata": {},
   "outputs": [
    {
     "name": "stdout",
     "output_type": "stream",
     "text": [
      "9\n"
     ]
    }
   ],
   "source": [
    "print(nombre_variable2)"
   ]
  },
  {
   "cell_type": "code",
   "execution_count": 10,
   "id": "6728207a-66ec-41fb-9642-88fe4b941d33",
   "metadata": {},
   "outputs": [
    {
     "data": {
      "text/plain": [
       "float"
      ]
     },
     "execution_count": 10,
     "metadata": {},
     "output_type": "execute_result"
    }
   ],
   "source": [
    "type(nombre_variable1)"
   ]
  },
  {
   "cell_type": "markdown",
   "id": "083d6ddd-19e7-4ac5-9234-ca1a380286a0",
   "metadata": {},
   "source": [
    "Operaciones artiméticas"
   ]
  },
  {
   "cell_type": "code",
   "execution_count": 2,
   "id": "3ff0e048-4289-4d66-908d-508c36818096",
   "metadata": {},
   "outputs": [
    {
     "data": {
      "text/plain": [
       "4"
      ]
     },
     "execution_count": 2,
     "metadata": {},
     "output_type": "execute_result"
    }
   ],
   "source": [
    "2+2"
   ]
  },
  {
   "cell_type": "code",
   "execution_count": 4,
   "id": "31d23359-1ba1-4a3d-a8b2-538cdfdfd144",
   "metadata": {},
   "outputs": [
    {
     "data": {
      "text/plain": [
       "20"
      ]
     },
     "execution_count": 4,
     "metadata": {},
     "output_type": "execute_result"
    }
   ],
   "source": [
    "50-5*6 # Operación multiplicación tiene mayor jerarquía que la resta"
   ]
  },
  {
   "cell_type": "code",
   "execution_count": 16,
   "id": "22622460-9ce5-4f22-983a-8d5150f01300",
   "metadata": {},
   "outputs": [
    {
     "data": {
      "text/plain": [
       "5.0"
      ]
     },
     "execution_count": 16,
     "metadata": {},
     "output_type": "execute_result"
    }
   ],
   "source": [
    "(50-5*6)/4"
   ]
  },
  {
   "cell_type": "code",
   "execution_count": 22,
   "id": "0c985309-73c9-4393-84c9-8deb273debbc",
   "metadata": {},
   "outputs": [
    {
     "data": {
      "text/plain": [
       "2.0"
      ]
     },
     "execution_count": 22,
     "metadata": {},
     "output_type": "execute_result"
    }
   ],
   "source": [
    "8/4 # división retorno número flotante"
   ]
  },
  {
   "cell_type": "code",
   "execution_count": 22,
   "id": "26d9e6f6-e6d5-4036-ad37-78dd587a7610",
   "metadata": {},
   "outputs": [
    {
     "data": {
      "text/plain": [
       "5.666666666666667"
      ]
     },
     "execution_count": 22,
     "metadata": {},
     "output_type": "execute_result"
    }
   ],
   "source": [
    "17/3 # división clásica"
   ]
  },
  {
   "cell_type": "code",
   "execution_count": 24,
   "id": "619a18e8-a5d1-4cca-a33f-5fa0fd26b6f2",
   "metadata": {},
   "outputs": [
    {
     "data": {
      "text/plain": [
       "5"
      ]
     },
     "execution_count": 24,
     "metadata": {},
     "output_type": "execute_result"
    }
   ],
   "source": [
    "17//3 # parte entera de la división --> cociente"
   ]
  },
  {
   "cell_type": "code",
   "execution_count": 26,
   "id": "71ee3b2c-ecd3-49e5-93d7-487fdf7220e6",
   "metadata": {},
   "outputs": [
    {
     "data": {
      "text/plain": [
       "2"
      ]
     },
     "execution_count": 26,
     "metadata": {},
     "output_type": "execute_result"
    }
   ],
   "source": [
    "17 % 3 # Residuo de la división"
   ]
  },
  {
   "cell_type": "code",
   "execution_count": 28,
   "id": "c0ae2f50-4cfe-4e41-b37d-4703a5959be6",
   "metadata": {},
   "outputs": [
    {
     "data": {
      "text/plain": [
       "25"
      ]
     },
     "execution_count": 28,
     "metadata": {},
     "output_type": "execute_result"
    }
   ],
   "source": [
    "5**2 # potencia **"
   ]
  },
  {
   "cell_type": "markdown",
   "id": "6d9d4bc2-86c9-49c3-80e4-e86e2ecd3854",
   "metadata": {},
   "source": [
    "Texto"
   ]
  },
  {
   "cell_type": "code",
   "execution_count": 40,
   "id": "c0d5403a-5d23-4604-b522-b994ddb40563",
   "metadata": {},
   "outputs": [
    {
     "data": {
      "text/plain": [
       "'py'"
      ]
     },
     "execution_count": 40,
     "metadata": {},
     "output_type": "execute_result"
    }
   ],
   "source": [
    "'py' # comilla simple o comillas doble funcionan igual"
   ]
  },
  {
   "cell_type": "code",
   "execution_count": 42,
   "id": "9f53abab-c012-47c0-b5c9-798c2e0720d6",
   "metadata": {},
   "outputs": [
    {
     "data": {
      "text/plain": [
       "'thon'"
      ]
     },
     "execution_count": 42,
     "metadata": {},
     "output_type": "execute_result"
    }
   ],
   "source": [
    "\"thon\""
   ]
  },
  {
   "cell_type": "code",
   "execution_count": 8,
   "id": "152a32db-38bc-4513-a6aa-8c32ca1bb770",
   "metadata": {},
   "outputs": [
    {
     "data": {
      "text/plain": [
       "'thon py'"
      ]
     },
     "execution_count": 8,
     "metadata": {},
     "output_type": "execute_result"
    }
   ],
   "source": [
    "i = 'py'\n",
    "f = 'thon'\n",
    "f + ' ' + i"
   ]
  },
  {
   "cell_type": "code",
   "execution_count": 16,
   "id": "f4af6b0b-443f-44e0-9655-a112fd5dd612",
   "metadata": {},
   "outputs": [
    {
     "data": {
      "text/plain": [
       "'d'"
      ]
     },
     "execution_count": 16,
     "metadata": {},
     "output_type": "execute_result"
    }
   ],
   "source": [
    "u = 'universidad'\n",
    "u[-1]"
   ]
  },
  {
   "cell_type": "code",
   "execution_count": 46,
   "id": "01811012-5cd3-4977-8d4d-5fb55f25569c",
   "metadata": {},
   "outputs": [
    {
     "data": {
      "text/plain": [
       "'p'"
      ]
     },
     "execution_count": 46,
     "metadata": {},
     "output_type": "execute_result"
    }
   ],
   "source": [
    "i[0] # cadenas se pueden idexar"
   ]
  },
  {
   "cell_type": "code",
   "execution_count": 48,
   "id": "973aca36-1cc3-4170-a9a6-e83b09918571",
   "metadata": {},
   "outputs": [
    {
     "data": {
      "text/plain": [
       "'n'"
      ]
     },
     "execution_count": 48,
     "metadata": {},
     "output_type": "execute_result"
    }
   ],
   "source": [
    "f[-1] # indice -1 van a la posición final"
   ]
  },
  {
   "cell_type": "code",
   "execution_count": 28,
   "id": "646aed94-6bf4-4bf9-9c2f-db38c4661325",
   "metadata": {},
   "outputs": [
    {
     "data": {
      "text/plain": [
       "'py'"
      ]
     },
     "execution_count": 28,
     "metadata": {},
     "output_type": "execute_result"
    }
   ],
   "source": [
    "word = i + f\n",
    "word[:2]"
   ]
  },
  {
   "cell_type": "code",
   "execution_count": 36,
   "id": "2741e3c3-c7b2-4f70-8107-c15d2f390660",
   "metadata": {},
   "outputs": [
    {
     "data": {
      "text/plain": [
       "'h'"
      ]
     },
     "execution_count": 36,
     "metadata": {},
     "output_type": "execute_result"
    }
   ],
   "source": [
    "word[-3]"
   ]
  },
  {
   "cell_type": "code",
   "execution_count": 52,
   "id": "ac624630-c9f1-4da9-9c63-6e4c40be2623",
   "metadata": {},
   "outputs": [
    {
     "data": {
      "text/plain": [
       "'thon'"
      ]
     },
     "execution_count": 52,
     "metadata": {},
     "output_type": "execute_result"
    }
   ],
   "source": [
    "word[2:]"
   ]
  },
  {
   "cell_type": "code",
   "execution_count": 18,
   "id": "8c2ccb4a-bd76-4d3f-b438-dd921664d01f",
   "metadata": {},
   "outputs": [],
   "source": [
    "palabra = 'pithon'"
   ]
  },
  {
   "cell_type": "code",
   "execution_count": 20,
   "id": "6257cd96-59ec-466a-b3aa-9e0c24d45272",
   "metadata": {},
   "outputs": [
    {
     "ename": "TypeError",
     "evalue": "'str' object does not support item assignment",
     "output_type": "error",
     "traceback": [
      "\u001b[1;31m---------------------------------------------------------------------------\u001b[0m",
      "\u001b[1;31mTypeError\u001b[0m                                 Traceback (most recent call last)",
      "Cell \u001b[1;32mIn[20], line 1\u001b[0m\n\u001b[1;32m----> 1\u001b[0m palabra[\u001b[38;5;241m1\u001b[39m] \u001b[38;5;241m=\u001b[39m \u001b[38;5;124m'\u001b[39m\u001b[38;5;124my\u001b[39m\u001b[38;5;124m'\u001b[39m\n",
      "\u001b[1;31mTypeError\u001b[0m: 'str' object does not support item assignment"
     ]
    }
   ],
   "source": [
    "palabra[1] = 'y'"
   ]
  },
  {
   "cell_type": "code",
   "execution_count": 22,
   "id": "39b3b1a5-d041-4120-a6db-b6150b043129",
   "metadata": {},
   "outputs": [
    {
     "name": "stdout",
     "output_type": "stream",
     "text": [
      "python\n"
     ]
    }
   ],
   "source": [
    "palabra = 'python'\n",
    "print(palabra)"
   ]
  },
  {
   "cell_type": "code",
   "execution_count": 32,
   "id": "6970900c-f8c7-494d-b017-a1aebd0c05ed",
   "metadata": {},
   "outputs": [
    {
     "data": {
      "text/plain": [
       "'ive'"
      ]
     },
     "execution_count": 32,
     "metadata": {},
     "output_type": "execute_result"
    }
   ],
   "source": [
    "u[2:5]"
   ]
  },
  {
   "cell_type": "code",
   "execution_count": 30,
   "id": "58e56443-f747-445d-b9a0-9f12195e7b42",
   "metadata": {},
   "outputs": [
    {
     "data": {
      "text/plain": [
       "'rsidad'"
      ]
     },
     "execution_count": 30,
     "metadata": {},
     "output_type": "execute_result"
    }
   ],
   "source": [
    "u[5:]"
   ]
  },
  {
   "cell_type": "markdown",
   "id": "6249a43e-8fa1-4c7c-8f90-91d235413e8b",
   "metadata": {},
   "source": [
    "Listas: Agrupa conjunto de datos, puede ser de distintos tipos, lo normal es q sea un único tipo"
   ]
  },
  {
   "cell_type": "code",
   "execution_count": 34,
   "id": "86f4a8b8-85a1-4291-a468-67ee2a96a708",
   "metadata": {},
   "outputs": [],
   "source": [
    "n = [1, 2, 3, 'hola']"
   ]
  },
  {
   "cell_type": "code",
   "execution_count": 58,
   "id": "c9c62a01-8767-42bd-a547-10350f42c9d4",
   "metadata": {},
   "outputs": [
    {
     "data": {
      "text/plain": [
       "'hola'"
      ]
     },
     "execution_count": 58,
     "metadata": {},
     "output_type": "execute_result"
    }
   ],
   "source": [
    "n[-1]"
   ]
  },
  {
   "cell_type": "code",
   "execution_count": 60,
   "id": "be4b6dcc-d7b5-48ab-893f-deb4ca3153a0",
   "metadata": {},
   "outputs": [
    {
     "data": {
      "text/plain": [
       "list"
      ]
     },
     "execution_count": 60,
     "metadata": {},
     "output_type": "execute_result"
    }
   ],
   "source": [
    "type(n)"
   ]
  },
  {
   "cell_type": "code",
   "execution_count": 62,
   "id": "3fe0388b-2c02-4f6a-b816-fc5afda52ef9",
   "metadata": {},
   "outputs": [
    {
     "data": {
      "text/plain": [
       "str"
      ]
     },
     "execution_count": 62,
     "metadata": {},
     "output_type": "execute_result"
    }
   ],
   "source": [
    "type(n[-1])"
   ]
  },
  {
   "cell_type": "code",
   "execution_count": 64,
   "id": "8ce15b63-a977-45ea-ad69-ef9be53f603d",
   "metadata": {},
   "outputs": [
    {
     "data": {
      "text/plain": [
       "int"
      ]
     },
     "execution_count": 64,
     "metadata": {},
     "output_type": "execute_result"
    }
   ],
   "source": [
    "type(n[1])"
   ]
  },
  {
   "cell_type": "code",
   "execution_count": 36,
   "id": "92d8a319-125b-45e6-a849-cd6c50c503bc",
   "metadata": {},
   "outputs": [
    {
     "name": "stdout",
     "output_type": "stream",
     "text": [
      "[1, 2, 3, 4]\n"
     ]
    }
   ],
   "source": [
    "n[-1] = 4 # las listas son mutables\n",
    "print(n)"
   ]
  },
  {
   "cell_type": "code",
   "execution_count": 25,
   "id": "44b2da4b-bfbd-4544-a5af-5de4a0097ae6",
   "metadata": {},
   "outputs": [
    {
     "name": "stdout",
     "output_type": "stream",
     "text": [
      "[1, 2, 3, 4, 5, 6, 7, 8]\n"
     ]
    }
   ],
   "source": [
    "m = n + [5, 6, 7, 8] # + concatenas dos listas\n",
    "print(m)"
   ]
  },
  {
   "cell_type": "code",
   "execution_count": 56,
   "id": "2cb930e7-0ac4-42d8-bc53-648356c42c81",
   "metadata": {},
   "outputs": [
    {
     "ename": "IndexError",
     "evalue": "list assignment index out of range",
     "output_type": "error",
     "traceback": [
      "\u001b[1;31m---------------------------------------------------------------------------\u001b[0m",
      "\u001b[1;31mIndexError\u001b[0m                                Traceback (most recent call last)",
      "Cell \u001b[1;32mIn[56], line 2\u001b[0m\n\u001b[0;32m      1\u001b[0m m \u001b[38;5;241m=\u001b[39m [\u001b[38;5;241m1\u001b[39m, \u001b[38;5;241m2\u001b[39m, \u001b[38;5;241m3\u001b[39m, \u001b[38;5;241m4\u001b[39m, \u001b[38;5;241m5\u001b[39m, \u001b[38;5;241m6\u001b[39m, \u001b[38;5;241m7\u001b[39m, \u001b[38;5;241m8\u001b[39m]\n\u001b[1;32m----> 2\u001b[0m m[\u001b[38;5;241m8\u001b[39m] \u001b[38;5;241m=\u001b[39m \u001b[38;5;241m9\u001b[39m\n",
      "\u001b[1;31mIndexError\u001b[0m: list assignment index out of range"
     ]
    }
   ],
   "source": [
    "m = [1, 2, 3, 4, 5, 6, 7, 8]\n",
    "m[8] = 9"
   ]
  },
  {
   "cell_type": "code",
   "execution_count": 54,
   "id": "b68768cb-8a7c-4ba6-81be-6c77e98af9e7",
   "metadata": {},
   "outputs": [
    {
     "name": "stdout",
     "output_type": "stream",
     "text": [
      "[5, 'hola']\n"
     ]
    }
   ],
   "source": [
    "m = [5]\n",
    "m.append('hola')\n",
    "print(m)"
   ]
  },
  {
   "cell_type": "code",
   "execution_count": 46,
   "id": "82db31fd-1e63-4e2a-92c0-3031251f6029",
   "metadata": {},
   "outputs": [
    {
     "name": "stdout",
     "output_type": "stream",
     "text": [
      "[5, 'hola']\n"
     ]
    }
   ],
   "source": [
    "k = m\n",
    "print(k)"
   ]
  },
  {
   "cell_type": "code",
   "execution_count": 50,
   "id": "725ea81f-aa88-4b9d-a6a4-d8c2115bb6be",
   "metadata": {},
   "outputs": [
    {
     "name": "stdout",
     "output_type": "stream",
     "text": [
      "k = [5, 10]\n",
      "m = [5, 10]\n"
     ]
    }
   ],
   "source": [
    "k[1] = 10\n",
    "print('k =', k)\n",
    "print('m =', k)"
   ]
  },
  {
   "cell_type": "code",
   "execution_count": 79,
   "id": "c98645d2-e5ff-4f9c-84d2-cf54ceb5d100",
   "metadata": {},
   "outputs": [
    {
     "name": "stdout",
     "output_type": "stream",
     "text": [
      "[1, 2, 3, 4, 5, 6, 7, 8, 9, 9, 10, 9, 9, 9, 20]\n"
     ]
    }
   ],
   "source": [
    "k = m\n",
    "id(k) == id(m)\n",
    "print(k)"
   ]
  },
  {
   "cell_type": "code",
   "execution_count": 81,
   "id": "7262478a-e826-4dc8-9230-d54dcfa3f985",
   "metadata": {},
   "outputs": [],
   "source": [
    "r = [1,2,3]\n",
    "s = r"
   ]
  },
  {
   "cell_type": "code",
   "execution_count": 85,
   "id": "5e661e86-a9af-4b36-bd8a-1c0ea15ac200",
   "metadata": {},
   "outputs": [
    {
     "data": {
      "text/plain": [
       "[1, 2, 3]"
      ]
     },
     "execution_count": 85,
     "metadata": {},
     "output_type": "execute_result"
    }
   ],
   "source": [
    "s"
   ]
  },
  {
   "cell_type": "code",
   "execution_count": 91,
   "id": "666e0771-66a2-4cba-bb96-d5a24adc8b1f",
   "metadata": {},
   "outputs": [
    {
     "data": {
      "text/plain": [
       "[1, 2, 3, 25, 25]"
      ]
     },
     "execution_count": 91,
     "metadata": {},
     "output_type": "execute_result"
    }
   ],
   "source": [
    "r.append(25)\n",
    "r"
   ]
  },
  {
   "cell_type": "code",
   "execution_count": 93,
   "id": "37f07026-b805-4394-afd2-b9e1d9e6050b",
   "metadata": {},
   "outputs": [
    {
     "data": {
      "text/plain": [
       "[1, 2, 3, 25, 25]"
      ]
     },
     "execution_count": 93,
     "metadata": {},
     "output_type": "execute_result"
    }
   ],
   "source": [
    "s"
   ]
  },
  {
   "cell_type": "code",
   "execution_count": 97,
   "id": "6a41fd44-6e11-4db2-b2c9-f27aa50d68bc",
   "metadata": {},
   "outputs": [
    {
     "data": {
      "text/plain": [
       "[1, 2, 3, 25, 25]"
      ]
     },
     "execution_count": 97,
     "metadata": {},
     "output_type": "execute_result"
    }
   ],
   "source": [
    "v = s[:]\n",
    "v"
   ]
  },
  {
   "cell_type": "code",
   "execution_count": 99,
   "id": "0f96b22c-ef62-469f-ad85-600428676bc7",
   "metadata": {},
   "outputs": [
    {
     "name": "stdout",
     "output_type": "stream",
     "text": [
      "s=  [1, 2, 3, 25, 25, 50]\n",
      "v=  [1, 2, 3, 25, 25]\n"
     ]
    }
   ],
   "source": [
    "s.append(50)\n",
    "print('s= ', s)\n",
    "print('v= ', v)"
   ]
  },
  {
   "cell_type": "code",
   "execution_count": 65,
   "id": "134a0655-d6e6-46e0-a63b-653596db6c9a",
   "metadata": {},
   "outputs": [
    {
     "name": "stdout",
     "output_type": "stream",
     "text": [
      "[1, 2, 3, 4, 5, 6, 7, 8, 9, 9, 10]\n"
     ]
    }
   ],
   "source": [
    "m.append(10) # la simple asignación no copia datos. Cuando asigna una lista a una variable se asigna la referencia de variable, cualquier cambio en una variable se aplica a la otra\n",
    "print(k)"
   ]
  },
  {
   "cell_type": "code",
   "execution_count": 82,
   "id": "eabc7bc8-a2e2-4d35-a300-7727f5c18be6",
   "metadata": {},
   "outputs": [
    {
     "name": "stdout",
     "output_type": "stream",
     "text": [
      "[1, 2, 3, 4, 5, 6, 7, 8, 9, 9, 10]\n",
      "[1, 2, 3, 4, 5, 6, 7, 8, 9, 9, 10, 11]\n"
     ]
    }
   ],
   "source": [
    "o = m[:] # forma correcta de copiar datos\n",
    "m.append(11)\n",
    "print(o)\n",
    "print(m)\n"
   ]
  },
  {
   "cell_type": "code",
   "execution_count": 86,
   "id": "936b0a07-0ed1-4f41-8fe6-b9a36d2006af",
   "metadata": {},
   "outputs": [
    {
     "name": "stdout",
     "output_type": "stream",
     "text": [
      "[]\n"
     ]
    }
   ],
   "source": [
    "o[:] = [] # borrar los datos\n",
    "print(o)"
   ]
  },
  {
   "cell_type": "code",
   "execution_count": 88,
   "id": "8c253482-b544-4017-b335-b4bf25ed7edf",
   "metadata": {},
   "outputs": [
    {
     "data": {
      "text/plain": [
       "12"
      ]
     },
     "execution_count": 88,
     "metadata": {},
     "output_type": "execute_result"
    }
   ],
   "source": [
    "len(m) # longitud de una lista"
   ]
  },
  {
   "cell_type": "code",
   "execution_count": 56,
   "id": "f08aaeca-401c-4d35-afed-87c15ecab412",
   "metadata": {},
   "outputs": [
    {
     "name": "stdout",
     "output_type": "stream",
     "text": [
      "[['a', 'b', 'c'], [1, 2, 3, 4]]\n"
     ]
    }
   ],
   "source": [
    "a = ['a', 'b', 'c']\n",
    "b = [1, 2, 3, 4]\n",
    "c = [a,b] # es posible anidar listas\n",
    "print(c)"
   ]
  },
  {
   "cell_type": "code",
   "execution_count": 60,
   "id": "fb7352d7-7f73-4c66-b361-d1fca60b38b8",
   "metadata": {},
   "outputs": [
    {
     "data": {
      "text/plain": [
       "[['a', 'b', 'c'], [1, 2, 3, 4], 6, [6]]"
      ]
     },
     "execution_count": 60,
     "metadata": {},
     "output_type": "execute_result"
    }
   ],
   "source": [
    "c.append([6])\n",
    "c"
   ]
  },
  {
   "cell_type": "code",
   "execution_count": 62,
   "id": "d25943c8-252a-44ab-a842-c827ff3208ca",
   "metadata": {},
   "outputs": [],
   "source": [
    "c[2]=[]\n"
   ]
  },
  {
   "cell_type": "code",
   "execution_count": null,
   "id": "111d9a3f-c2ab-4331-b519-9b96f1b4b974",
   "metadata": {},
   "outputs": [],
   "source": []
  },
  {
   "cell_type": "code",
   "execution_count": 66,
   "id": "a5e5eb7e-079e-4a6c-a617-3c799e9fe5ec",
   "metadata": {},
   "outputs": [],
   "source": [
    "c.clear()"
   ]
  },
  {
   "cell_type": "code",
   "execution_count": 68,
   "id": "f031a47d-4abb-45ad-8443-4ad9c33e849e",
   "metadata": {},
   "outputs": [
    {
     "data": {
      "text/plain": [
       "[]"
      ]
     },
     "execution_count": 68,
     "metadata": {},
     "output_type": "execute_result"
    }
   ],
   "source": [
    "c"
   ]
  },
  {
   "cell_type": "code",
   "execution_count": 92,
   "id": "7407213b-d4ea-4a6a-aeae-8e898a7f2377",
   "metadata": {},
   "outputs": [
    {
     "data": {
      "text/plain": [
       "['a', 'b', 'c']"
      ]
     },
     "execution_count": 92,
     "metadata": {},
     "output_type": "execute_result"
    }
   ],
   "source": [
    "c[0] # en listas anidadas un solo indice trae una sola lista"
   ]
  },
  {
   "cell_type": "code",
   "execution_count": 94,
   "id": "f9604e4f-198b-46cd-a182-4df655f2e769",
   "metadata": {},
   "outputs": [
    {
     "data": {
      "text/plain": [
       "4"
      ]
     },
     "execution_count": 94,
     "metadata": {},
     "output_type": "execute_result"
    }
   ],
   "source": [
    "c[1][-1] # dos índices, puedo leer un elemento particular de la lista"
   ]
  },
  {
   "cell_type": "code",
   "execution_count": 103,
   "id": "bda2ef91-f2ee-4aeb-8fdf-559da5c6a7f3",
   "metadata": {},
   "outputs": [
    {
     "data": {
      "text/plain": [
       "[[1, 2, 3], [4, 5, 6]]"
      ]
     },
     "execution_count": 103,
     "metadata": {},
     "output_type": "execute_result"
    }
   ],
   "source": [
    "A = [[1,2,3],[4,5,6]]\n",
    "A"
   ]
  },
  {
   "cell_type": "code",
   "execution_count": 111,
   "id": "3c4979d2-7519-4b78-99ec-0c6e73b6efdb",
   "metadata": {},
   "outputs": [
    {
     "data": {
      "text/plain": [
       "3"
      ]
     },
     "execution_count": 111,
     "metadata": {},
     "output_type": "execute_result"
    }
   ],
   "source": [
    "A[0][2]"
   ]
  },
  {
   "cell_type": "code",
   "execution_count": null,
   "id": "eef14351-00a9-4186-8669-863f0248343a",
   "metadata": {},
   "outputs": [],
   "source": []
  }
 ],
 "metadata": {
  "kernelspec": {
   "display_name": "Python 3 (ipykernel)",
   "language": "python",
   "name": "python3"
  },
  "language_info": {
   "codemirror_mode": {
    "name": "ipython",
    "version": 3
   },
   "file_extension": ".py",
   "mimetype": "text/x-python",
   "name": "python",
   "nbconvert_exporter": "python",
   "pygments_lexer": "ipython3",
   "version": "3.12.4"
  }
 },
 "nbformat": 4,
 "nbformat_minor": 5
}
