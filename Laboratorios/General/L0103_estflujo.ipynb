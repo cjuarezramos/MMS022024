{
 "cells": [
  {
   "cell_type": "markdown",
   "id": "70a5b70f-eacd-4fa6-9ac7-6c2b68fef324",
   "metadata": {},
   "source": [
    "La sentencia if"
   ]
  },
  {
   "cell_type": "code",
   "execution_count": 9,
   "id": "50a00856-ef77-49f9-8def-3d8b22604ea1",
   "metadata": {},
   "outputs": [
    {
     "name": "stdin",
     "output_type": "stream",
     "text": [
      "ingrese un numero entero:  -9\n"
     ]
    },
    {
     "name": "stdout",
     "output_type": "stream",
     "text": [
      "x se cambia a cero\n"
     ]
    }
   ],
   "source": [
    "x = int(input(\"ingrese un numero entero: \"))\n",
    "if x < 0:\n",
    "    x = 0\n",
    "    print('x se cambia a cero')\n",
    "elif x==0:\n",
    "    print('cero')\n",
    "elif x == 1:\n",
    "    print('uno')\n",
    "else:\n",
    "    print('otro')\n",
    "\n",
    "\n",
    "\n",
    "\n",
    "\n",
    "\n",
    "\n",
    "\n",
    "\n",
    "\n",
    "\n",
    "\n",
    "\n",
    "\n",
    "    \n",
    "    print(x)"
   ]
  },
  {
   "cell_type": "markdown",
   "id": "7f295317-7830-4005-a7f0-9f809a811937",
   "metadata": {},
   "source": [
    "Sentencia FOR"
   ]
  },
  {
   "cell_type": "code",
   "execution_count": 30,
   "id": "cf543806-a8b5-4d8f-b712-3d8ae91cd258",
   "metadata": {},
   "outputs": [
    {
     "name": "stdout",
     "output_type": "stream",
     "text": [
      "gato 4\n",
      "perro 5\n",
      "roedor 6\n"
     ]
    }
   ],
   "source": [
    "palabras = ['gato', 'perro', 'roedor']\n",
    "for p in palabras:\n",
    "    print(p, len(p))\n",
    "    "
   ]
  },
  {
   "cell_type": "code",
   "execution_count": 14,
   "id": "7bd2f8f1-9934-43ab-a4ae-16d141d96578",
   "metadata": {},
   "outputs": [
    {
     "name": "stdout",
     "output_type": "stream",
     "text": [
      "0\n",
      "1\n",
      "2\n",
      "3\n",
      "4\n"
     ]
    }
   ],
   "source": [
    "for i in range(5):\n",
    "    print(i)\n",
    "    "
   ]
  },
  {
   "cell_type": "code",
   "execution_count": 12,
   "id": "a311dd40-bc3a-4e45-a9c3-5fe1583ee137",
   "metadata": {},
   "outputs": [
    {
     "data": {
      "text/plain": [
       "range(0, 5)"
      ]
     },
     "execution_count": 12,
     "metadata": {},
     "output_type": "execute_result"
    }
   ],
   "source": [
    "range(5)"
   ]
  },
  {
   "cell_type": "code",
   "execution_count": 20,
   "id": "1b608245-b6ac-43c2-ab2b-f8501dc07ab8",
   "metadata": {},
   "outputs": [
    {
     "name": "stdout",
     "output_type": "stream",
     "text": [
      "[0, 1, 2, 3, 4, 5, 6, 7, 8, 9]\n"
     ]
    }
   ],
   "source": [
    "n = list(range(0,10))\n",
    "print(n)"
   ]
  },
  {
   "cell_type": "code",
   "execution_count": 16,
   "id": "68bb1bb5-5a69-4ab5-b6b9-205c4ac1f1fe",
   "metadata": {},
   "outputs": [
    {
     "name": "stdout",
     "output_type": "stream",
     "text": [
      "[1, 3, 5, 7, 9]\n"
     ]
    }
   ],
   "source": [
    "t = list(range(1,10,2))\n",
    "print(t)"
   ]
  },
  {
   "cell_type": "code",
   "execution_count": 26,
   "id": "9e121033-5f69-4f94-992b-9df843aa8197",
   "metadata": {},
   "outputs": [
    {
     "data": {
      "text/plain": [
       "20"
      ]
     },
     "execution_count": 26,
     "metadata": {},
     "output_type": "execute_result"
    }
   ],
   "source": [
    "sum(t)"
   ]
  },
  {
   "cell_type": "code",
   "execution_count": 36,
   "id": "b310efe2-4f21-4524-abb7-7010ff1fb6a1",
   "metadata": {},
   "outputs": [
    {
     "name": "stdout",
     "output_type": "stream",
     "text": [
      "0 gato\n",
      "1 perro\n",
      "2 roedor\n"
     ]
    }
   ],
   "source": [
    "palabras = ['gato', 'perro', 'roedor']\n",
    "for i in range(len(palabras)):\n",
    "    print(i,palabras[i])"
   ]
  },
  {
   "cell_type": "markdown",
   "id": "2e7d7752-2d2c-4ae0-a51c-8227cf7f4f50",
   "metadata": {},
   "source": [
    "Lazo while"
   ]
  },
  {
   "cell_type": "code",
   "execution_count": 2,
   "id": "733996c7-aa42-44fa-b139-eff5842afd22",
   "metadata": {},
   "outputs": [
    {
     "name": "stdout",
     "output_type": "stream",
     "text": [
      "0\n",
      "1\n",
      "1\n",
      "2\n",
      "3\n",
      "5\n",
      "8\n"
     ]
    }
   ],
   "source": [
    "# Serie de Fibonaci\n",
    "a, b = 0, 1\n",
    "while a < 10:\n",
    "    print(a)\n",
    "    a, b = b, a+b\n"
   ]
  },
  {
   "cell_type": "code",
   "execution_count": 40,
   "id": "f900cda6-b0d6-4158-bf40-398745330bf6",
   "metadata": {},
   "outputs": [
    {
     "name": "stdout",
     "output_type": "stream",
     "text": [
      "0\n",
      "1\n",
      "1\n",
      "2\n",
      "3\n",
      "5\n",
      "8\n",
      "Fin de la serie\n"
     ]
    }
   ],
   "source": [
    "# Serie de Fibonaci\n",
    "a, b = 0, 1\n",
    "while a < 10:\n",
    "    print(a)\n",
    "    a, b = b, a+b\n",
    "else:\n",
    "    print('Fin de la serie')"
   ]
  },
  {
   "cell_type": "code",
   "execution_count": 60,
   "id": "6a9f0270-30cb-471d-8ddb-37dc4f84d188",
   "metadata": {},
   "outputs": [
    {
     "name": "stdout",
     "output_type": "stream",
     "text": [
      "0 gato\n",
      "1 perro\n",
      "2 roedor\n",
      "fin del for\n"
     ]
    }
   ],
   "source": [
    "palabras = ['gato', 'perro', 'roedor']\n",
    "for i in range(len(palabras)):\n",
    "    print(i,palabras[i])\n",
    "else:\n",
    "    print('fin del for')"
   ]
  },
  {
   "cell_type": "code",
   "execution_count": 58,
   "id": "73a96f51-25f3-4881-b0b2-1c4fe101ff74",
   "metadata": {},
   "outputs": [
    {
     "name": "stdout",
     "output_type": "stream",
     "text": [
      "2 es número primo\n",
      "3 es número primo\n",
      "4 igual 2 * 2\n",
      "5 es número primo\n",
      "6 igual 2 * 3\n",
      "7 es número primo\n",
      "8 igual 2 * 4\n",
      "9 igual 3 * 3\n"
     ]
    }
   ],
   "source": [
    "for n in range(2, 10):\n",
    "    for x in range(2, n):\n",
    "        if n % x == 0:\n",
    "            print(n, 'igual', x, '*', n//x)\n",
    "            break # finaliza la iteración\n",
    "    else:\n",
    "        # loop fell through without finding a factor\n",
    "        print(n, 'es número primo')"
   ]
  },
  {
   "cell_type": "code",
   "execution_count": 62,
   "id": "da23122f-2348-49a5-9a08-46c986e1e32d",
   "metadata": {},
   "outputs": [
    {
     "name": "stdout",
     "output_type": "stream",
     "text": [
      "El número es par 2\n",
      "El número es impar 3\n",
      "El número es par 4\n",
      "El número es impar 5\n",
      "El número es par 6\n",
      "El número es impar 7\n",
      "El número es par 8\n",
      "El número es impar 9\n"
     ]
    }
   ],
   "source": [
    "for num in range(2, 10):\n",
    "    if num % 2 == 0:\n",
    "        print(\"El número es par\", num)\n",
    "        continue\n",
    "    print(\"El número es impar\", num)"
   ]
  },
  {
   "cell_type": "markdown",
   "id": "1d728a9a-58ab-496d-9d4e-4e87c84ff99b",
   "metadata": {},
   "source": [
    "Definiciónd e funciones"
   ]
  },
  {
   "cell_type": "code",
   "execution_count": 64,
   "id": "6b73bdaf-0af1-43af-9e95-d5269a6aa263",
   "metadata": {},
   "outputs": [],
   "source": [
    "def fib(n):    # escribe la serie de Fibonacci hasta el número n\n",
    "    \"\"\"Imprime la serie de fibonnaci.\"\"\"\n",
    "    a, b = 0, 1\n",
    "    while a < n:\n",
    "        print(a, end=' ') # end=' ' elimina salto de línea\n",
    "        a, b = b, a+b\n",
    "    print()"
   ]
  },
  {
   "cell_type": "code",
   "execution_count": 66,
   "id": "b02c513e-cfb0-4a0d-90bd-63b191ed2604",
   "metadata": {},
   "outputs": [
    {
     "name": "stdout",
     "output_type": "stream",
     "text": [
      "0 1 1 2 3 5 8 13 21 34 55 89 144 233 377 610 987 1597 \n"
     ]
    }
   ],
   "source": [
    "# Llamemos a la función\n",
    "fib(2000)"
   ]
  },
  {
   "cell_type": "code",
   "execution_count": 68,
   "id": "18b2c356-dcb5-4272-bbee-b512a4dec240",
   "metadata": {},
   "outputs": [
    {
     "ename": "TypeError",
     "evalue": "'<' not supported between instances of 'int' and 'str'",
     "output_type": "error",
     "traceback": [
      "\u001b[1;31m---------------------------------------------------------------------------\u001b[0m",
      "\u001b[1;31mTypeError\u001b[0m                                 Traceback (most recent call last)",
      "Cell \u001b[1;32mIn[68], line 1\u001b[0m\n\u001b[1;32m----> 1\u001b[0m \u001b[43mfib\u001b[49m\u001b[43m(\u001b[49m\u001b[38;5;124;43m'\u001b[39;49m\u001b[38;5;124;43mspam\u001b[39;49m\u001b[38;5;124;43m'\u001b[39;49m\u001b[43m)\u001b[49m\n",
      "Cell \u001b[1;32mIn[64], line 4\u001b[0m, in \u001b[0;36mfib\u001b[1;34m(n)\u001b[0m\n\u001b[0;32m      2\u001b[0m \u001b[38;5;250m\u001b[39m\u001b[38;5;124;03m\"\"\"Imprime la serie de fibonnaci.\"\"\"\u001b[39;00m\n\u001b[0;32m      3\u001b[0m a, b \u001b[38;5;241m=\u001b[39m \u001b[38;5;241m0\u001b[39m, \u001b[38;5;241m1\u001b[39m\n\u001b[1;32m----> 4\u001b[0m \u001b[38;5;28;01mwhile\u001b[39;00m \u001b[43ma\u001b[49m\u001b[43m \u001b[49m\u001b[38;5;241;43m<\u001b[39;49m\u001b[43m \u001b[49m\u001b[43mn\u001b[49m:\n\u001b[0;32m      5\u001b[0m     \u001b[38;5;28mprint\u001b[39m(a, end\u001b[38;5;241m=\u001b[39m\u001b[38;5;124m'\u001b[39m\u001b[38;5;124m \u001b[39m\u001b[38;5;124m'\u001b[39m)\n\u001b[0;32m      6\u001b[0m     a, b \u001b[38;5;241m=\u001b[39m b, a\u001b[38;5;241m+\u001b[39mb\n",
      "\u001b[1;31mTypeError\u001b[0m: '<' not supported between instances of 'int' and 'str'"
     ]
    }
   ],
   "source": [
    "fib('spam')"
   ]
  },
  {
   "cell_type": "code",
   "execution_count": null,
   "id": "62a6b6e4-68d8-4856-a838-f65e518be340",
   "metadata": {},
   "outputs": [],
   "source": []
  }
 ],
 "metadata": {
  "kernelspec": {
   "display_name": "Python 3 (ipykernel)",
   "language": "python",
   "name": "python3"
  },
  "language_info": {
   "codemirror_mode": {
    "name": "ipython",
    "version": 3
   },
   "file_extension": ".py",
   "mimetype": "text/x-python",
   "name": "python",
   "nbconvert_exporter": "python",
   "pygments_lexer": "ipython3",
   "version": "3.12.3"
  }
 },
 "nbformat": 4,
 "nbformat_minor": 5
}
