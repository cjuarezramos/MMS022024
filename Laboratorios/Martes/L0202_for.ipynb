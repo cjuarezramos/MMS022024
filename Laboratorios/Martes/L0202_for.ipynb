{
 "cells": [
  {
   "cell_type": "markdown",
   "id": "149c68d7-2971-4178-81b2-b4a7148c3990",
   "metadata": {},
   "source": [
    "Autor:\n",
    "Fecha:\n",
    "Descripción: Ejercicios de laboratorio 2 sobre for"
   ]
  },
  {
   "cell_type": "markdown",
   "id": "f870af5e-9a1e-4772-a9c8-2378f4f83682",
   "metadata": {},
   "source": [
    "Haga un programa que solicite tres números flotantes, el primero es tiempo inicial, el segundo es tiempo final y el tercero es dt. El resultado es una lista con vector tiempo"
   ]
  },
  {
   "cell_type": "code",
   "execution_count": 6,
   "id": "fce77e4f-a094-4f25-8199-a027d03052d4",
   "metadata": {},
   "outputs": [
    {
     "name": "stdin",
     "output_type": "stream",
     "text": [
      "Tiempo inicial:  1\n"
     ]
    },
    {
     "name": "stdout",
     "output_type": "stream",
     "text": [
      "[1.0, 1.1, 1.2000000000000002, 1.3000000000000003, 1.4000000000000004, 1.5000000000000004, 1.6000000000000005, 1.7000000000000006, 1.8000000000000007, 1.9000000000000008, 2.000000000000001, 2.100000000000001, 2.200000000000001, 2.300000000000001, 2.4000000000000012, 2.5000000000000013, 2.6000000000000014, 2.7000000000000015, 2.8000000000000016, 2.9000000000000017, 3.0000000000000018, 3.100000000000002, 3.200000000000002, 3.300000000000002, 3.400000000000002, 3.500000000000002, 3.6000000000000023, 3.7000000000000024, 3.8000000000000025, 3.9000000000000026, 4.000000000000003, 4.100000000000002, 4.200000000000002, 4.300000000000002, 4.400000000000001, 4.500000000000001, 4.6000000000000005, 4.7, 4.8, 4.8999999999999995, 4.999999999999999, 5.099999999999999, 5.199999999999998, 5.299999999999998, 5.399999999999998, 5.499999999999997, 5.599999999999997, 5.699999999999997, 5.799999999999996, 5.899999999999996, 5.999999999999996, 6.099999999999995, 6.199999999999995, 6.2999999999999945, 6.399999999999994, 6.499999999999994, 6.599999999999993, 6.699999999999993, 6.799999999999993, 6.899999999999992, 6.999999999999992, 7.099999999999992, 7.199999999999991, 7.299999999999991, 7.399999999999991, 7.49999999999999, 7.59999999999999, 7.6999999999999895, 7.799999999999989, 7.899999999999989, 7.9999999999999885, 8.099999999999989, 8.199999999999989, 8.299999999999988, 8.399999999999988, 8.499999999999988, 8.599999999999987, 8.699999999999987, 8.799999999999986, 8.899999999999986, 8.999999999999986, 9.099999999999985, 9.199999999999985, 9.299999999999985, 9.399999999999984, 9.499999999999984, 9.599999999999984, 9.699999999999983, 9.799999999999983, 9.899999999999983, 9.999999999999982]\n"
     ]
    }
   ],
   "source": [
    "tini = float(input('Tiempo inicial: '))\n",
    "tfin = 10\n",
    "h = 0.1\n",
    "t = [tini] # lista vacia\n",
    "n = int((tfin-tini)/h)\n",
    "for i in range(n):\n",
    "    t.append(t[i]+h)\n",
    "\n",
    "print(t)"
   ]
  },
  {
   "cell_type": "markdown",
   "id": "0314494b-c2c4-4746-aa59-9625f29e4588",
   "metadata": {},
   "source": [
    "Haga un programa que dada una lista de entrada díga cuales son números pares y cuáles son impares. USANDO continue"
   ]
  },
  {
   "cell_type": "code",
   "execution_count": 18,
   "id": "6068ca4a-cb83-408c-921f-d5f70b1bd0c5",
   "metadata": {},
   "outputs": [
    {
     "name": "stdout",
     "output_type": "stream",
     "text": [
      "5 es impar\n",
      "10 es par\n",
      "10 es impar\n",
      "12 es par\n",
      "12 es impar\n",
      "17 es impar\n",
      "18 es par\n",
      "18 es impar\n"
     ]
    }
   ],
   "source": [
    "l = [5, 10, 12, 17, 18]\n",
    "for i in l:\n",
    "    if i%2==0:\n",
    "        print(i, \"es par\")\n",
    "        continue\n",
    "    print(i, \"es impar\")\n",
    "    \n"
   ]
  },
  {
   "cell_type": "code",
   "execution_count": 14,
   "id": "1aadb8cb-2dff-41fd-9185-7c8429a416b8",
   "metadata": {},
   "outputs": [
    {
     "name": "stdout",
     "output_type": "stream",
     "text": [
      "5\n",
      "10\n",
      "12\n",
      "17\n",
      "18\n"
     ]
    }
   ],
   "source": [
    "for j in range(len(l)):\n",
    "    print(l[j])"
   ]
  },
  {
   "cell_type": "markdown",
   "id": "71a2b8b6-47bf-45b3-bb70-5580368d337d",
   "metadata": {},
   "source": [
    "Haga un programa que solicite un número entero, y diga si es primo o no. USANDO break y else en el for"
   ]
  },
  {
   "cell_type": "code",
   "execution_count": null,
   "id": "14be2a48-1952-4ff6-a37e-dbb4cbbddcc6",
   "metadata": {},
   "outputs": [],
   "source": []
  },
  {
   "cell_type": "markdown",
   "id": "ff236887-d408-4f7c-a89c-296b4fa1316f",
   "metadata": {},
   "source": [
    "Haga un programa para calcular el factorial de un número n, usando recursión"
   ]
  },
  {
   "cell_type": "code",
   "execution_count": null,
   "id": "57405e28-016b-4270-8a76-666daf1846e3",
   "metadata": {},
   "outputs": [],
   "source": []
  },
  {
   "cell_type": "markdown",
   "id": "251eae6f-ca54-4922-8d4e-7b885e37e43c",
   "metadata": {},
   "source": [
    "Calculo del determinante nxn usando recursión"
   ]
  },
  {
   "cell_type": "code",
   "execution_count": null,
   "id": "7b126b07-ab6f-49d8-bbeb-3675cb9a3309",
   "metadata": {},
   "outputs": [],
   "source": []
  }
 ],
 "metadata": {
  "kernelspec": {
   "display_name": "Python 3 (ipykernel)",
   "language": "python",
   "name": "python3"
  },
  "language_info": {
   "codemirror_mode": {
    "name": "ipython",
    "version": 3
   },
   "file_extension": ".py",
   "mimetype": "text/x-python",
   "name": "python",
   "nbconvert_exporter": "python",
   "pygments_lexer": "ipython3",
   "version": "3.12.4"
  }
 },
 "nbformat": 4,
 "nbformat_minor": 5
}
