{
 "cells": [
  {
   "cell_type": "markdown",
   "id": "149c68d7-2971-4178-81b2-b4a7148c3990",
   "metadata": {},
   "source": [
    "Autor:\n",
    "Fecha:\n",
    "Descripción: Ejercicios de laboratorio 2 sobre for"
   ]
  },
  {
   "cell_type": "markdown",
   "id": "f870af5e-9a1e-4772-a9c8-2378f4f83682",
   "metadata": {},
   "source": [
    "Haga un programa que solicite tres números flotantes, el primero es tiempo inicial, el segundo es tiempo final y el tercero es dt. El resultado es una lista con vector tiempo"
   ]
  },
  {
   "cell_type": "code",
   "execution_count": null,
   "id": "fce77e4f-a094-4f25-8199-a027d03052d4",
   "metadata": {},
   "outputs": [],
   "source": []
  },
  {
   "cell_type": "markdown",
   "id": "0314494b-c2c4-4746-aa59-9625f29e4588",
   "metadata": {},
   "source": [
    "Haga un programa que dada una lista de entrada díga cuales son números pares y cuáles son impares. USANDO continue"
   ]
  },
  {
   "cell_type": "code",
   "execution_count": null,
   "id": "6068ca4a-cb83-408c-921f-d5f70b1bd0c5",
   "metadata": {},
   "outputs": [],
   "source": []
  },
  {
   "cell_type": "markdown",
   "id": "71a2b8b6-47bf-45b3-bb70-5580368d337d",
   "metadata": {},
   "source": [
    "Haga un programa que solicite un número entero, y diga si es primo o no. USANDO break y else en el for"
   ]
  },
  {
   "cell_type": "code",
   "execution_count": null,
   "id": "14be2a48-1952-4ff6-a37e-dbb4cbbddcc6",
   "metadata": {},
   "outputs": [],
   "source": []
  }
 ],
 "metadata": {
  "kernelspec": {
   "display_name": "Python 3 (ipykernel)",
   "language": "python",
   "name": "python3"
  },
  "language_info": {
   "codemirror_mode": {
    "name": "ipython",
    "version": 3
   },
   "file_extension": ".py",
   "mimetype": "text/x-python",
   "name": "python",
   "nbconvert_exporter": "python",
   "pygments_lexer": "ipython3",
   "version": "3.12.3"
  }
 },
 "nbformat": 4,
 "nbformat_minor": 5
}
