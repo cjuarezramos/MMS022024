{
 "cells": [
  {
   "cell_type": "markdown",
   "id": "c303b902-b856-459a-be05-09f27c4ce5fb",
   "metadata": {},
   "source": [
    "Autor:\n",
    "Fecha:\n",
    "Descripción: Ejercicios de laboratorio 2 sobre el uso del if"
   ]
  },
  {
   "cell_type": "markdown",
   "id": "e41cf3bc-03c2-4d04-bac9-279775a0664e",
   "metadata": {},
   "source": [
    "If simple"
   ]
  },
  {
   "cell_type": "markdown",
   "id": "6c8c3d0f-861a-4b37-8574-e0764e0d85b2",
   "metadata": {},
   "source": [
    "Haga un programa que solicite un número entero y diga si es par"
   ]
  },
  {
   "cell_type": "code",
   "execution_count": 4,
   "id": "6ed654e9-61a8-4343-a082-590a01cc7028",
   "metadata": {},
   "outputs": [
    {
     "name": "stdin",
     "output_type": "stream",
     "text": [
      "Ingrese un número entero:  4\n"
     ]
    },
    {
     "name": "stdout",
     "output_type": "stream",
     "text": [
      "4  es par\n"
     ]
    }
   ],
   "source": [
    "x = int(input(\"Ingrese un número entero: \"))\n",
    "if x % 2 == 0:\n",
    "    print(x, \" es par\")"
   ]
  },
  {
   "cell_type": "markdown",
   "id": "67add049-fdf4-43a9-b98e-0ab62976fee9",
   "metadata": {},
   "source": [
    "If/else"
   ]
  },
  {
   "cell_type": "markdown",
   "id": "03232a34-6312-4966-93df-6c29889ca51f",
   "metadata": {},
   "source": [
    "Haga un programa que solicite un número entero y diga si es par o impar"
   ]
  },
  {
   "cell_type": "code",
   "execution_count": 7,
   "id": "c4af5932-c664-4cb2-a65c-db8cea284fce",
   "metadata": {},
   "outputs": [
    {
     "name": "stdin",
     "output_type": "stream",
     "text": [
      "Ingrese un número entero:  5\n"
     ]
    },
    {
     "name": "stdout",
     "output_type": "stream",
     "text": [
      "5 es impar\n"
     ]
    }
   ],
   "source": [
    "x = int(input(\"Ingrese un número entero: \"))\n",
    "if x % 2 == 0:\n",
    "    print(x,\"es par\")\n",
    "else:\n",
    "    print(x, \"es impar\")"
   ]
  },
  {
   "cell_type": "markdown",
   "id": "423cb7f5-2f64-4b21-848b-32a4cb9417d8",
   "metadata": {},
   "source": [
    "If/elif"
   ]
  },
  {
   "cell_type": "markdown",
   "id": "abff95ac-6bba-497d-b1f9-cedfc5a0f967",
   "metadata": {},
   "source": [
    "Haga un programa que de solicite una fecha en formato dd/mm/aa e imprima la fecha del día siguiente a la introducida"
   ]
  },
  {
   "cell_type": "code",
   "execution_count": 10,
   "id": "71738fc0-d5d7-4a3e-a09c-918024c956de",
   "metadata": {},
   "outputs": [
    {
     "name": "stdin",
     "output_type": "stream",
     "text": [
      "Fecha actual:  31/08/24\n"
     ]
    },
    {
     "data": {
      "text/plain": [
       "'31/08/24'"
      ]
     },
     "execution_count": 10,
     "metadata": {},
     "output_type": "execute_result"
    }
   ],
   "source": [
    "fecha = str(input(\"Fecha actual: \"))\n",
    "\n",
    "fecha"
   ]
  },
  {
   "cell_type": "code",
   "execution_count": 11,
   "id": "d95fa596-53e2-486a-b3a3-70795c3704a7",
   "metadata": {},
   "outputs": [],
   "source": [
    "dd =int(fecha[:2])\n",
    "mm = int(fecha[3:5])\n",
    "aa = int(fecha[6:])\n"
   ]
  },
  {
   "cell_type": "code",
   "execution_count": 12,
   "id": "cf1c9117-aa4a-4abc-ac45-b003ed4aa919",
   "metadata": {},
   "outputs": [
    {
     "name": "stdout",
     "output_type": "stream",
     "text": [
      "enero, marzo, mayo, julio, agosto, octubre\n",
      "fecha siguiente: 1 / 9 / 24\n"
     ]
    }
   ],
   "source": [
    "if mm==1 or mm==5 or mm==7 or mm==8 or mm==10:\n",
    "    print(\"enero, marzo, mayo, julio, agosto, octubre\")\n",
    "    if dd == 31:\n",
    "        print(\"fecha siguiente:\", 1,\"/\",mm+1,\"/\",aa)\n",
    "    \n",
    "elif mm == 2:\n",
    "    print('febrero')\n",
    "elif mm == 4 or mm==6 or mm==9 or mm==11:\n",
    "    print(\"abril,junio,septiembre,noviembre\")\n",
    "else:\n",
    "    print('diciembre')\n",
    "    \n"
   ]
  },
  {
   "cell_type": "code",
   "execution_count": 13,
   "id": "7ea3747c-3806-4660-9b99-11034314004a",
   "metadata": {},
   "outputs": [
    {
     "data": {
      "text/plain": [
       "8"
      ]
     },
     "execution_count": 13,
     "metadata": {},
     "output_type": "execute_result"
    }
   ],
   "source": [
    "mm"
   ]
  },
  {
   "cell_type": "code",
   "execution_count": null,
   "id": "93a40100-5ac6-4810-9f90-a7e555565810",
   "metadata": {},
   "outputs": [],
   "source": []
  }
 ],
 "metadata": {
  "kernelspec": {
   "display_name": "Python 3 (ipykernel)",
   "language": "python",
   "name": "python3"
  },
  "language_info": {
   "codemirror_mode": {
    "name": "ipython",
    "version": 3
   },
   "file_extension": ".py",
   "mimetype": "text/x-python",
   "name": "python",
   "nbconvert_exporter": "python",
   "pygments_lexer": "ipython3",
   "version": "3.12.3"
  }
 },
 "nbformat": 4,
 "nbformat_minor": 5
}
