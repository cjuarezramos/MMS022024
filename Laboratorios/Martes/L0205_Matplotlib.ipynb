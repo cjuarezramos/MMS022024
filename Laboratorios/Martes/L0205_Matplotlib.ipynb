{
 "cells": [
  {
   "cell_type": "markdown",
   "id": "7e63abb2-e498-4f63-98db-3e0e4e0094db",
   "metadata": {},
   "source": [
    "Autor:\n",
    "Fecha:\n",
    "Descripción: Uso de Matplolib.py"
   ]
  },
  {
   "cell_type": "code",
   "execution_count": null,
   "id": "561ad47d-533e-4598-ae92-ea3326cdba09",
   "metadata": {},
   "outputs": [],
   "source": [
    "import matplotlib.pyplot as plt"
   ]
  },
  {
   "cell_type": "code",
   "execution_count": null,
   "id": "8b6231fd-8950-4f3f-a23e-36798a051266",
   "metadata": {},
   "outputs": [],
   "source": []
  }
 ],
 "metadata": {
  "kernelspec": {
   "display_name": "Python 3 (ipykernel)",
   "language": "python",
   "name": "python3"
  },
  "language_info": {
   "codemirror_mode": {
    "name": "ipython",
    "version": 3
   },
   "file_extension": ".py",
   "mimetype": "text/x-python",
   "name": "python",
   "nbconvert_exporter": "python",
   "pygments_lexer": "ipython3",
   "version": "3.12.3"
  }
 },
 "nbformat": 4,
 "nbformat_minor": 5
}
