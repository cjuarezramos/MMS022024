{
 "cells": [
  {
   "cell_type": "markdown",
   "id": "edfea846-fdf4-4d9e-8dcf-7044516b5bb5",
   "metadata": {},
   "source": [
    "Autor:\n",
    "Fecha:\n",
    "Descripción: Uso de la librería NumPy\n",
    "https://numpy.org/doc/stable/user/absolute_beginners.html"
   ]
  },
  {
   "cell_type": "code",
   "execution_count": null,
   "id": "aeb4011e-5a10-441c-b145-2c6acedc1715",
   "metadata": {},
   "outputs": [],
   "source": [
    "import numpy as np"
   ]
  },
  {
   "cell_type": "code",
   "execution_count": null,
   "id": "f4cd521f-855b-4a74-bcee-4ef99faef8ef",
   "metadata": {},
   "outputs": [],
   "source": [
    "a = np.array([1, 2, 3],\n",
    "             [4, 5, 6]])\n"
   ]
  },
  {
   "cell_type": "code",
   "execution_count": null,
   "id": "9f735329-bc5b-479b-bbf0-e72983404e3b",
   "metadata": {},
   "outputs": [],
   "source": [
    "a.shape"
   ]
  },
  {
   "cell_type": "code",
   "execution_count": null,
   "id": "13150d7e-f121-4628-ae45-c525e2dfda0c",
   "metadata": {},
   "outputs": [],
   "source": [
    "b = np.ones(3)"
   ]
  },
  {
   "cell_type": "code",
   "execution_count": null,
   "id": "b107c1ed-8031-443f-8a37-1ca777dd6c0e",
   "metadata": {},
   "outputs": [],
   "source": [
    "c = np.ones((2,3))"
   ]
  },
  {
   "cell_type": "code",
   "execution_count": null,
   "id": "6de92f65-edce-4e6a-b44f-13c0f7da78d9",
   "metadata": {},
   "outputs": [],
   "source": [
    "x = np.array([5, 9, 25])\n",
    "y = np.array([[6],[3],[1]])"
   ]
  },
  {
   "cell_type": "code",
   "execution_count": null,
   "id": "95b32359-436a-4da9-ac32-88e0e8f872df",
   "metadata": {},
   "outputs": [],
   "source": [
    "print(\"dimensiones de x = \", x.shape)\n",
    "print(\"dimensiones de y = \", y.shape)"
   ]
  },
  {
   "cell_type": "code",
   "execution_count": null,
   "id": "202498c3-5430-4a3d-a3ec-244a5dd53efd",
   "metadata": {},
   "outputs": [],
   "source": [
    "x + y"
   ]
  },
  {
   "cell_type": "code",
   "execution_count": null,
   "id": "e635e50f-34e7-48f0-b515-e03ace06112a",
   "metadata": {},
   "outputs": [],
   "source": [
    "x * y"
   ]
  },
  {
   "cell_type": "code",
   "execution_count": null,
   "id": "e0da9cf0-f90c-4120-864a-1d60494b4628",
   "metadata": {},
   "outputs": [],
   "source": [
    "x @ y"
   ]
  },
  {
   "cell_type": "code",
   "execution_count": null,
   "id": "992f5dc0-661c-4bab-9d73-fd2fbd9e63a0",
   "metadata": {},
   "outputs": [],
   "source": [
    "y @ x"
   ]
  },
  {
   "cell_type": "code",
   "execution_count": null,
   "id": "d2dfbdc5-0ca1-4533-a3bc-c7ee0c56c5c5",
   "metadata": {},
   "outputs": [],
   "source": [
    "x = np.array([[5, 9, 25]])"
   ]
  },
  {
   "cell_type": "code",
   "execution_count": null,
   "id": "23715864-c698-40a0-b336-01e680f41dbb",
   "metadata": {},
   "outputs": [],
   "source": [
    "z = y"
   ]
  },
  {
   "cell_type": "code",
   "execution_count": null,
   "id": "d238905c-1b95-4644-996e-23d82a68c95a",
   "metadata": {},
   "outputs": [],
   "source": [
    "z[0] = 500"
   ]
  },
  {
   "cell_type": "code",
   "execution_count": null,
   "id": "e92d8379-d7c1-4598-8cf8-5ebc46840181",
   "metadata": {},
   "outputs": [],
   "source": [
    "print(y)"
   ]
  },
  {
   "cell_type": "code",
   "execution_count": null,
   "id": "10360e3d-efae-4c1e-8cef-68cd483c08f0",
   "metadata": {},
   "outputs": [],
   "source": [
    "w = y.copy()"
   ]
  },
  {
   "cell_type": "code",
   "execution_count": null,
   "id": "3e401944-8f41-4468-8433-36a866f05d6f",
   "metadata": {},
   "outputs": [],
   "source": [
    "w[0] = 1\n",
    "print(\"y= \", y)\n"
   ]
  },
  {
   "cell_type": "code",
   "execution_count": null,
   "id": "460fa761-81eb-4881-b4e5-0fbde441597d",
   "metadata": {},
   "outputs": [],
   "source": [
    "y**2"
   ]
  },
  {
   "cell_type": "code",
   "execution_count": null,
   "id": "4ee23379-bd71-43a9-a2d7-831a72dfb5ba",
   "metadata": {},
   "outputs": [],
   "source": [
    "y>=5"
   ]
  },
  {
   "cell_type": "code",
   "execution_count": null,
   "id": "f238fdd3-4ab6-4b47-8685-455011f0cc77",
   "metadata": {},
   "outputs": [],
   "source": []
  }
 ],
 "metadata": {
  "kernelspec": {
   "display_name": "Python 3 (ipykernel)",
   "language": "python",
   "name": "python3"
  },
  "language_info": {
   "codemirror_mode": {
    "name": "ipython",
    "version": 3
   },
   "file_extension": ".py",
   "mimetype": "text/x-python",
   "name": "python",
   "nbconvert_exporter": "python",
   "pygments_lexer": "ipython3",
   "version": "3.12.4"
  }
 },
 "nbformat": 4,
 "nbformat_minor": 5
}
