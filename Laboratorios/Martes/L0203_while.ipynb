{
 "cells": [
  {
   "cell_type": "markdown",
   "id": "f44b6b29-c659-4721-9687-67ea3bfadc5f",
   "metadata": {},
   "source": [
    "Autor:\n",
    "Fecha:\n",
    "Descripción: Ejercicios de laboratorio 2, uso de while"
   ]
  },
  {
   "cell_type": "markdown",
   "id": "b7307c4c-adda-4c0c-8f89-f2991c4cd12c",
   "metadata": {},
   "source": [
    "Cree un progama para calcular la aproximación de $e^x = \\sum_{n = 0}^{∞} \\frac{x^n}{n!}$, dónde la cantidad de términos a utilizar es error aproximado relativo sea menor a 0.1\n",
    "Haga una vez sin usar break\n",
    "haga otra vez usando break"
   ]
  },
  {
   "cell_type": "code",
   "execution_count": 8,
   "id": "49bcde93-9609-4cfa-9990-5f53734db965",
   "metadata": {},
   "outputs": [
    {
     "name": "stdout",
     "output_type": "stream",
     "text": [
      "2.6666666666666665\n"
     ]
    }
   ],
   "source": [
    "# cuando quiero importar una sola funcion de una libreria\n",
    "from math import factorial\n",
    "x = 1\n",
    "tol = 0.1 # error tolerable\n",
    "error = 1 # cualquier valor que haga q entre al while\n",
    "sum = 0\n",
    "n = 0\n",
    "while error > tol:\n",
    "    val_ant = sum\n",
    "    sum = sum + x**n/factorial(n)\n",
    "    val_act = sum\n",
    "    if n != 0:\n",
    "        error = abs((val_act-val_ant)/val_act)\n",
    "    n = n + 1\n",
    "    \n",
    "print(val_act)\n"
   ]
  },
  {
   "cell_type": "code",
   "execution_count": 12,
   "id": "544e29ff-76a1-4990-8d45-e695c396796d",
   "metadata": {},
   "outputs": [
    {
     "name": "stdout",
     "output_type": "stream",
     "text": [
      "programa exp(x) aprox\n"
     ]
    },
    {
     "name": "stdin",
     "output_type": "stream",
     "text": [
      "x:  0\n",
      "tolerancia:  0.1\n"
     ]
    },
    {
     "name": "stdout",
     "output_type": "stream",
     "text": [
      "exp( 0.0 ) es = 1.0\n",
      "Se usuaron 2 terminos\n",
      "error aprox: 0.0\n"
     ]
    }
   ],
   "source": [
    "print('programa exp(x) aprox')\n",
    "x = float(input('x: '))\n",
    "tol = float(input('tolerancia: '))\n",
    "n = 0\n",
    "sum = 0\n",
    "while True:\n",
    "    val_ant = sum\n",
    "    sum = sum + x**n / factorial(n)\n",
    "    val_act = sum\n",
    "    if n !=0:\n",
    "        error = abs((val_act-val_ant)/val_act)\n",
    "        if error <= tol:\n",
    "            print('exp(',x,') es =',val_act)\n",
    "            print('Se usuaron',n+1,'terminos')\n",
    "            print('error aprox:',error)\n",
    "            break\n",
    "    n = n + 1"
   ]
  },
  {
   "cell_type": "code",
   "execution_count": null,
   "id": "7a65d218-9cb6-4dd2-86ec-af585ec8a442",
   "metadata": {},
   "outputs": [],
   "source": []
  }
 ],
 "metadata": {
  "kernelspec": {
   "display_name": "Python 3 (ipykernel)",
   "language": "python",
   "name": "python3"
  },
  "language_info": {
   "codemirror_mode": {
    "name": "ipython",
    "version": 3
   },
   "file_extension": ".py",
   "mimetype": "text/x-python",
   "name": "python",
   "nbconvert_exporter": "python",
   "pygments_lexer": "ipython3",
   "version": "3.12.4"
  }
 },
 "nbformat": 4,
 "nbformat_minor": 5
}
