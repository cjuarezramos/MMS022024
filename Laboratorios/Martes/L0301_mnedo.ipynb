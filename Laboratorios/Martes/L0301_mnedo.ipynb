{
 "cells": [
  {
   "cell_type": "code",
   "execution_count": 38,
   "metadata": {},
   "outputs": [],
   "source": [
    "# Autor Carlos Juarez\n",
    "# Fecha: 24/09/2024\n",
    "# comentarios: solución de un sistema de primer orden por runge kutta 4\n",
    "\n",
    "# Importacion de librerias\n",
    "import numpy as np\n",
    "import matplotlib.pyplot as plt\n",
    "\n",
    "# Parametros del sistema\n",
    "R = 5000  #ohms\n",
    "C = 1e-6 #Faradios\n",
    "\n",
    "# Definicion de la funcion f\n",
    "def f(t,x):\n",
    "    ec = x\n",
    "    # Entrada\n",
    "    if t < 0:\n",
    "        v = 0\n",
    "    else:\n",
    "        v = 1\n",
    "    # v = 0.01*np.cos(2*np.pi*0.1*t)\n",
    "    sal = -1/(R*C)*ec + 1/R/C*v\n",
    "    return sal\n",
    "\n",
    "# solucion por RK4\n",
    "# Datos de tiempo de integracion y tiempo de simulacion\n",
    "tfin = 0.025 # aprox tau * 5\n",
    "h = 0.0005a # aprox tau/10\n",
    "n = int(tfin/h) # cantidad de pasos\n",
    "# Condiciones iniciales\n",
    "ec0 =  0\n",
    "# arreglos almacenar informacion\n",
    "# inicializo en cero todos los arreglos\n",
    "t = np.zeros(n)\n",
    "x = np.zeros(n)\n",
    "# agregando condicion inicial al arreglo x\n",
    "x[0] = ec0\n",
    "for i in range(n-1):\n",
    "    k1 = f(t[i],x[i])\n",
    "    ttemp = t[i]+1/2*h\n",
    "    xtemp = x[i]+1/2*k1*h\n",
    "    k2 = f(ttemp,xtemp)\n",
    "    ttemp = t[i]+1/2*h\n",
    "    xtemp = x[i]+1/2*k2*h\n",
    "    k3 = f(ttemp,xtemp)\n",
    "    ttemp = t[i]+h\n",
    "    xtemp = x[i]+k3*h\n",
    "    k4 = f(ttemp,xtemp)\n",
    "    x[i+1] = x[i] + 1/6*(k1+2*k2+2*k3+k4)*h\n",
    "    t[i+1] = t[i] + h\n",
    "    \n"
   ]
  },
  {
   "cell_type": "code",
   "execution_count": 39,
   "metadata": {},
   "outputs": [
    {
     "data": {
      "text/plain": [
       "[<matplotlib.lines.Line2D at 0x23ecd581ac0>]"
      ]
     },
     "execution_count": 39,
     "metadata": {},
     "output_type": "execute_result"
    },
    {
     "data": {
      "image/png": "[encoded data removed]",
      "text/plain": [
       "<Figure size 640x480 with 1 Axes>"
      ]
     },
     "metadata": {},
     "output_type": "display_data"
    }
   ],
   "source": [
    "plt.plot(t,x)"
   ]
  },
  {
   "cell_type": "code",
   "execution_count": null,
   "metadata": {},
   "outputs": [],
   "source": []
  },
  {
   "cell_type": "code",
   "execution_count": 40,
   "metadata": {},
   "outputs": [
    {
     "data": {
      "text/plain": [
       "-12600.0"
      ]
     },
     "execution_count": 40,
     "metadata": {},
     "output_type": "execute_result"
    }
   ],
   "source": [
    "f(0,64)"
   ]
  }
 ],
 "metadata": {
  "kernelspec": {
   "display_name": "base",
   "language": "python",
   "name": "python3"
  },
  "language_info": {
   "codemirror_mode": {
    "name": "ipython",
    "version": 3
   },
   "file_extension": ".py",
   "mimetype": "text/x-python",
   "name": "python",
   "nbconvert_exporter": "python",
   "pygments_lexer": "ipython3",
   "version": "3.12.4"
  }
 },
 "nbformat": 4,
 "nbformat_minor": 2
}
