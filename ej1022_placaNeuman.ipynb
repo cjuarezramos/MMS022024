{
 "cells": [
  {
   "cell_type": "code",
   "execution_count": 13,
   "metadata": {},
   "outputs": [
    {
     "data": {
      "text/plain": [
       "<matplotlib.colorbar.Colorbar at 0x114f32030>"
      ]
     },
     "execution_count": 13,
     "metadata": {},
     "output_type": "execute_result"
    },
    {
     "data": {
      "image/png": "[encoded data removed]",
      "text/plain": [
       "<Figure size 640x480 with 2 Axes>"
      ]
     },
     "metadata": {},
     "output_type": "display_data"
    }
   ],
   "source": [
    "# soluciòn de la ecuaciòn de laplace con condiciones de neumman\n",
    "import numpy as np \n",
    "import matplotlib.pyplot as plt \n",
    "\n",
    "# dimensiones \n",
    "Lx = 10\n",
    "Ly = 10\n",
    "dx = 2\n",
    "dy = dx\n",
    "# Material\n",
    "k = 1\n",
    "\n",
    "# discretizacion de placa\n",
    "x = np.arange(0,Lx+dx,dx)\n",
    "y = np.arange(0,Ly+dy,dy)\n",
    "# creacion de malla\n",
    "X,Y = np.meshgrid(x,y)\n",
    "T = np.zeros((len(y),len(x)))\n",
    "dTdx = np.zeros((len(y),len(x)))\n",
    "dTdy = np.zeros((len(y),len(x)))\n",
    "\n",
    "# condiciones de frontera \n",
    "# condiciones de dirichlet\n",
    "T[-1,:] = 100\n",
    "T[:,-1] = 50\n",
    "# condiciones de Neumman\n",
    "qx0 = 0\n",
    "qy0 = 0\n",
    "dTdx[:,0] = - qx0/k\n",
    "dTdy[0,:] = -qy0/k\n",
    "Tant = np.zeros((len(y),len(x)))\n",
    "Error = 1\n",
    "while Error > 0.1:\n",
    "    Tant = T.copy()\n",
    "    for i in range(0,len(x)-1):\n",
    "        for j in range(0,len(y)-1):\n",
    "            if i == 0 & j == 0:\n",
    "                T[j,i] = (2*T[j][i+1]-2*dx*dTdx[j][i]+2*T[j+1][i]-2*dy*dTdy[j][i])/4\n",
    "            elif i == 0:\n",
    "                T[j,i] = (2*T[j][i+1]-2*dx*dTdx[j][i]+T[j+1][i]+T[j-1][i])/4\n",
    "            elif j == 0:\n",
    "                T[j,i] = (T[j][i+1]+T[j][i-1]+2*T[j+1][i]-2*dy*dTdy[j][i])/4\n",
    "            else:\n",
    "                T[j,i]= (T[j][i+1]+T[j][i-1]+T[j+1][i]+T[j-1][i])/4\n",
    "    Error = np.max(abs(T-Tant))\n",
    "plt.contourf(X,Y,T)\n",
    "plt.colorbar()"
   ]
  },
  {
   "cell_type": "code",
   "execution_count": 12,
   "metadata": {},
   "outputs": [
    {
     "data": {
      "text/plain": [
       "array([[ 82.37819675,  79.95664886,  75.00417596,  68.11186936,\n",
       "         59.58292754,  50.        ],\n",
       "       [ 84.9539973 ,  81.33232935,  76.06612126,  68.99135485,\n",
       "         60.13410389,  50.        ],\n",
       "       [ 88.69304045,  84.47060101,  79.03333922,  71.7140941 ,\n",
       "         61.98092905,  50.        ],\n",
       "       [ 92.99244122,  88.90570749,  83.95091434,  76.89356923,\n",
       "         66.08795385,  50.        ],\n",
       "       [ 97.12033075,  94.25527493,  91.00998489,  85.84521781,\n",
       "         75.48329292,  50.        ],\n",
       "       [100.        , 100.        , 100.        , 100.        ,\n",
       "        100.        ,  50.        ]])"
      ]
     },
     "execution_count": 12,
     "metadata": {},
     "output_type": "execute_result"
    }
   ],
   "source": [
    "\n"
   ]
  }
 ],
 "metadata": {
  "kernelspec": {
   "display_name": "base",
   "language": "python",
   "name": "python3"
  },
  "language_info": {
   "codemirror_mode": {
    "name": "ipython",
    "version": 3
   },
   "file_extension": ".py",
   "mimetype": "text/x-python",
   "name": "python",
   "nbconvert_exporter": "python",
   "pygments_lexer": "ipython3",
   "version": "3.12.4"
  }
 },
 "nbformat": 4,
 "nbformat_minor": 2
}
