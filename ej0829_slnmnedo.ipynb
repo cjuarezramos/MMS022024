{
 "cells": [
  {
   "cell_type": "code",
   "execution_count": 1,
   "id": "33a994f0-7fb4-490c-9fc6-a537aa3b90d4",
   "metadata": {},
   "outputs": [],
   "source": [
    "import matplotlib.pyplot as plt"
   ]
  },
  {
   "cell_type": "code",
   "execution_count": 2,
   "id": "86ed9d17-2fe8-4d81-afd4-921095f6f84f",
   "metadata": {},
   "outputs": [],
   "source": [
    "# Parámetros del sistema\n",
    "M = 20 #kg\n",
    "B = 0.4"
   ]
  },
  {
   "cell_type": "code",
   "execution_count": 3,
   "id": "6c174e9c-b29c-4bc3-a776-7f8c7de28378",
   "metadata": {},
   "outputs": [],
   "source": [
    "# parametros de simulacion\n",
    "tini = 0\n",
    "tfin = 4\n",
    "h = 1"
   ]
  },
  {
   "cell_type": "code",
   "execution_count": 4,
   "id": "04ad8a87-c7ce-41a4-9961-1fc6994aba29",
   "metadata": {},
   "outputs": [],
   "source": [
    "# C.I.\n",
    "v0 = 0 #m/s\n"
   ]
  },
  {
   "cell_type": "code",
   "execution_count": 32,
   "id": "d932c543-69c9-4c6d-b502-33d4bee0aa75",
   "metadata": {},
   "outputs": [
    {
     "data": {
      "text/plain": [
       "[0,\n",
       " 0.005000000000000001,\n",
       " 0.009900000000000003,\n",
       " 0.014702000000000003,\n",
       " 0.019407960000000005]"
      ]
     },
     "execution_count": 32,
     "metadata": {},
     "output_type": "execute_result"
    }
   ],
   "source": [
    "# Entrada\n",
    "f = 0.1\n",
    "# variables informaticas necesarias\n",
    "t = []\n",
    "v = []\n",
    "t.append(tini)\n",
    "v.append(v0)\n",
    "# print(t,v)\n",
    "n = round((tfin-tini)/h)\n",
    "for i in range(n):\n",
    "    v_anterior = v[i]\n",
    "    v_nuevo = v_anterior + h * (-B/M*v_anterior + 1/M * f)\n",
    "    v.append(v_nuevo)\n",
    "    t.append(t[i]+h)\n",
    "\n"
   ]
  },
  {
   "cell_type": "code",
   "execution_count": 28,
   "id": "9f6064d8-67fc-460c-b950-a1dda4064888",
   "metadata": {},
   "outputs": [
    {
     "data": {
      "text/plain": [
       "[0,\n",
       " 0.005000000000000001,\n",
       " 0.009900000000000003,\n",
       " 0.014702000000000003,\n",
       " 0.019407960000000005]"
      ]
     },
     "execution_count": 28,
     "metadata": {},
     "output_type": "execute_result"
    }
   ],
   "source": []
  },
  {
   "cell_type": "code",
   "execution_count": 16,
   "id": "99d04270-a66a-467e-8a5a-ed0ae210aa49",
   "metadata": {},
   "outputs": [],
   "source": [
    "f=0.1"
   ]
  },
  {
   "cell_type": "code",
   "execution_count": null,
   "id": "bedee098-020a-4480-8dc0-df0186f64d13",
   "metadata": {},
   "outputs": [],
   "source": []
  }
 ],
 "metadata": {
  "kernelspec": {
   "display_name": "Python 3 (ipykernel)",
   "language": "python",
   "name": "python3"
  },
  "language_info": {
   "codemirror_mode": {
    "name": "ipython",
    "version": 3
   },
   "file_extension": ".py",
   "mimetype": "text/x-python",
   "name": "python",
   "nbconvert_exporter": "python",
   "pygments_lexer": "ipython3",
   "version": "3.12.4"
  }
 },
 "nbformat": 4,
 "nbformat_minor": 5
}
